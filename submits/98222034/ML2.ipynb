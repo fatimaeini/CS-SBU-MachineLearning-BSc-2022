{
  "nbformat": 4,
  "nbformat_minor": 0,
  "metadata": {
    "colab": {
      "name": "ML2.ipynb",
      "provenance": [],
      "collapsed_sections": []
    },
    "kernelspec": {
      "name": "python3",
      "display_name": "Python 3"
    },
    "language_info": {
      "name": "python"
    }
  },
  "cells": [
    {
      "cell_type": "code",
      "execution_count": null,
      "metadata": {
        "id": "IDK_F1-VCfPU"
      },
      "outputs": [],
      "source": [
        "\n",
        "import numpy as np\n",
        "import pandas as pd"
      ]
    },
    {
      "cell_type": "code",
      "source": [
        "!ls '/content/train.csv'"
      ],
      "metadata": {
        "colab": {
          "base_uri": "https://localhost:8080/"
        },
        "id": "F0BsE3RebLzj",
        "outputId": "0b26c6d2-0e7b-409f-d772-6914087e0b6a"
      },
      "execution_count": null,
      "outputs": [
        {
          "output_type": "stream",
          "name": "stdout",
          "text": [
            "/content/train.csv\n"
          ]
        }
      ]
    },
    {
      "cell_type": "code",
      "source": [
        "df = pd.read_csv('/content/train.csv')\n",
        "df.head(5)"
      ],
      "metadata": {
        "colab": {
          "base_uri": "https://localhost:8080/",
          "height": 300
        },
        "id": "Wmvrstbjd5W_",
        "outputId": "dfea6cf9-42a3-4402-fdfd-3913c10c6689"
      },
      "execution_count": null,
      "outputs": [
        {
          "output_type": "execute_result",
          "data": {
            "text/plain": [
              "   battery_power  blue  clock_speed  dual_sim  fc  four_g  int_memory  m_dep  \\\n",
              "0            842     0          2.2         0   1       0           7    0.6   \n",
              "1           1021     1          0.5         1   0       1          53    0.7   \n",
              "2            563     1          0.5         1   2       1          41    0.9   \n",
              "3            615     1          2.5         0   0       0          10    0.8   \n",
              "4           1821     1          1.2         0  13       1          44    0.6   \n",
              "\n",
              "   mobile_wt  n_cores  ...  px_height  px_width   ram  sc_h  sc_w  talk_time  \\\n",
              "0        188        2  ...         20       756  2549     9     7         19   \n",
              "1        136        3  ...        905      1988  2631    17     3          7   \n",
              "2        145        5  ...       1263      1716  2603    11     2          9   \n",
              "3        131        6  ...       1216      1786  2769    16     8         11   \n",
              "4        141        2  ...       1208      1212  1411     8     2         15   \n",
              "\n",
              "   three_g  touch_screen  wifi  price_range  \n",
              "0        0             0     1            1  \n",
              "1        1             1     0            2  \n",
              "2        1             1     0            2  \n",
              "3        1             0     0            2  \n",
              "4        1             1     0            1  \n",
              "\n",
              "[5 rows x 21 columns]"
            ],
            "text/html": [
              "\n",
              "  <div id=\"df-c994537e-8902-48e7-a72e-9caab2c1b2f4\">\n",
              "    <div class=\"colab-df-container\">\n",
              "      <div>\n",
              "<style scoped>\n",
              "    .dataframe tbody tr th:only-of-type {\n",
              "        vertical-align: middle;\n",
              "    }\n",
              "\n",
              "    .dataframe tbody tr th {\n",
              "        vertical-align: top;\n",
              "    }\n",
              "\n",
              "    .dataframe thead th {\n",
              "        text-align: right;\n",
              "    }\n",
              "</style>\n",
              "<table border=\"1\" class=\"dataframe\">\n",
              "  <thead>\n",
              "    <tr style=\"text-align: right;\">\n",
              "      <th></th>\n",
              "      <th>battery_power</th>\n",
              "      <th>blue</th>\n",
              "      <th>clock_speed</th>\n",
              "      <th>dual_sim</th>\n",
              "      <th>fc</th>\n",
              "      <th>four_g</th>\n",
              "      <th>int_memory</th>\n",
              "      <th>m_dep</th>\n",
              "      <th>mobile_wt</th>\n",
              "      <th>n_cores</th>\n",
              "      <th>...</th>\n",
              "      <th>px_height</th>\n",
              "      <th>px_width</th>\n",
              "      <th>ram</th>\n",
              "      <th>sc_h</th>\n",
              "      <th>sc_w</th>\n",
              "      <th>talk_time</th>\n",
              "      <th>three_g</th>\n",
              "      <th>touch_screen</th>\n",
              "      <th>wifi</th>\n",
              "      <th>price_range</th>\n",
              "    </tr>\n",
              "  </thead>\n",
              "  <tbody>\n",
              "    <tr>\n",
              "      <th>0</th>\n",
              "      <td>842</td>\n",
              "      <td>0</td>\n",
              "      <td>2.2</td>\n",
              "      <td>0</td>\n",
              "      <td>1</td>\n",
              "      <td>0</td>\n",
              "      <td>7</td>\n",
              "      <td>0.6</td>\n",
              "      <td>188</td>\n",
              "      <td>2</td>\n",
              "      <td>...</td>\n",
              "      <td>20</td>\n",
              "      <td>756</td>\n",
              "      <td>2549</td>\n",
              "      <td>9</td>\n",
              "      <td>7</td>\n",
              "      <td>19</td>\n",
              "      <td>0</td>\n",
              "      <td>0</td>\n",
              "      <td>1</td>\n",
              "      <td>1</td>\n",
              "    </tr>\n",
              "    <tr>\n",
              "      <th>1</th>\n",
              "      <td>1021</td>\n",
              "      <td>1</td>\n",
              "      <td>0.5</td>\n",
              "      <td>1</td>\n",
              "      <td>0</td>\n",
              "      <td>1</td>\n",
              "      <td>53</td>\n",
              "      <td>0.7</td>\n",
              "      <td>136</td>\n",
              "      <td>3</td>\n",
              "      <td>...</td>\n",
              "      <td>905</td>\n",
              "      <td>1988</td>\n",
              "      <td>2631</td>\n",
              "      <td>17</td>\n",
              "      <td>3</td>\n",
              "      <td>7</td>\n",
              "      <td>1</td>\n",
              "      <td>1</td>\n",
              "      <td>0</td>\n",
              "      <td>2</td>\n",
              "    </tr>\n",
              "    <tr>\n",
              "      <th>2</th>\n",
              "      <td>563</td>\n",
              "      <td>1</td>\n",
              "      <td>0.5</td>\n",
              "      <td>1</td>\n",
              "      <td>2</td>\n",
              "      <td>1</td>\n",
              "      <td>41</td>\n",
              "      <td>0.9</td>\n",
              "      <td>145</td>\n",
              "      <td>5</td>\n",
              "      <td>...</td>\n",
              "      <td>1263</td>\n",
              "      <td>1716</td>\n",
              "      <td>2603</td>\n",
              "      <td>11</td>\n",
              "      <td>2</td>\n",
              "      <td>9</td>\n",
              "      <td>1</td>\n",
              "      <td>1</td>\n",
              "      <td>0</td>\n",
              "      <td>2</td>\n",
              "    </tr>\n",
              "    <tr>\n",
              "      <th>3</th>\n",
              "      <td>615</td>\n",
              "      <td>1</td>\n",
              "      <td>2.5</td>\n",
              "      <td>0</td>\n",
              "      <td>0</td>\n",
              "      <td>0</td>\n",
              "      <td>10</td>\n",
              "      <td>0.8</td>\n",
              "      <td>131</td>\n",
              "      <td>6</td>\n",
              "      <td>...</td>\n",
              "      <td>1216</td>\n",
              "      <td>1786</td>\n",
              "      <td>2769</td>\n",
              "      <td>16</td>\n",
              "      <td>8</td>\n",
              "      <td>11</td>\n",
              "      <td>1</td>\n",
              "      <td>0</td>\n",
              "      <td>0</td>\n",
              "      <td>2</td>\n",
              "    </tr>\n",
              "    <tr>\n",
              "      <th>4</th>\n",
              "      <td>1821</td>\n",
              "      <td>1</td>\n",
              "      <td>1.2</td>\n",
              "      <td>0</td>\n",
              "      <td>13</td>\n",
              "      <td>1</td>\n",
              "      <td>44</td>\n",
              "      <td>0.6</td>\n",
              "      <td>141</td>\n",
              "      <td>2</td>\n",
              "      <td>...</td>\n",
              "      <td>1208</td>\n",
              "      <td>1212</td>\n",
              "      <td>1411</td>\n",
              "      <td>8</td>\n",
              "      <td>2</td>\n",
              "      <td>15</td>\n",
              "      <td>1</td>\n",
              "      <td>1</td>\n",
              "      <td>0</td>\n",
              "      <td>1</td>\n",
              "    </tr>\n",
              "  </tbody>\n",
              "</table>\n",
              "<p>5 rows × 21 columns</p>\n",
              "</div>\n",
              "      <button class=\"colab-df-convert\" onclick=\"convertToInteractive('df-c994537e-8902-48e7-a72e-9caab2c1b2f4')\"\n",
              "              title=\"Convert this dataframe to an interactive table.\"\n",
              "              style=\"display:none;\">\n",
              "        \n",
              "  <svg xmlns=\"http://www.w3.org/2000/svg\" height=\"24px\"viewBox=\"0 0 24 24\"\n",
              "       width=\"24px\">\n",
              "    <path d=\"M0 0h24v24H0V0z\" fill=\"none\"/>\n",
              "    <path d=\"M18.56 5.44l.94 2.06.94-2.06 2.06-.94-2.06-.94-.94-2.06-.94 2.06-2.06.94zm-11 1L8.5 8.5l.94-2.06 2.06-.94-2.06-.94L8.5 2.5l-.94 2.06-2.06.94zm10 10l.94 2.06.94-2.06 2.06-.94-2.06-.94-.94-2.06-.94 2.06-2.06.94z\"/><path d=\"M17.41 7.96l-1.37-1.37c-.4-.4-.92-.59-1.43-.59-.52 0-1.04.2-1.43.59L10.3 9.45l-7.72 7.72c-.78.78-.78 2.05 0 2.83L4 21.41c.39.39.9.59 1.41.59.51 0 1.02-.2 1.41-.59l7.78-7.78 2.81-2.81c.8-.78.8-2.07 0-2.86zM5.41 20L4 18.59l7.72-7.72 1.47 1.35L5.41 20z\"/>\n",
              "  </svg>\n",
              "      </button>\n",
              "      \n",
              "  <style>\n",
              "    .colab-df-container {\n",
              "      display:flex;\n",
              "      flex-wrap:wrap;\n",
              "      gap: 12px;\n",
              "    }\n",
              "\n",
              "    .colab-df-convert {\n",
              "      background-color: #E8F0FE;\n",
              "      border: none;\n",
              "      border-radius: 50%;\n",
              "      cursor: pointer;\n",
              "      display: none;\n",
              "      fill: #1967D2;\n",
              "      height: 32px;\n",
              "      padding: 0 0 0 0;\n",
              "      width: 32px;\n",
              "    }\n",
              "\n",
              "    .colab-df-convert:hover {\n",
              "      background-color: #E2EBFA;\n",
              "      box-shadow: 0px 1px 2px rgba(60, 64, 67, 0.3), 0px 1px 3px 1px rgba(60, 64, 67, 0.15);\n",
              "      fill: #174EA6;\n",
              "    }\n",
              "\n",
              "    [theme=dark] .colab-df-convert {\n",
              "      background-color: #3B4455;\n",
              "      fill: #D2E3FC;\n",
              "    }\n",
              "\n",
              "    [theme=dark] .colab-df-convert:hover {\n",
              "      background-color: #434B5C;\n",
              "      box-shadow: 0px 1px 3px 1px rgba(0, 0, 0, 0.15);\n",
              "      filter: drop-shadow(0px 1px 2px rgba(0, 0, 0, 0.3));\n",
              "      fill: #FFFFFF;\n",
              "    }\n",
              "  </style>\n",
              "\n",
              "      <script>\n",
              "        const buttonEl =\n",
              "          document.querySelector('#df-c994537e-8902-48e7-a72e-9caab2c1b2f4 button.colab-df-convert');\n",
              "        buttonEl.style.display =\n",
              "          google.colab.kernel.accessAllowed ? 'block' : 'none';\n",
              "\n",
              "        async function convertToInteractive(key) {\n",
              "          const element = document.querySelector('#df-c994537e-8902-48e7-a72e-9caab2c1b2f4');\n",
              "          const dataTable =\n",
              "            await google.colab.kernel.invokeFunction('convertToInteractive',\n",
              "                                                     [key], {});\n",
              "          if (!dataTable) return;\n",
              "\n",
              "          const docLinkHtml = 'Like what you see? Visit the ' +\n",
              "            '<a target=\"_blank\" href=https://colab.research.google.com/notebooks/data_table.ipynb>data table notebook</a>'\n",
              "            + ' to learn more about interactive tables.';\n",
              "          element.innerHTML = '';\n",
              "          dataTable['output_type'] = 'display_data';\n",
              "          await google.colab.output.renderOutput(dataTable, element);\n",
              "          const docLink = document.createElement('div');\n",
              "          docLink.innerHTML = docLinkHtml;\n",
              "          element.appendChild(docLink);\n",
              "        }\n",
              "      </script>\n",
              "    </div>\n",
              "  </div>\n",
              "  "
            ]
          },
          "metadata": {},
          "execution_count": 69
        }
      ]
    },
    {
      "cell_type": "code",
      "source": [
        "df.info()"
      ],
      "metadata": {
        "colab": {
          "base_uri": "https://localhost:8080/"
        },
        "id": "0WyCYF20eABR",
        "outputId": "bb7bd593-c8fe-4952-b589-3d20fa82af5f"
      },
      "execution_count": null,
      "outputs": [
        {
          "output_type": "stream",
          "name": "stdout",
          "text": [
            "<class 'pandas.core.frame.DataFrame'>\n",
            "RangeIndex: 2000 entries, 0 to 1999\n",
            "Data columns (total 21 columns):\n",
            " #   Column         Non-Null Count  Dtype  \n",
            "---  ------         --------------  -----  \n",
            " 0   battery_power  2000 non-null   int64  \n",
            " 1   blue           2000 non-null   int64  \n",
            " 2   clock_speed    2000 non-null   float64\n",
            " 3   dual_sim       2000 non-null   int64  \n",
            " 4   fc             2000 non-null   int64  \n",
            " 5   four_g         2000 non-null   int64  \n",
            " 6   int_memory     2000 non-null   int64  \n",
            " 7   m_dep          2000 non-null   float64\n",
            " 8   mobile_wt      2000 non-null   int64  \n",
            " 9   n_cores        2000 non-null   int64  \n",
            " 10  pc             2000 non-null   int64  \n",
            " 11  px_height      2000 non-null   int64  \n",
            " 12  px_width       2000 non-null   int64  \n",
            " 13  ram            2000 non-null   int64  \n",
            " 14  sc_h           2000 non-null   int64  \n",
            " 15  sc_w           2000 non-null   int64  \n",
            " 16  talk_time      2000 non-null   int64  \n",
            " 17  three_g        2000 non-null   int64  \n",
            " 18  touch_screen   2000 non-null   int64  \n",
            " 19  wifi           2000 non-null   int64  \n",
            " 20  price_range    2000 non-null   int64  \n",
            "dtypes: float64(2), int64(19)\n",
            "memory usage: 328.2 KB\n"
          ]
        }
      ]
    },
    {
      "cell_type": "code",
      "source": [
        "df.shape"
      ],
      "metadata": {
        "colab": {
          "base_uri": "https://localhost:8080/"
        },
        "id": "Z9FdHoIOeNEF",
        "outputId": "5160a7d2-8719-44d9-98b8-d25266626736"
      },
      "execution_count": null,
      "outputs": [
        {
          "output_type": "execute_result",
          "data": {
            "text/plain": [
              "(2000, 21)"
            ]
          },
          "metadata": {},
          "execution_count": 5
        }
      ]
    },
    {
      "cell_type": "code",
      "source": [
        "df.describe()"
      ],
      "metadata": {
        "colab": {
          "base_uri": "https://localhost:8080/",
          "height": 394
        },
        "id": "ATHYoXqgnYhd",
        "outputId": "0d267768-93f5-49d8-c6fb-9b4c38909953"
      },
      "execution_count": null,
      "outputs": [
        {
          "output_type": "execute_result",
          "data": {
            "text/plain": [
              "       battery_power       blue  clock_speed     dual_sim           fc  \\\n",
              "count    2000.000000  2000.0000  2000.000000  2000.000000  2000.000000   \n",
              "mean     1238.518500     0.4950     1.522250     0.509500     4.309500   \n",
              "std       439.418206     0.5001     0.816004     0.500035     4.341444   \n",
              "min       501.000000     0.0000     0.500000     0.000000     0.000000   \n",
              "25%       851.750000     0.0000     0.700000     0.000000     1.000000   \n",
              "50%      1226.000000     0.0000     1.500000     1.000000     3.000000   \n",
              "75%      1615.250000     1.0000     2.200000     1.000000     7.000000   \n",
              "max      1998.000000     1.0000     3.000000     1.000000    19.000000   \n",
              "\n",
              "            four_g   int_memory        m_dep    mobile_wt      n_cores  ...  \\\n",
              "count  2000.000000  2000.000000  2000.000000  2000.000000  2000.000000  ...   \n",
              "mean      0.521500    32.046500     0.501750   140.249000     4.520500  ...   \n",
              "std       0.499662    18.145715     0.288416    35.399655     2.287837  ...   \n",
              "min       0.000000     2.000000     0.100000    80.000000     1.000000  ...   \n",
              "25%       0.000000    16.000000     0.200000   109.000000     3.000000  ...   \n",
              "50%       1.000000    32.000000     0.500000   141.000000     4.000000  ...   \n",
              "75%       1.000000    48.000000     0.800000   170.000000     7.000000  ...   \n",
              "max       1.000000    64.000000     1.000000   200.000000     8.000000  ...   \n",
              "\n",
              "         px_height     px_width          ram         sc_h         sc_w  \\\n",
              "count  2000.000000  2000.000000  2000.000000  2000.000000  2000.000000   \n",
              "mean    645.108000  1251.515500  2124.213000    12.306500     5.767000   \n",
              "std     443.780811   432.199447  1084.732044     4.213245     4.356398   \n",
              "min       0.000000   500.000000   256.000000     5.000000     0.000000   \n",
              "25%     282.750000   874.750000  1207.500000     9.000000     2.000000   \n",
              "50%     564.000000  1247.000000  2146.500000    12.000000     5.000000   \n",
              "75%     947.250000  1633.000000  3064.500000    16.000000     9.000000   \n",
              "max    1960.000000  1998.000000  3998.000000    19.000000    18.000000   \n",
              "\n",
              "         talk_time      three_g  touch_screen         wifi  price_range  \n",
              "count  2000.000000  2000.000000   2000.000000  2000.000000  2000.000000  \n",
              "mean     11.011000     0.761500      0.503000     0.507000     1.500000  \n",
              "std       5.463955     0.426273      0.500116     0.500076     1.118314  \n",
              "min       2.000000     0.000000      0.000000     0.000000     0.000000  \n",
              "25%       6.000000     1.000000      0.000000     0.000000     0.750000  \n",
              "50%      11.000000     1.000000      1.000000     1.000000     1.500000  \n",
              "75%      16.000000     1.000000      1.000000     1.000000     2.250000  \n",
              "max      20.000000     1.000000      1.000000     1.000000     3.000000  \n",
              "\n",
              "[8 rows x 21 columns]"
            ],
            "text/html": [
              "\n",
              "  <div id=\"df-c440a7e5-f585-46f7-b547-98d77700d604\">\n",
              "    <div class=\"colab-df-container\">\n",
              "      <div>\n",
              "<style scoped>\n",
              "    .dataframe tbody tr th:only-of-type {\n",
              "        vertical-align: middle;\n",
              "    }\n",
              "\n",
              "    .dataframe tbody tr th {\n",
              "        vertical-align: top;\n",
              "    }\n",
              "\n",
              "    .dataframe thead th {\n",
              "        text-align: right;\n",
              "    }\n",
              "</style>\n",
              "<table border=\"1\" class=\"dataframe\">\n",
              "  <thead>\n",
              "    <tr style=\"text-align: right;\">\n",
              "      <th></th>\n",
              "      <th>battery_power</th>\n",
              "      <th>blue</th>\n",
              "      <th>clock_speed</th>\n",
              "      <th>dual_sim</th>\n",
              "      <th>fc</th>\n",
              "      <th>four_g</th>\n",
              "      <th>int_memory</th>\n",
              "      <th>m_dep</th>\n",
              "      <th>mobile_wt</th>\n",
              "      <th>n_cores</th>\n",
              "      <th>...</th>\n",
              "      <th>px_height</th>\n",
              "      <th>px_width</th>\n",
              "      <th>ram</th>\n",
              "      <th>sc_h</th>\n",
              "      <th>sc_w</th>\n",
              "      <th>talk_time</th>\n",
              "      <th>three_g</th>\n",
              "      <th>touch_screen</th>\n",
              "      <th>wifi</th>\n",
              "      <th>price_range</th>\n",
              "    </tr>\n",
              "  </thead>\n",
              "  <tbody>\n",
              "    <tr>\n",
              "      <th>count</th>\n",
              "      <td>2000.000000</td>\n",
              "      <td>2000.0000</td>\n",
              "      <td>2000.000000</td>\n",
              "      <td>2000.000000</td>\n",
              "      <td>2000.000000</td>\n",
              "      <td>2000.000000</td>\n",
              "      <td>2000.000000</td>\n",
              "      <td>2000.000000</td>\n",
              "      <td>2000.000000</td>\n",
              "      <td>2000.000000</td>\n",
              "      <td>...</td>\n",
              "      <td>2000.000000</td>\n",
              "      <td>2000.000000</td>\n",
              "      <td>2000.000000</td>\n",
              "      <td>2000.000000</td>\n",
              "      <td>2000.000000</td>\n",
              "      <td>2000.000000</td>\n",
              "      <td>2000.000000</td>\n",
              "      <td>2000.000000</td>\n",
              "      <td>2000.000000</td>\n",
              "      <td>2000.000000</td>\n",
              "    </tr>\n",
              "    <tr>\n",
              "      <th>mean</th>\n",
              "      <td>1238.518500</td>\n",
              "      <td>0.4950</td>\n",
              "      <td>1.522250</td>\n",
              "      <td>0.509500</td>\n",
              "      <td>4.309500</td>\n",
              "      <td>0.521500</td>\n",
              "      <td>32.046500</td>\n",
              "      <td>0.501750</td>\n",
              "      <td>140.249000</td>\n",
              "      <td>4.520500</td>\n",
              "      <td>...</td>\n",
              "      <td>645.108000</td>\n",
              "      <td>1251.515500</td>\n",
              "      <td>2124.213000</td>\n",
              "      <td>12.306500</td>\n",
              "      <td>5.767000</td>\n",
              "      <td>11.011000</td>\n",
              "      <td>0.761500</td>\n",
              "      <td>0.503000</td>\n",
              "      <td>0.507000</td>\n",
              "      <td>1.500000</td>\n",
              "    </tr>\n",
              "    <tr>\n",
              "      <th>std</th>\n",
              "      <td>439.418206</td>\n",
              "      <td>0.5001</td>\n",
              "      <td>0.816004</td>\n",
              "      <td>0.500035</td>\n",
              "      <td>4.341444</td>\n",
              "      <td>0.499662</td>\n",
              "      <td>18.145715</td>\n",
              "      <td>0.288416</td>\n",
              "      <td>35.399655</td>\n",
              "      <td>2.287837</td>\n",
              "      <td>...</td>\n",
              "      <td>443.780811</td>\n",
              "      <td>432.199447</td>\n",
              "      <td>1084.732044</td>\n",
              "      <td>4.213245</td>\n",
              "      <td>4.356398</td>\n",
              "      <td>5.463955</td>\n",
              "      <td>0.426273</td>\n",
              "      <td>0.500116</td>\n",
              "      <td>0.500076</td>\n",
              "      <td>1.118314</td>\n",
              "    </tr>\n",
              "    <tr>\n",
              "      <th>min</th>\n",
              "      <td>501.000000</td>\n",
              "      <td>0.0000</td>\n",
              "      <td>0.500000</td>\n",
              "      <td>0.000000</td>\n",
              "      <td>0.000000</td>\n",
              "      <td>0.000000</td>\n",
              "      <td>2.000000</td>\n",
              "      <td>0.100000</td>\n",
              "      <td>80.000000</td>\n",
              "      <td>1.000000</td>\n",
              "      <td>...</td>\n",
              "      <td>0.000000</td>\n",
              "      <td>500.000000</td>\n",
              "      <td>256.000000</td>\n",
              "      <td>5.000000</td>\n",
              "      <td>0.000000</td>\n",
              "      <td>2.000000</td>\n",
              "      <td>0.000000</td>\n",
              "      <td>0.000000</td>\n",
              "      <td>0.000000</td>\n",
              "      <td>0.000000</td>\n",
              "    </tr>\n",
              "    <tr>\n",
              "      <th>25%</th>\n",
              "      <td>851.750000</td>\n",
              "      <td>0.0000</td>\n",
              "      <td>0.700000</td>\n",
              "      <td>0.000000</td>\n",
              "      <td>1.000000</td>\n",
              "      <td>0.000000</td>\n",
              "      <td>16.000000</td>\n",
              "      <td>0.200000</td>\n",
              "      <td>109.000000</td>\n",
              "      <td>3.000000</td>\n",
              "      <td>...</td>\n",
              "      <td>282.750000</td>\n",
              "      <td>874.750000</td>\n",
              "      <td>1207.500000</td>\n",
              "      <td>9.000000</td>\n",
              "      <td>2.000000</td>\n",
              "      <td>6.000000</td>\n",
              "      <td>1.000000</td>\n",
              "      <td>0.000000</td>\n",
              "      <td>0.000000</td>\n",
              "      <td>0.750000</td>\n",
              "    </tr>\n",
              "    <tr>\n",
              "      <th>50%</th>\n",
              "      <td>1226.000000</td>\n",
              "      <td>0.0000</td>\n",
              "      <td>1.500000</td>\n",
              "      <td>1.000000</td>\n",
              "      <td>3.000000</td>\n",
              "      <td>1.000000</td>\n",
              "      <td>32.000000</td>\n",
              "      <td>0.500000</td>\n",
              "      <td>141.000000</td>\n",
              "      <td>4.000000</td>\n",
              "      <td>...</td>\n",
              "      <td>564.000000</td>\n",
              "      <td>1247.000000</td>\n",
              "      <td>2146.500000</td>\n",
              "      <td>12.000000</td>\n",
              "      <td>5.000000</td>\n",
              "      <td>11.000000</td>\n",
              "      <td>1.000000</td>\n",
              "      <td>1.000000</td>\n",
              "      <td>1.000000</td>\n",
              "      <td>1.500000</td>\n",
              "    </tr>\n",
              "    <tr>\n",
              "      <th>75%</th>\n",
              "      <td>1615.250000</td>\n",
              "      <td>1.0000</td>\n",
              "      <td>2.200000</td>\n",
              "      <td>1.000000</td>\n",
              "      <td>7.000000</td>\n",
              "      <td>1.000000</td>\n",
              "      <td>48.000000</td>\n",
              "      <td>0.800000</td>\n",
              "      <td>170.000000</td>\n",
              "      <td>7.000000</td>\n",
              "      <td>...</td>\n",
              "      <td>947.250000</td>\n",
              "      <td>1633.000000</td>\n",
              "      <td>3064.500000</td>\n",
              "      <td>16.000000</td>\n",
              "      <td>9.000000</td>\n",
              "      <td>16.000000</td>\n",
              "      <td>1.000000</td>\n",
              "      <td>1.000000</td>\n",
              "      <td>1.000000</td>\n",
              "      <td>2.250000</td>\n",
              "    </tr>\n",
              "    <tr>\n",
              "      <th>max</th>\n",
              "      <td>1998.000000</td>\n",
              "      <td>1.0000</td>\n",
              "      <td>3.000000</td>\n",
              "      <td>1.000000</td>\n",
              "      <td>19.000000</td>\n",
              "      <td>1.000000</td>\n",
              "      <td>64.000000</td>\n",
              "      <td>1.000000</td>\n",
              "      <td>200.000000</td>\n",
              "      <td>8.000000</td>\n",
              "      <td>...</td>\n",
              "      <td>1960.000000</td>\n",
              "      <td>1998.000000</td>\n",
              "      <td>3998.000000</td>\n",
              "      <td>19.000000</td>\n",
              "      <td>18.000000</td>\n",
              "      <td>20.000000</td>\n",
              "      <td>1.000000</td>\n",
              "      <td>1.000000</td>\n",
              "      <td>1.000000</td>\n",
              "      <td>3.000000</td>\n",
              "    </tr>\n",
              "  </tbody>\n",
              "</table>\n",
              "<p>8 rows × 21 columns</p>\n",
              "</div>\n",
              "      <button class=\"colab-df-convert\" onclick=\"convertToInteractive('df-c440a7e5-f585-46f7-b547-98d77700d604')\"\n",
              "              title=\"Convert this dataframe to an interactive table.\"\n",
              "              style=\"display:none;\">\n",
              "        \n",
              "  <svg xmlns=\"http://www.w3.org/2000/svg\" height=\"24px\"viewBox=\"0 0 24 24\"\n",
              "       width=\"24px\">\n",
              "    <path d=\"M0 0h24v24H0V0z\" fill=\"none\"/>\n",
              "    <path d=\"M18.56 5.44l.94 2.06.94-2.06 2.06-.94-2.06-.94-.94-2.06-.94 2.06-2.06.94zm-11 1L8.5 8.5l.94-2.06 2.06-.94-2.06-.94L8.5 2.5l-.94 2.06-2.06.94zm10 10l.94 2.06.94-2.06 2.06-.94-2.06-.94-.94-2.06-.94 2.06-2.06.94z\"/><path d=\"M17.41 7.96l-1.37-1.37c-.4-.4-.92-.59-1.43-.59-.52 0-1.04.2-1.43.59L10.3 9.45l-7.72 7.72c-.78.78-.78 2.05 0 2.83L4 21.41c.39.39.9.59 1.41.59.51 0 1.02-.2 1.41-.59l7.78-7.78 2.81-2.81c.8-.78.8-2.07 0-2.86zM5.41 20L4 18.59l7.72-7.72 1.47 1.35L5.41 20z\"/>\n",
              "  </svg>\n",
              "      </button>\n",
              "      \n",
              "  <style>\n",
              "    .colab-df-container {\n",
              "      display:flex;\n",
              "      flex-wrap:wrap;\n",
              "      gap: 12px;\n",
              "    }\n",
              "\n",
              "    .colab-df-convert {\n",
              "      background-color: #E8F0FE;\n",
              "      border: none;\n",
              "      border-radius: 50%;\n",
              "      cursor: pointer;\n",
              "      display: none;\n",
              "      fill: #1967D2;\n",
              "      height: 32px;\n",
              "      padding: 0 0 0 0;\n",
              "      width: 32px;\n",
              "    }\n",
              "\n",
              "    .colab-df-convert:hover {\n",
              "      background-color: #E2EBFA;\n",
              "      box-shadow: 0px 1px 2px rgba(60, 64, 67, 0.3), 0px 1px 3px 1px rgba(60, 64, 67, 0.15);\n",
              "      fill: #174EA6;\n",
              "    }\n",
              "\n",
              "    [theme=dark] .colab-df-convert {\n",
              "      background-color: #3B4455;\n",
              "      fill: #D2E3FC;\n",
              "    }\n",
              "\n",
              "    [theme=dark] .colab-df-convert:hover {\n",
              "      background-color: #434B5C;\n",
              "      box-shadow: 0px 1px 3px 1px rgba(0, 0, 0, 0.15);\n",
              "      filter: drop-shadow(0px 1px 2px rgba(0, 0, 0, 0.3));\n",
              "      fill: #FFFFFF;\n",
              "    }\n",
              "  </style>\n",
              "\n",
              "      <script>\n",
              "        const buttonEl =\n",
              "          document.querySelector('#df-c440a7e5-f585-46f7-b547-98d77700d604 button.colab-df-convert');\n",
              "        buttonEl.style.display =\n",
              "          google.colab.kernel.accessAllowed ? 'block' : 'none';\n",
              "\n",
              "        async function convertToInteractive(key) {\n",
              "          const element = document.querySelector('#df-c440a7e5-f585-46f7-b547-98d77700d604');\n",
              "          const dataTable =\n",
              "            await google.colab.kernel.invokeFunction('convertToInteractive',\n",
              "                                                     [key], {});\n",
              "          if (!dataTable) return;\n",
              "\n",
              "          const docLinkHtml = 'Like what you see? Visit the ' +\n",
              "            '<a target=\"_blank\" href=https://colab.research.google.com/notebooks/data_table.ipynb>data table notebook</a>'\n",
              "            + ' to learn more about interactive tables.';\n",
              "          element.innerHTML = '';\n",
              "          dataTable['output_type'] = 'display_data';\n",
              "          await google.colab.output.renderOutput(dataTable, element);\n",
              "          const docLink = document.createElement('div');\n",
              "          docLink.innerHTML = docLinkHtml;\n",
              "          element.appendChild(docLink);\n",
              "        }\n",
              "      </script>\n",
              "    </div>\n",
              "  </div>\n",
              "  "
            ]
          },
          "metadata": {},
          "execution_count": 12
        }
      ]
    },
    {
      "cell_type": "code",
      "source": [
        "#delete illegal and useless data (NULL values and outliers)\n",
        "df.dropna()"
      ],
      "metadata": {
        "colab": {
          "base_uri": "https://localhost:8080/",
          "height": 488
        },
        "id": "Qx-xe7QWhnQe",
        "outputId": "0c680733-7625-42e8-e229-15b4bcea1bdc"
      },
      "execution_count": null,
      "outputs": [
        {
          "output_type": "execute_result",
          "data": {
            "text/plain": [
              "      battery_power  blue  clock_speed  dual_sim  fc  four_g  int_memory  \\\n",
              "0               842     0          2.2         0   1       0           7   \n",
              "1              1021     1          0.5         1   0       1          53   \n",
              "2               563     1          0.5         1   2       1          41   \n",
              "3               615     1          2.5         0   0       0          10   \n",
              "4              1821     1          1.2         0  13       1          44   \n",
              "...             ...   ...          ...       ...  ..     ...         ...   \n",
              "1995            794     1          0.5         1   0       1           2   \n",
              "1996           1965     1          2.6         1   0       0          39   \n",
              "1997           1911     0          0.9         1   1       1          36   \n",
              "1998           1512     0          0.9         0   4       1          46   \n",
              "1999            510     1          2.0         1   5       1          45   \n",
              "\n",
              "      m_dep  mobile_wt  n_cores  ...  px_height  px_width   ram  sc_h  sc_w  \\\n",
              "0       0.6        188        2  ...         20       756  2549     9     7   \n",
              "1       0.7        136        3  ...        905      1988  2631    17     3   \n",
              "2       0.9        145        5  ...       1263      1716  2603    11     2   \n",
              "3       0.8        131        6  ...       1216      1786  2769    16     8   \n",
              "4       0.6        141        2  ...       1208      1212  1411     8     2   \n",
              "...     ...        ...      ...  ...        ...       ...   ...   ...   ...   \n",
              "1995    0.8        106        6  ...       1222      1890   668    13     4   \n",
              "1996    0.2        187        4  ...        915      1965  2032    11    10   \n",
              "1997    0.7        108        8  ...        868      1632  3057     9     1   \n",
              "1998    0.1        145        5  ...        336       670   869    18    10   \n",
              "1999    0.9        168        6  ...        483       754  3919    19     4   \n",
              "\n",
              "      talk_time  three_g  touch_screen  wifi  price_range  \n",
              "0            19        0             0     1            1  \n",
              "1             7        1             1     0            2  \n",
              "2             9        1             1     0            2  \n",
              "3            11        1             0     0            2  \n",
              "4            15        1             1     0            1  \n",
              "...         ...      ...           ...   ...          ...  \n",
              "1995         19        1             1     0            0  \n",
              "1996         16        1             1     1            2  \n",
              "1997          5        1             1     0            3  \n",
              "1998         19        1             1     1            0  \n",
              "1999          2        1             1     1            3  \n",
              "\n",
              "[2000 rows x 21 columns]"
            ],
            "text/html": [
              "\n",
              "  <div id=\"df-26056488-fe61-48ce-b0c1-7765368f7b2c\">\n",
              "    <div class=\"colab-df-container\">\n",
              "      <div>\n",
              "<style scoped>\n",
              "    .dataframe tbody tr th:only-of-type {\n",
              "        vertical-align: middle;\n",
              "    }\n",
              "\n",
              "    .dataframe tbody tr th {\n",
              "        vertical-align: top;\n",
              "    }\n",
              "\n",
              "    .dataframe thead th {\n",
              "        text-align: right;\n",
              "    }\n",
              "</style>\n",
              "<table border=\"1\" class=\"dataframe\">\n",
              "  <thead>\n",
              "    <tr style=\"text-align: right;\">\n",
              "      <th></th>\n",
              "      <th>battery_power</th>\n",
              "      <th>blue</th>\n",
              "      <th>clock_speed</th>\n",
              "      <th>dual_sim</th>\n",
              "      <th>fc</th>\n",
              "      <th>four_g</th>\n",
              "      <th>int_memory</th>\n",
              "      <th>m_dep</th>\n",
              "      <th>mobile_wt</th>\n",
              "      <th>n_cores</th>\n",
              "      <th>...</th>\n",
              "      <th>px_height</th>\n",
              "      <th>px_width</th>\n",
              "      <th>ram</th>\n",
              "      <th>sc_h</th>\n",
              "      <th>sc_w</th>\n",
              "      <th>talk_time</th>\n",
              "      <th>three_g</th>\n",
              "      <th>touch_screen</th>\n",
              "      <th>wifi</th>\n",
              "      <th>price_range</th>\n",
              "    </tr>\n",
              "  </thead>\n",
              "  <tbody>\n",
              "    <tr>\n",
              "      <th>0</th>\n",
              "      <td>842</td>\n",
              "      <td>0</td>\n",
              "      <td>2.2</td>\n",
              "      <td>0</td>\n",
              "      <td>1</td>\n",
              "      <td>0</td>\n",
              "      <td>7</td>\n",
              "      <td>0.6</td>\n",
              "      <td>188</td>\n",
              "      <td>2</td>\n",
              "      <td>...</td>\n",
              "      <td>20</td>\n",
              "      <td>756</td>\n",
              "      <td>2549</td>\n",
              "      <td>9</td>\n",
              "      <td>7</td>\n",
              "      <td>19</td>\n",
              "      <td>0</td>\n",
              "      <td>0</td>\n",
              "      <td>1</td>\n",
              "      <td>1</td>\n",
              "    </tr>\n",
              "    <tr>\n",
              "      <th>1</th>\n",
              "      <td>1021</td>\n",
              "      <td>1</td>\n",
              "      <td>0.5</td>\n",
              "      <td>1</td>\n",
              "      <td>0</td>\n",
              "      <td>1</td>\n",
              "      <td>53</td>\n",
              "      <td>0.7</td>\n",
              "      <td>136</td>\n",
              "      <td>3</td>\n",
              "      <td>...</td>\n",
              "      <td>905</td>\n",
              "      <td>1988</td>\n",
              "      <td>2631</td>\n",
              "      <td>17</td>\n",
              "      <td>3</td>\n",
              "      <td>7</td>\n",
              "      <td>1</td>\n",
              "      <td>1</td>\n",
              "      <td>0</td>\n",
              "      <td>2</td>\n",
              "    </tr>\n",
              "    <tr>\n",
              "      <th>2</th>\n",
              "      <td>563</td>\n",
              "      <td>1</td>\n",
              "      <td>0.5</td>\n",
              "      <td>1</td>\n",
              "      <td>2</td>\n",
              "      <td>1</td>\n",
              "      <td>41</td>\n",
              "      <td>0.9</td>\n",
              "      <td>145</td>\n",
              "      <td>5</td>\n",
              "      <td>...</td>\n",
              "      <td>1263</td>\n",
              "      <td>1716</td>\n",
              "      <td>2603</td>\n",
              "      <td>11</td>\n",
              "      <td>2</td>\n",
              "      <td>9</td>\n",
              "      <td>1</td>\n",
              "      <td>1</td>\n",
              "      <td>0</td>\n",
              "      <td>2</td>\n",
              "    </tr>\n",
              "    <tr>\n",
              "      <th>3</th>\n",
              "      <td>615</td>\n",
              "      <td>1</td>\n",
              "      <td>2.5</td>\n",
              "      <td>0</td>\n",
              "      <td>0</td>\n",
              "      <td>0</td>\n",
              "      <td>10</td>\n",
              "      <td>0.8</td>\n",
              "      <td>131</td>\n",
              "      <td>6</td>\n",
              "      <td>...</td>\n",
              "      <td>1216</td>\n",
              "      <td>1786</td>\n",
              "      <td>2769</td>\n",
              "      <td>16</td>\n",
              "      <td>8</td>\n",
              "      <td>11</td>\n",
              "      <td>1</td>\n",
              "      <td>0</td>\n",
              "      <td>0</td>\n",
              "      <td>2</td>\n",
              "    </tr>\n",
              "    <tr>\n",
              "      <th>4</th>\n",
              "      <td>1821</td>\n",
              "      <td>1</td>\n",
              "      <td>1.2</td>\n",
              "      <td>0</td>\n",
              "      <td>13</td>\n",
              "      <td>1</td>\n",
              "      <td>44</td>\n",
              "      <td>0.6</td>\n",
              "      <td>141</td>\n",
              "      <td>2</td>\n",
              "      <td>...</td>\n",
              "      <td>1208</td>\n",
              "      <td>1212</td>\n",
              "      <td>1411</td>\n",
              "      <td>8</td>\n",
              "      <td>2</td>\n",
              "      <td>15</td>\n",
              "      <td>1</td>\n",
              "      <td>1</td>\n",
              "      <td>0</td>\n",
              "      <td>1</td>\n",
              "    </tr>\n",
              "    <tr>\n",
              "      <th>...</th>\n",
              "      <td>...</td>\n",
              "      <td>...</td>\n",
              "      <td>...</td>\n",
              "      <td>...</td>\n",
              "      <td>...</td>\n",
              "      <td>...</td>\n",
              "      <td>...</td>\n",
              "      <td>...</td>\n",
              "      <td>...</td>\n",
              "      <td>...</td>\n",
              "      <td>...</td>\n",
              "      <td>...</td>\n",
              "      <td>...</td>\n",
              "      <td>...</td>\n",
              "      <td>...</td>\n",
              "      <td>...</td>\n",
              "      <td>...</td>\n",
              "      <td>...</td>\n",
              "      <td>...</td>\n",
              "      <td>...</td>\n",
              "      <td>...</td>\n",
              "    </tr>\n",
              "    <tr>\n",
              "      <th>1995</th>\n",
              "      <td>794</td>\n",
              "      <td>1</td>\n",
              "      <td>0.5</td>\n",
              "      <td>1</td>\n",
              "      <td>0</td>\n",
              "      <td>1</td>\n",
              "      <td>2</td>\n",
              "      <td>0.8</td>\n",
              "      <td>106</td>\n",
              "      <td>6</td>\n",
              "      <td>...</td>\n",
              "      <td>1222</td>\n",
              "      <td>1890</td>\n",
              "      <td>668</td>\n",
              "      <td>13</td>\n",
              "      <td>4</td>\n",
              "      <td>19</td>\n",
              "      <td>1</td>\n",
              "      <td>1</td>\n",
              "      <td>0</td>\n",
              "      <td>0</td>\n",
              "    </tr>\n",
              "    <tr>\n",
              "      <th>1996</th>\n",
              "      <td>1965</td>\n",
              "      <td>1</td>\n",
              "      <td>2.6</td>\n",
              "      <td>1</td>\n",
              "      <td>0</td>\n",
              "      <td>0</td>\n",
              "      <td>39</td>\n",
              "      <td>0.2</td>\n",
              "      <td>187</td>\n",
              "      <td>4</td>\n",
              "      <td>...</td>\n",
              "      <td>915</td>\n",
              "      <td>1965</td>\n",
              "      <td>2032</td>\n",
              "      <td>11</td>\n",
              "      <td>10</td>\n",
              "      <td>16</td>\n",
              "      <td>1</td>\n",
              "      <td>1</td>\n",
              "      <td>1</td>\n",
              "      <td>2</td>\n",
              "    </tr>\n",
              "    <tr>\n",
              "      <th>1997</th>\n",
              "      <td>1911</td>\n",
              "      <td>0</td>\n",
              "      <td>0.9</td>\n",
              "      <td>1</td>\n",
              "      <td>1</td>\n",
              "      <td>1</td>\n",
              "      <td>36</td>\n",
              "      <td>0.7</td>\n",
              "      <td>108</td>\n",
              "      <td>8</td>\n",
              "      <td>...</td>\n",
              "      <td>868</td>\n",
              "      <td>1632</td>\n",
              "      <td>3057</td>\n",
              "      <td>9</td>\n",
              "      <td>1</td>\n",
              "      <td>5</td>\n",
              "      <td>1</td>\n",
              "      <td>1</td>\n",
              "      <td>0</td>\n",
              "      <td>3</td>\n",
              "    </tr>\n",
              "    <tr>\n",
              "      <th>1998</th>\n",
              "      <td>1512</td>\n",
              "      <td>0</td>\n",
              "      <td>0.9</td>\n",
              "      <td>0</td>\n",
              "      <td>4</td>\n",
              "      <td>1</td>\n",
              "      <td>46</td>\n",
              "      <td>0.1</td>\n",
              "      <td>145</td>\n",
              "      <td>5</td>\n",
              "      <td>...</td>\n",
              "      <td>336</td>\n",
              "      <td>670</td>\n",
              "      <td>869</td>\n",
              "      <td>18</td>\n",
              "      <td>10</td>\n",
              "      <td>19</td>\n",
              "      <td>1</td>\n",
              "      <td>1</td>\n",
              "      <td>1</td>\n",
              "      <td>0</td>\n",
              "    </tr>\n",
              "    <tr>\n",
              "      <th>1999</th>\n",
              "      <td>510</td>\n",
              "      <td>1</td>\n",
              "      <td>2.0</td>\n",
              "      <td>1</td>\n",
              "      <td>5</td>\n",
              "      <td>1</td>\n",
              "      <td>45</td>\n",
              "      <td>0.9</td>\n",
              "      <td>168</td>\n",
              "      <td>6</td>\n",
              "      <td>...</td>\n",
              "      <td>483</td>\n",
              "      <td>754</td>\n",
              "      <td>3919</td>\n",
              "      <td>19</td>\n",
              "      <td>4</td>\n",
              "      <td>2</td>\n",
              "      <td>1</td>\n",
              "      <td>1</td>\n",
              "      <td>1</td>\n",
              "      <td>3</td>\n",
              "    </tr>\n",
              "  </tbody>\n",
              "</table>\n",
              "<p>2000 rows × 21 columns</p>\n",
              "</div>\n",
              "      <button class=\"colab-df-convert\" onclick=\"convertToInteractive('df-26056488-fe61-48ce-b0c1-7765368f7b2c')\"\n",
              "              title=\"Convert this dataframe to an interactive table.\"\n",
              "              style=\"display:none;\">\n",
              "        \n",
              "  <svg xmlns=\"http://www.w3.org/2000/svg\" height=\"24px\"viewBox=\"0 0 24 24\"\n",
              "       width=\"24px\">\n",
              "    <path d=\"M0 0h24v24H0V0z\" fill=\"none\"/>\n",
              "    <path d=\"M18.56 5.44l.94 2.06.94-2.06 2.06-.94-2.06-.94-.94-2.06-.94 2.06-2.06.94zm-11 1L8.5 8.5l.94-2.06 2.06-.94-2.06-.94L8.5 2.5l-.94 2.06-2.06.94zm10 10l.94 2.06.94-2.06 2.06-.94-2.06-.94-.94-2.06-.94 2.06-2.06.94z\"/><path d=\"M17.41 7.96l-1.37-1.37c-.4-.4-.92-.59-1.43-.59-.52 0-1.04.2-1.43.59L10.3 9.45l-7.72 7.72c-.78.78-.78 2.05 0 2.83L4 21.41c.39.39.9.59 1.41.59.51 0 1.02-.2 1.41-.59l7.78-7.78 2.81-2.81c.8-.78.8-2.07 0-2.86zM5.41 20L4 18.59l7.72-7.72 1.47 1.35L5.41 20z\"/>\n",
              "  </svg>\n",
              "      </button>\n",
              "      \n",
              "  <style>\n",
              "    .colab-df-container {\n",
              "      display:flex;\n",
              "      flex-wrap:wrap;\n",
              "      gap: 12px;\n",
              "    }\n",
              "\n",
              "    .colab-df-convert {\n",
              "      background-color: #E8F0FE;\n",
              "      border: none;\n",
              "      border-radius: 50%;\n",
              "      cursor: pointer;\n",
              "      display: none;\n",
              "      fill: #1967D2;\n",
              "      height: 32px;\n",
              "      padding: 0 0 0 0;\n",
              "      width: 32px;\n",
              "    }\n",
              "\n",
              "    .colab-df-convert:hover {\n",
              "      background-color: #E2EBFA;\n",
              "      box-shadow: 0px 1px 2px rgba(60, 64, 67, 0.3), 0px 1px 3px 1px rgba(60, 64, 67, 0.15);\n",
              "      fill: #174EA6;\n",
              "    }\n",
              "\n",
              "    [theme=dark] .colab-df-convert {\n",
              "      background-color: #3B4455;\n",
              "      fill: #D2E3FC;\n",
              "    }\n",
              "\n",
              "    [theme=dark] .colab-df-convert:hover {\n",
              "      background-color: #434B5C;\n",
              "      box-shadow: 0px 1px 3px 1px rgba(0, 0, 0, 0.15);\n",
              "      filter: drop-shadow(0px 1px 2px rgba(0, 0, 0, 0.3));\n",
              "      fill: #FFFFFF;\n",
              "    }\n",
              "  </style>\n",
              "\n",
              "      <script>\n",
              "        const buttonEl =\n",
              "          document.querySelector('#df-26056488-fe61-48ce-b0c1-7765368f7b2c button.colab-df-convert');\n",
              "        buttonEl.style.display =\n",
              "          google.colab.kernel.accessAllowed ? 'block' : 'none';\n",
              "\n",
              "        async function convertToInteractive(key) {\n",
              "          const element = document.querySelector('#df-26056488-fe61-48ce-b0c1-7765368f7b2c');\n",
              "          const dataTable =\n",
              "            await google.colab.kernel.invokeFunction('convertToInteractive',\n",
              "                                                     [key], {});\n",
              "          if (!dataTable) return;\n",
              "\n",
              "          const docLinkHtml = 'Like what you see? Visit the ' +\n",
              "            '<a target=\"_blank\" href=https://colab.research.google.com/notebooks/data_table.ipynb>data table notebook</a>'\n",
              "            + ' to learn more about interactive tables.';\n",
              "          element.innerHTML = '';\n",
              "          dataTable['output_type'] = 'display_data';\n",
              "          await google.colab.output.renderOutput(dataTable, element);\n",
              "          const docLink = document.createElement('div');\n",
              "          docLink.innerHTML = docLinkHtml;\n",
              "          element.appendChild(docLink);\n",
              "        }\n",
              "      </script>\n",
              "    </div>\n",
              "  </div>\n",
              "  "
            ]
          },
          "metadata": {},
          "execution_count": 70
        }
      ]
    },
    {
      "cell_type": "code",
      "source": [
        "df.shape"
      ],
      "metadata": {
        "colab": {
          "base_uri": "https://localhost:8080/"
        },
        "id": "4Hdh6vNA4LBf",
        "outputId": "56c87b93-8c7f-4f40-f401-1a06a88fc6cc"
      },
      "execution_count": null,
      "outputs": [
        {
          "output_type": "execute_result",
          "data": {
            "text/plain": [
              "(2000, 21)"
            ]
          },
          "metadata": {},
          "execution_count": 7
        }
      ]
    },
    {
      "cell_type": "markdown",
      "source": [
        "no null values found"
      ],
      "metadata": {
        "id": "m0xI_LQNkygJ"
      }
    },
    {
      "cell_type": "code",
      "source": [
        "#find outliers using variance and standard deviation\n",
        "lower_boundary = df.mean() - 3*df.std()\n",
        "print(lower_boundary)\n",
        "upper_boundary = df.mean() + 3*df.std()\n",
        "print(upper_boundary)"
      ],
      "metadata": {
        "colab": {
          "base_uri": "https://localhost:8080/"
        },
        "id": "tbt1fbaWpV3A",
        "outputId": "d01c8793-c579-4ec2-f01e-d6b73e906a25"
      },
      "execution_count": null,
      "outputs": [
        {
          "output_type": "stream",
          "name": "stdout",
          "text": [
            "battery_power     -79.736118\n",
            "blue               -1.005300\n",
            "clock_speed        -0.925763\n",
            "dual_sim           -0.990604\n",
            "fc                 -8.714831\n",
            "four_g             -0.977487\n",
            "int_memory        -22.390645\n",
            "m_dep              -0.363497\n",
            "mobile_wt          34.050035\n",
            "n_cores            -2.343010\n",
            "pc                 -8.276445\n",
            "px_height        -686.234432\n",
            "px_width          -45.082841\n",
            "ram             -1129.983131\n",
            "sc_h               -0.333235\n",
            "sc_w               -7.302193\n",
            "talk_time          -5.380866\n",
            "three_g            -0.517319\n",
            "touch_screen       -0.997348\n",
            "wifi               -0.993228\n",
            "price_range        -1.854941\n",
            "dtype: float64\n",
            "battery_power    2556.773118\n",
            "blue                1.995300\n",
            "clock_speed         3.970263\n",
            "dual_sim            2.009604\n",
            "fc                 17.333831\n",
            "four_g              2.020487\n",
            "int_memory         86.483645\n",
            "m_dep               1.366997\n",
            "mobile_wt         246.447965\n",
            "n_cores            11.384010\n",
            "pc                 28.109445\n",
            "px_height        1976.450432\n",
            "px_width         2548.113841\n",
            "ram              5378.409131\n",
            "sc_h               24.946235\n",
            "sc_w               18.836193\n",
            "talk_time          27.402866\n",
            "three_g             2.040319\n",
            "touch_screen        2.003348\n",
            "wifi                2.007228\n",
            "price_range         4.854941\n",
            "dtype: float64\n"
          ]
        }
      ]
    },
    {
      "cell_type": "code",
      "source": [
        "for column in df:\n",
        "  #if(column.isNumeric()):\n",
        "    if((df[column] < -79.736118) or (df[column] > 2556.773118)):\n",
        "      df.drop(df[column])"
      ],
      "metadata": {
        "colab": {
          "base_uri": "https://localhost:8080/",
          "height": 339
        },
        "id": "XgSn1q5zttY9",
        "outputId": "b301b175-4d30-4b3f-b77b-5308b2373456"
      },
      "execution_count": null,
      "outputs": [
        {
          "output_type": "error",
          "ename": "ValueError",
          "evalue": "ignored",
          "traceback": [
            "\u001b[0;31m---------------------------------------------------------------------------\u001b[0m",
            "\u001b[0;31mValueError\u001b[0m                                Traceback (most recent call last)",
            "\u001b[0;32m<ipython-input-72-6f613ef584ad>\u001b[0m in \u001b[0;36m<module>\u001b[0;34m()\u001b[0m\n\u001b[1;32m      1\u001b[0m \u001b[0;32mfor\u001b[0m \u001b[0mcolumn\u001b[0m \u001b[0;32min\u001b[0m \u001b[0mdf\u001b[0m\u001b[0;34m:\u001b[0m\u001b[0;34m\u001b[0m\u001b[0;34m\u001b[0m\u001b[0m\n\u001b[1;32m      2\u001b[0m   \u001b[0;31m#if(column.isNumeric()):\u001b[0m\u001b[0;34m\u001b[0m\u001b[0;34m\u001b[0m\u001b[0;34m\u001b[0m\u001b[0m\n\u001b[0;32m----> 3\u001b[0;31m     \u001b[0;32mif\u001b[0m\u001b[0;34m(\u001b[0m\u001b[0;34m(\u001b[0m\u001b[0mdf\u001b[0m\u001b[0;34m[\u001b[0m\u001b[0mcolumn\u001b[0m\u001b[0;34m]\u001b[0m \u001b[0;34m<\u001b[0m \u001b[0;34m-\u001b[0m\u001b[0;36m79.736118\u001b[0m\u001b[0;34m)\u001b[0m \u001b[0;32mor\u001b[0m \u001b[0;34m(\u001b[0m\u001b[0mdf\u001b[0m\u001b[0;34m[\u001b[0m\u001b[0mcolumn\u001b[0m\u001b[0;34m]\u001b[0m \u001b[0;34m>\u001b[0m \u001b[0;36m2556.773118\u001b[0m\u001b[0;34m)\u001b[0m\u001b[0;34m)\u001b[0m\u001b[0;34m:\u001b[0m\u001b[0;34m\u001b[0m\u001b[0;34m\u001b[0m\u001b[0m\n\u001b[0m\u001b[1;32m      4\u001b[0m       \u001b[0mdf\u001b[0m\u001b[0;34m.\u001b[0m\u001b[0mdrop\u001b[0m\u001b[0;34m(\u001b[0m\u001b[0mdf\u001b[0m\u001b[0;34m[\u001b[0m\u001b[0mcolumn\u001b[0m\u001b[0;34m]\u001b[0m\u001b[0;34m)\u001b[0m\u001b[0;34m\u001b[0m\u001b[0;34m\u001b[0m\u001b[0m\n",
            "\u001b[0;32m/usr/local/lib/python3.7/dist-packages/pandas/core/generic.py\u001b[0m in \u001b[0;36m__nonzero__\u001b[0;34m(self)\u001b[0m\n\u001b[1;32m   1536\u001b[0m     \u001b[0;32mdef\u001b[0m \u001b[0m__nonzero__\u001b[0m\u001b[0;34m(\u001b[0m\u001b[0mself\u001b[0m\u001b[0;34m)\u001b[0m\u001b[0;34m:\u001b[0m\u001b[0;34m\u001b[0m\u001b[0;34m\u001b[0m\u001b[0m\n\u001b[1;32m   1537\u001b[0m         raise ValueError(\n\u001b[0;32m-> 1538\u001b[0;31m             \u001b[0;34mf\"The truth value of a {type(self).__name__} is ambiguous. \"\u001b[0m\u001b[0;34m\u001b[0m\u001b[0;34m\u001b[0m\u001b[0m\n\u001b[0m\u001b[1;32m   1539\u001b[0m             \u001b[0;34m\"Use a.empty, a.bool(), a.item(), a.any() or a.all().\"\u001b[0m\u001b[0;34m\u001b[0m\u001b[0;34m\u001b[0m\u001b[0m\n\u001b[1;32m   1540\u001b[0m         )\n",
            "\u001b[0;31mValueError\u001b[0m: The truth value of a Series is ambiguous. Use a.empty, a.bool(), a.item(), a.any() or a.all()."
          ]
        }
      ]
    },
    {
      "cell_type": "code",
      "source": [
        "#for column in df:\n",
        "df = df[(df['battery_power'] < 2556.773118 and df[battery_power] > -79.736118)]"
      ],
      "metadata": {
        "colab": {
          "base_uri": "https://localhost:8080/",
          "height": 304
        },
        "id": "xpIie56mutWU",
        "outputId": "25d287bd-b8e1-4d30-81f6-1c3dc3e0360b"
      },
      "execution_count": null,
      "outputs": [
        {
          "output_type": "error",
          "ename": "ValueError",
          "evalue": "ignored",
          "traceback": [
            "\u001b[0;31m---------------------------------------------------------------------------\u001b[0m",
            "\u001b[0;31mValueError\u001b[0m                                Traceback (most recent call last)",
            "\u001b[0;32m<ipython-input-32-a31347d5962b>\u001b[0m in \u001b[0;36m<module>\u001b[0;34m()\u001b[0m\n\u001b[1;32m      1\u001b[0m \u001b[0;31m#for column in df:\u001b[0m\u001b[0;34m\u001b[0m\u001b[0;34m\u001b[0m\u001b[0;34m\u001b[0m\u001b[0m\n\u001b[0;32m----> 2\u001b[0;31m \u001b[0mdf\u001b[0m \u001b[0;34m=\u001b[0m \u001b[0mdf\u001b[0m\u001b[0;34m[\u001b[0m\u001b[0;34m(\u001b[0m\u001b[0mdf\u001b[0m\u001b[0;34m[\u001b[0m\u001b[0;34m'battery_power'\u001b[0m\u001b[0;34m]\u001b[0m \u001b[0;34m<\u001b[0m \u001b[0;36m2556.773118\u001b[0m \u001b[0;32mand\u001b[0m \u001b[0mdf\u001b[0m\u001b[0;34m[\u001b[0m\u001b[0mbattery_power\u001b[0m\u001b[0;34m]\u001b[0m \u001b[0;34m>\u001b[0m \u001b[0;34m-\u001b[0m\u001b[0;36m79.736118\u001b[0m\u001b[0;34m)\u001b[0m\u001b[0;34m]\u001b[0m\u001b[0;34m\u001b[0m\u001b[0;34m\u001b[0m\u001b[0m\n\u001b[0m",
            "\u001b[0;32m/usr/local/lib/python3.7/dist-packages/pandas/core/generic.py\u001b[0m in \u001b[0;36m__nonzero__\u001b[0;34m(self)\u001b[0m\n\u001b[1;32m   1536\u001b[0m     \u001b[0;32mdef\u001b[0m \u001b[0m__nonzero__\u001b[0m\u001b[0;34m(\u001b[0m\u001b[0mself\u001b[0m\u001b[0;34m)\u001b[0m\u001b[0;34m:\u001b[0m\u001b[0;34m\u001b[0m\u001b[0;34m\u001b[0m\u001b[0m\n\u001b[1;32m   1537\u001b[0m         raise ValueError(\n\u001b[0;32m-> 1538\u001b[0;31m             \u001b[0;34mf\"The truth value of a {type(self).__name__} is ambiguous. \"\u001b[0m\u001b[0;34m\u001b[0m\u001b[0;34m\u001b[0m\u001b[0m\n\u001b[0m\u001b[1;32m   1539\u001b[0m             \u001b[0;34m\"Use a.empty, a.bool(), a.item(), a.any() or a.all().\"\u001b[0m\u001b[0;34m\u001b[0m\u001b[0;34m\u001b[0m\u001b[0m\n\u001b[1;32m   1540\u001b[0m         )\n",
            "\u001b[0;31mValueError\u001b[0m: The truth value of a Series is ambiguous. Use a.empty, a.bool(), a.item(), a.any() or a.all()."
          ]
        }
      ]
    },
    {
      "cell_type": "code",
      "source": [
        "columns = list(df.columns)\n",
        "print(columns)"
      ],
      "metadata": {
        "colab": {
          "base_uri": "https://localhost:8080/"
        },
        "id": "1F7cV9przp7s",
        "outputId": "16a56c21-1db9-4cb1-8892-a1911dd12766"
      },
      "execution_count": null,
      "outputs": [
        {
          "output_type": "stream",
          "name": "stdout",
          "text": [
            "['battery_power', 'blue', 'clock_speed', 'dual_sim', 'fc', 'four_g', 'int_memory', 'm_dep', 'mobile_wt', 'n_cores', 'pc', 'px_height', 'px_width', 'ram', 'sc_h', 'sc_w', 'talk_time', 'three_g', 'touch_screen', 'wifi', 'price_range']\n"
          ]
        }
      ]
    },
    {
      "cell_type": "code",
      "source": [
        "#for column in columns:\n",
        "df = df[(df['battery_power'] < df['battery_power'].mean() + 3*df['battery_power'].std())]\n",
        "df.shape"
      ],
      "metadata": {
        "colab": {
          "base_uri": "https://localhost:8080/"
        },
        "id": "GuVQxgmnzzn9",
        "outputId": "230cc21d-df54-4235-c965-640ad4d7206f"
      },
      "execution_count": null,
      "outputs": [
        {
          "output_type": "execute_result",
          "data": {
            "text/plain": [
              "(2000, 21)"
            ]
          },
          "metadata": {},
          "execution_count": 40
        }
      ]
    },
    {
      "cell_type": "code",
      "source": [
        "for column in columns:\n",
        " df = df[(df[column] < df[column].mean() + 3*df[column].std())]\n",
        "df.shape"
      ],
      "metadata": {
        "colab": {
          "base_uri": "https://localhost:8080/"
        },
        "id": "SZ4YZsRE00AX",
        "outputId": "9b9116ca-195e-4136-d0f5-ad526714d9ea"
      },
      "execution_count": null,
      "outputs": [
        {
          "output_type": "execute_result",
          "data": {
            "text/plain": [
              "(1988, 21)"
            ]
          },
          "metadata": {},
          "execution_count": 75
        }
      ]
    },
    {
      "cell_type": "code",
      "source": [
        "df['battery_power'].describe()\n"
      ],
      "metadata": {
        "colab": {
          "base_uri": "https://localhost:8080/"
        },
        "id": "oDrXxHmr2dEd",
        "outputId": "b18fa490-3f87-4b20-b571-e11809ee7d03"
      },
      "execution_count": null,
      "outputs": [
        {
          "output_type": "execute_result",
          "data": {
            "text/plain": [
              "count    1982.000000\n",
              "mean     1236.487891\n",
              "std       439.364744\n",
              "min       501.000000\n",
              "25%       850.250000\n",
              "50%      1224.000000\n",
              "75%      1613.250000\n",
              "max      1998.000000\n",
              "Name: battery_power, dtype: float64"
            ]
          },
          "metadata": {},
          "execution_count": 45
        }
      ]
    },
    {
      "cell_type": "code",
      "source": [
        "df.boxplot('battery_power')"
      ],
      "metadata": {
        "colab": {
          "base_uri": "https://localhost:8080/",
          "height": 283
        },
        "id": "sg2bOLcz2306",
        "outputId": "4bf45870-7249-40e1-c692-36e3aabe257a"
      },
      "execution_count": null,
      "outputs": [
        {
          "output_type": "execute_result",
          "data": {
            "text/plain": [
              "<matplotlib.axes._subplots.AxesSubplot at 0x7fe832151ad0>"
            ]
          },
          "metadata": {},
          "execution_count": 48
        },
        {
          "output_type": "display_data",
          "data": {
            "text/plain": [
              "<Figure size 432x288 with 1 Axes>"
            ],
            "image/png": "[encoded data removed]"
          },
          "metadata": {
            "needs_background": "light"
          }
        }
      ]
    },
    {
      "cell_type": "code",
      "source": [
        "df.boxplot('clock_speed')"
      ],
      "metadata": {
        "colab": {
          "base_uri": "https://localhost:8080/",
          "height": 283
        },
        "id": "yB9rv1hV3coe",
        "outputId": "bc5c5036-ffe8-4aac-f041-115bd3603705"
      },
      "execution_count": null,
      "outputs": [
        {
          "output_type": "execute_result",
          "data": {
            "text/plain": [
              "<matplotlib.axes._subplots.AxesSubplot at 0x7fe831b9e950>"
            ]
          },
          "metadata": {},
          "execution_count": 50
        },
        {
          "output_type": "display_data",
          "data": {
            "text/plain": [
              "<Figure size 432x288 with 1 Axes>"
            ],
            "image/png": "[encoded data removed]"
          },
          "metadata": {
            "needs_background": "light"
          }
        }
      ]
    },
    {
      "cell_type": "code",
      "source": [
        "df.hist(figsize=(10,10))"
      ],
      "metadata": {
        "colab": {
          "base_uri": "https://localhost:8080/",
          "height": 1000
        },
        "id": "gzeJPKwU4PQZ",
        "outputId": "30170bd8-2a6e-4e8c-cd2e-81fb5ba42191"
      },
      "execution_count": null,
      "outputs": [
        {
          "output_type": "execute_result",
          "data": {
            "text/plain": [
              "array([[<matplotlib.axes._subplots.AxesSubplot object at 0x7fe83140e1d0>,\n",
              "        <matplotlib.axes._subplots.AxesSubplot object at 0x7fe830e459d0>,\n",
              "        <matplotlib.axes._subplots.AxesSubplot object at 0x7fe830dd6ad0>,\n",
              "        <matplotlib.axes._subplots.AxesSubplot object at 0x7fe830d06c90>,\n",
              "        <matplotlib.axes._subplots.AxesSubplot object at 0x7fe830cc81d0>],\n",
              "       [<matplotlib.axes._subplots.AxesSubplot object at 0x7fe83237a3d0>,\n",
              "        <matplotlib.axes._subplots.AxesSubplot object at 0x7fe831597fd0>,\n",
              "        <matplotlib.axes._subplots.AxesSubplot object at 0x7fe831624910>,\n",
              "        <matplotlib.axes._subplots.AxesSubplot object at 0x7fe831646dd0>,\n",
              "        <matplotlib.axes._subplots.AxesSubplot object at 0x7fe83120b2d0>],\n",
              "       [<matplotlib.axes._subplots.AxesSubplot object at 0x7fe830c9e2d0>,\n",
              "        <matplotlib.axes._subplots.AxesSubplot object at 0x7fe830b328d0>,\n",
              "        <matplotlib.axes._subplots.AxesSubplot object at 0x7fe830b67b10>,\n",
              "        <matplotlib.axes._subplots.AxesSubplot object at 0x7fe830b2a510>,\n",
              "        <matplotlib.axes._subplots.AxesSubplot object at 0x7fe830ae1b10>],\n",
              "       [<matplotlib.axes._subplots.AxesSubplot object at 0x7fe830aa5150>,\n",
              "        <matplotlib.axes._subplots.AxesSubplot object at 0x7fe830a5c750>,\n",
              "        <matplotlib.axes._subplots.AxesSubplot object at 0x7fe830a12d50>,\n",
              "        <matplotlib.axes._subplots.AxesSubplot object at 0x7fe8309d6390>,\n",
              "        <matplotlib.axes._subplots.AxesSubplot object at 0x7fe83098d990>],\n",
              "       [<matplotlib.axes._subplots.AxesSubplot object at 0x7fe83094f150>,\n",
              "        <matplotlib.axes._subplots.AxesSubplot object at 0x7fe8309085d0>,\n",
              "        <matplotlib.axes._subplots.AxesSubplot object at 0x7fe8308bfbd0>,\n",
              "        <matplotlib.axes._subplots.AxesSubplot object at 0x7fe830882210>,\n",
              "        <matplotlib.axes._subplots.AxesSubplot object at 0x7fe830839810>]],\n",
              "      dtype=object)"
            ]
          },
          "metadata": {},
          "execution_count": 57
        },
        {
          "output_type": "display_data",
          "data": {
            "text/plain": [
              "<Figure size 720x720 with 25 Axes>"
            ],
            "image/png": "[encoded data removed]"
          },
          "metadata": {
            "needs_background": "light"
          }
        }
      ]
    },
    {
      "cell_type": "code",
      "source": [
        "#Does having bluetooth affect the mobile price?\n",
        "#Hypothesis test with T-test\n",
        "from scipy.stats import ttest_ind\n",
        "ttest_ind(df['blue'], df['price_range'])"
      ],
      "metadata": {
        "colab": {
          "base_uri": "https://localhost:8080/"
        },
        "id": "qD_Q-OW05c0N",
        "outputId": "22d79fdb-bd29-4512-cbaa-b91af3e7baca"
      },
      "execution_count": null,
      "outputs": [
        {
          "output_type": "execute_result",
          "data": {
            "text/plain": [
              "Ttest_indResult(statistic=-36.500263389327806, pvalue=1.0258267609132384e-251)"
            ]
          },
          "metadata": {},
          "execution_count": 63
        }
      ]
    },
    {
      "cell_type": "markdown",
      "source": [
        "Result of T-test: since the P-value is very close to 0, the two features are statistically different."
      ],
      "metadata": {
        "id": "2xevSCGN7Obt"
      }
    },
    {
      "cell_type": "code",
      "source": [
        "#Do the number of cores affect the mobile price?\n",
        "#Hypothesis test with T-test\n",
        "from scipy.stats import ttest_ind\n",
        "ttest_ind(df['n_cores'], df['price_range'])"
      ],
      "metadata": {
        "colab": {
          "base_uri": "https://localhost:8080/"
        },
        "id": "0OJVpwts7hPp",
        "outputId": "a3016966-2258-4d04-8b9f-08d1b746c6ba"
      },
      "execution_count": null,
      "outputs": [
        {
          "output_type": "execute_result",
          "data": {
            "text/plain": [
              "Ttest_indResult(statistic=52.916514115948324, pvalue=0.0)"
            ]
          },
          "metadata": {},
          "execution_count": 64
        }
      ]
    },
    {
      "cell_type": "markdown",
      "source": [
        "Result of T-test: since the P-value is 0 (less than 0.5), the two features are statistically different."
      ],
      "metadata": {
        "id": "ZMm2U6J17x6s"
      }
    },
    {
      "cell_type": "code",
      "source": [
        "#Memory and Price hypothesis test using Pearson Correlation\n",
        "df.corr(method= 'pearson')\n"
      ],
      "metadata": {
        "colab": {
          "base_uri": "https://localhost:8080/",
          "height": 801
        },
        "id": "zuTNfEwC75RK",
        "outputId": "858ef7f7-a33b-445b-f725-0f3512c87c01"
      },
      "execution_count": null,
      "outputs": [
        {
          "output_type": "execute_result",
          "data": {
            "text/plain": [
              "               battery_power      blue  clock_speed  dual_sim        fc  \\\n",
              "battery_power       1.000000  0.009935     0.009877 -0.042328  0.020309   \n",
              "blue                0.009935  1.000000     0.021131  0.033490  0.003603   \n",
              "clock_speed         0.009877  0.021131     1.000000 -0.002684 -0.006359   \n",
              "dual_sim           -0.042328  0.033490    -0.002684  1.000000 -0.033521   \n",
              "fc                  0.020309  0.003603    -0.006359 -0.033521  1.000000   \n",
              "four_g              0.015739  0.013559    -0.042119  0.002260 -0.019850   \n",
              "int_memory         -0.008056  0.037967     0.004051 -0.017059 -0.026192   \n",
              "m_dep               0.034751  0.003752    -0.011137 -0.019905  0.003968   \n",
              "mobile_wt           0.002373 -0.009376     0.012533 -0.006032  0.014442   \n",
              "n_cores            -0.026409  0.038902    -0.005711 -0.025787 -0.002522   \n",
              "pc                  0.024879 -0.010171    -0.008671 -0.019097  0.635740   \n",
              "px_height           0.014804 -0.007183    -0.012992 -0.018664 -0.029228   \n",
              "px_width           -0.007856 -0.039939    -0.010039  0.014302 -0.013360   \n",
              "ram                 0.000041  0.022170     0.004109  0.043087  0.019648   \n",
              "sc_h               -0.023549  0.000052    -0.027480 -0.011939 -0.000338   \n",
              "sc_w               -0.016419  0.002847    -0.005961 -0.014008 -0.003091   \n",
              "talk_time           0.048032  0.010373    -0.010531 -0.044054 -0.008612   \n",
              "three_g             0.010777 -0.029315    -0.044731 -0.013475 -0.003417   \n",
              "touch_screen       -0.010209  0.008104     0.019687 -0.016203 -0.024841   \n",
              "wifi               -0.008824 -0.018053    -0.022516  0.024022  0.011368   \n",
              "price_range         0.200923  0.016696    -0.006940  0.019432  0.020846   \n",
              "\n",
              "                 four_g  int_memory     m_dep  mobile_wt   n_cores  ...  \\\n",
              "battery_power  0.015739   -0.008056  0.034751   0.002373 -0.026409  ...   \n",
              "blue           0.013559    0.037967  0.003752  -0.009376  0.038902  ...   \n",
              "clock_speed   -0.042119    0.004051 -0.011137   0.012533 -0.005711  ...   \n",
              "dual_sim       0.002260   -0.017059 -0.019905  -0.006032 -0.025787  ...   \n",
              "fc            -0.019850   -0.026192  0.003968   0.014442 -0.002522  ...   \n",
              "four_g         1.000000    0.009759 -0.002609  -0.018778 -0.030962  ...   \n",
              "int_memory     0.009759    1.000000  0.006600  -0.030720 -0.026092  ...   \n",
              "m_dep         -0.002609    0.006600  1.000000   0.018482 -0.003496  ...   \n",
              "mobile_wt     -0.018778   -0.030720  0.018482   1.000000 -0.018781  ...   \n",
              "n_cores       -0.030962   -0.026092 -0.003496  -0.018781  1.000000  ...   \n",
              "pc            -0.006688   -0.031668  0.029751   0.013978  0.004122  ...   \n",
              "px_height     -0.018137    0.011675  0.025186  -0.002989 -0.001941  ...   \n",
              "px_width       0.009615   -0.009638  0.022621  -0.001702  0.026636  ...   \n",
              "ram            0.008779    0.033770 -0.011698  -0.004762  0.008101  ...   \n",
              "sc_h           0.027708    0.040747 -0.027021  -0.033140 -0.002059  ...   \n",
              "sc_w           0.038368    0.013356 -0.019044  -0.021080  0.025453  ...   \n",
              "talk_time     -0.045603   -0.009657  0.015596   0.009667  0.016174  ...   \n",
              "three_g        0.584932   -0.009204 -0.013625   0.001207 -0.014651  ...   \n",
              "touch_screen   0.020071   -0.028582 -0.002297  -0.015901  0.027059  ...   \n",
              "wifi          -0.020672    0.011375 -0.029290  -0.001783 -0.010494  ...   \n",
              "price_range    0.016757    0.044105 -0.001010  -0.032477  0.008685  ...   \n",
              "\n",
              "               px_height  px_width       ram      sc_h      sc_w  talk_time  \\\n",
              "battery_power   0.014804 -0.007856  0.000041 -0.023549 -0.016419   0.048032   \n",
              "blue           -0.007183 -0.039939  0.022170  0.000052  0.002847   0.010373   \n",
              "clock_speed    -0.012992 -0.010039  0.004109 -0.027480 -0.005961  -0.010531   \n",
              "dual_sim       -0.018664  0.014302  0.043087 -0.011939 -0.014008  -0.044054   \n",
              "fc             -0.029228 -0.013360  0.019648 -0.000338 -0.003091  -0.008612   \n",
              "four_g         -0.018137  0.009615  0.008779  0.027708  0.038368  -0.045603   \n",
              "int_memory      0.011675 -0.009638  0.033770  0.040747  0.013356  -0.009657   \n",
              "m_dep           0.025186  0.022621 -0.011698 -0.027021 -0.019044   0.015596   \n",
              "mobile_wt      -0.002989 -0.001702 -0.004762 -0.033140 -0.021080   0.009667   \n",
              "n_cores        -0.001941  0.026636  0.008101 -0.002059  0.025453   0.016174   \n",
              "pc             -0.027934  0.000088  0.031348  0.010413 -0.019393   0.014492   \n",
              "px_height       1.000000  0.508367 -0.023985  0.059378  0.041295  -0.009139   \n",
              "px_width        0.508367  1.000000  0.004082  0.020375  0.033764   0.005889   \n",
              "ram            -0.023985  0.004082  1.000000  0.017921  0.034479   0.011356   \n",
              "sc_h            0.059378  0.020375  0.017921  1.000000  0.505017  -0.012899   \n",
              "sc_w            0.041295  0.033764  0.034479  0.505017  1.000000  -0.019280   \n",
              "talk_time      -0.009139  0.005889  0.011356 -0.012899 -0.019280   1.000000   \n",
              "three_g        -0.032574 -0.000419  0.017953  0.012526  0.031444  -0.043830   \n",
              "touch_screen    0.015484 -0.004179 -0.033423 -0.017971  0.011834   0.015347   \n",
              "wifi            0.048967  0.030714  0.022769  0.026481  0.035142  -0.027761   \n",
              "price_range     0.146242  0.166353  0.916779  0.026667  0.038918   0.021268   \n",
              "\n",
              "                three_g  touch_screen      wifi  price_range  \n",
              "battery_power  0.010777     -0.010209 -0.008824     0.200923  \n",
              "blue          -0.029315      0.008104 -0.018053     0.016696  \n",
              "clock_speed   -0.044731      0.019687 -0.022516    -0.006940  \n",
              "dual_sim      -0.013475     -0.016203  0.024022     0.019432  \n",
              "fc            -0.003417     -0.024841  0.011368     0.020846  \n",
              "four_g         0.584932      0.020071 -0.020672     0.016757  \n",
              "int_memory    -0.009204     -0.028582  0.011375     0.044105  \n",
              "m_dep         -0.013625     -0.002297 -0.029290    -0.001010  \n",
              "mobile_wt      0.001207     -0.015901 -0.001783    -0.032477  \n",
              "n_cores       -0.014651      0.027059 -0.010494     0.008685  \n",
              "pc            -0.003802     -0.013152  0.000983     0.033110  \n",
              "px_height     -0.032574      0.015484  0.048967     0.146242  \n",
              "px_width      -0.000419     -0.004179  0.030714     0.166353  \n",
              "ram            0.017953     -0.033423  0.022769     0.916779  \n",
              "sc_h           0.012526     -0.017971  0.026481     0.026667  \n",
              "sc_w           0.031444      0.011834  0.035142     0.038918  \n",
              "talk_time     -0.043830      0.015347 -0.027761     0.021268  \n",
              "three_g        1.000000      0.015891  0.001492     0.025953  \n",
              "touch_screen   0.015891      1.000000  0.011067    -0.034308  \n",
              "wifi           0.001492      0.011067  1.000000     0.018069  \n",
              "price_range    0.025953     -0.034308  0.018069     1.000000  \n",
              "\n",
              "[21 rows x 21 columns]"
            ],
            "text/html": [
              "\n",
              "  <div id=\"df-80511d55-056f-4e79-b4c0-358cea046187\">\n",
              "    <div class=\"colab-df-container\">\n",
              "      <div>\n",
              "<style scoped>\n",
              "    .dataframe tbody tr th:only-of-type {\n",
              "        vertical-align: middle;\n",
              "    }\n",
              "\n",
              "    .dataframe tbody tr th {\n",
              "        vertical-align: top;\n",
              "    }\n",
              "\n",
              "    .dataframe thead th {\n",
              "        text-align: right;\n",
              "    }\n",
              "</style>\n",
              "<table border=\"1\" class=\"dataframe\">\n",
              "  <thead>\n",
              "    <tr style=\"text-align: right;\">\n",
              "      <th></th>\n",
              "      <th>battery_power</th>\n",
              "      <th>blue</th>\n",
              "      <th>clock_speed</th>\n",
              "      <th>dual_sim</th>\n",
              "      <th>fc</th>\n",
              "      <th>four_g</th>\n",
              "      <th>int_memory</th>\n",
              "      <th>m_dep</th>\n",
              "      <th>mobile_wt</th>\n",
              "      <th>n_cores</th>\n",
              "      <th>...</th>\n",
              "      <th>px_height</th>\n",
              "      <th>px_width</th>\n",
              "      <th>ram</th>\n",
              "      <th>sc_h</th>\n",
              "      <th>sc_w</th>\n",
              "      <th>talk_time</th>\n",
              "      <th>three_g</th>\n",
              "      <th>touch_screen</th>\n",
              "      <th>wifi</th>\n",
              "      <th>price_range</th>\n",
              "    </tr>\n",
              "  </thead>\n",
              "  <tbody>\n",
              "    <tr>\n",
              "      <th>battery_power</th>\n",
              "      <td>1.000000</td>\n",
              "      <td>0.009935</td>\n",
              "      <td>0.009877</td>\n",
              "      <td>-0.042328</td>\n",
              "      <td>0.020309</td>\n",
              "      <td>0.015739</td>\n",
              "      <td>-0.008056</td>\n",
              "      <td>0.034751</td>\n",
              "      <td>0.002373</td>\n",
              "      <td>-0.026409</td>\n",
              "      <td>...</td>\n",
              "      <td>0.014804</td>\n",
              "      <td>-0.007856</td>\n",
              "      <td>0.000041</td>\n",
              "      <td>-0.023549</td>\n",
              "      <td>-0.016419</td>\n",
              "      <td>0.048032</td>\n",
              "      <td>0.010777</td>\n",
              "      <td>-0.010209</td>\n",
              "      <td>-0.008824</td>\n",
              "      <td>0.200923</td>\n",
              "    </tr>\n",
              "    <tr>\n",
              "      <th>blue</th>\n",
              "      <td>0.009935</td>\n",
              "      <td>1.000000</td>\n",
              "      <td>0.021131</td>\n",
              "      <td>0.033490</td>\n",
              "      <td>0.003603</td>\n",
              "      <td>0.013559</td>\n",
              "      <td>0.037967</td>\n",
              "      <td>0.003752</td>\n",
              "      <td>-0.009376</td>\n",
              "      <td>0.038902</td>\n",
              "      <td>...</td>\n",
              "      <td>-0.007183</td>\n",
              "      <td>-0.039939</td>\n",
              "      <td>0.022170</td>\n",
              "      <td>0.000052</td>\n",
              "      <td>0.002847</td>\n",
              "      <td>0.010373</td>\n",
              "      <td>-0.029315</td>\n",
              "      <td>0.008104</td>\n",
              "      <td>-0.018053</td>\n",
              "      <td>0.016696</td>\n",
              "    </tr>\n",
              "    <tr>\n",
              "      <th>clock_speed</th>\n",
              "      <td>0.009877</td>\n",
              "      <td>0.021131</td>\n",
              "      <td>1.000000</td>\n",
              "      <td>-0.002684</td>\n",
              "      <td>-0.006359</td>\n",
              "      <td>-0.042119</td>\n",
              "      <td>0.004051</td>\n",
              "      <td>-0.011137</td>\n",
              "      <td>0.012533</td>\n",
              "      <td>-0.005711</td>\n",
              "      <td>...</td>\n",
              "      <td>-0.012992</td>\n",
              "      <td>-0.010039</td>\n",
              "      <td>0.004109</td>\n",
              "      <td>-0.027480</td>\n",
              "      <td>-0.005961</td>\n",
              "      <td>-0.010531</td>\n",
              "      <td>-0.044731</td>\n",
              "      <td>0.019687</td>\n",
              "      <td>-0.022516</td>\n",
              "      <td>-0.006940</td>\n",
              "    </tr>\n",
              "    <tr>\n",
              "      <th>dual_sim</th>\n",
              "      <td>-0.042328</td>\n",
              "      <td>0.033490</td>\n",
              "      <td>-0.002684</td>\n",
              "      <td>1.000000</td>\n",
              "      <td>-0.033521</td>\n",
              "      <td>0.002260</td>\n",
              "      <td>-0.017059</td>\n",
              "      <td>-0.019905</td>\n",
              "      <td>-0.006032</td>\n",
              "      <td>-0.025787</td>\n",
              "      <td>...</td>\n",
              "      <td>-0.018664</td>\n",
              "      <td>0.014302</td>\n",
              "      <td>0.043087</td>\n",
              "      <td>-0.011939</td>\n",
              "      <td>-0.014008</td>\n",
              "      <td>-0.044054</td>\n",
              "      <td>-0.013475</td>\n",
              "      <td>-0.016203</td>\n",
              "      <td>0.024022</td>\n",
              "      <td>0.019432</td>\n",
              "    </tr>\n",
              "    <tr>\n",
              "      <th>fc</th>\n",
              "      <td>0.020309</td>\n",
              "      <td>0.003603</td>\n",
              "      <td>-0.006359</td>\n",
              "      <td>-0.033521</td>\n",
              "      <td>1.000000</td>\n",
              "      <td>-0.019850</td>\n",
              "      <td>-0.026192</td>\n",
              "      <td>0.003968</td>\n",
              "      <td>0.014442</td>\n",
              "      <td>-0.002522</td>\n",
              "      <td>...</td>\n",
              "      <td>-0.029228</td>\n",
              "      <td>-0.013360</td>\n",
              "      <td>0.019648</td>\n",
              "      <td>-0.000338</td>\n",
              "      <td>-0.003091</td>\n",
              "      <td>-0.008612</td>\n",
              "      <td>-0.003417</td>\n",
              "      <td>-0.024841</td>\n",
              "      <td>0.011368</td>\n",
              "      <td>0.020846</td>\n",
              "    </tr>\n",
              "    <tr>\n",
              "      <th>four_g</th>\n",
              "      <td>0.015739</td>\n",
              "      <td>0.013559</td>\n",
              "      <td>-0.042119</td>\n",
              "      <td>0.002260</td>\n",
              "      <td>-0.019850</td>\n",
              "      <td>1.000000</td>\n",
              "      <td>0.009759</td>\n",
              "      <td>-0.002609</td>\n",
              "      <td>-0.018778</td>\n",
              "      <td>-0.030962</td>\n",
              "      <td>...</td>\n",
              "      <td>-0.018137</td>\n",
              "      <td>0.009615</td>\n",
              "      <td>0.008779</td>\n",
              "      <td>0.027708</td>\n",
              "      <td>0.038368</td>\n",
              "      <td>-0.045603</td>\n",
              "      <td>0.584932</td>\n",
              "      <td>0.020071</td>\n",
              "      <td>-0.020672</td>\n",
              "      <td>0.016757</td>\n",
              "    </tr>\n",
              "    <tr>\n",
              "      <th>int_memory</th>\n",
              "      <td>-0.008056</td>\n",
              "      <td>0.037967</td>\n",
              "      <td>0.004051</td>\n",
              "      <td>-0.017059</td>\n",
              "      <td>-0.026192</td>\n",
              "      <td>0.009759</td>\n",
              "      <td>1.000000</td>\n",
              "      <td>0.006600</td>\n",
              "      <td>-0.030720</td>\n",
              "      <td>-0.026092</td>\n",
              "      <td>...</td>\n",
              "      <td>0.011675</td>\n",
              "      <td>-0.009638</td>\n",
              "      <td>0.033770</td>\n",
              "      <td>0.040747</td>\n",
              "      <td>0.013356</td>\n",
              "      <td>-0.009657</td>\n",
              "      <td>-0.009204</td>\n",
              "      <td>-0.028582</td>\n",
              "      <td>0.011375</td>\n",
              "      <td>0.044105</td>\n",
              "    </tr>\n",
              "    <tr>\n",
              "      <th>m_dep</th>\n",
              "      <td>0.034751</td>\n",
              "      <td>0.003752</td>\n",
              "      <td>-0.011137</td>\n",
              "      <td>-0.019905</td>\n",
              "      <td>0.003968</td>\n",
              "      <td>-0.002609</td>\n",
              "      <td>0.006600</td>\n",
              "      <td>1.000000</td>\n",
              "      <td>0.018482</td>\n",
              "      <td>-0.003496</td>\n",
              "      <td>...</td>\n",
              "      <td>0.025186</td>\n",
              "      <td>0.022621</td>\n",
              "      <td>-0.011698</td>\n",
              "      <td>-0.027021</td>\n",
              "      <td>-0.019044</td>\n",
              "      <td>0.015596</td>\n",
              "      <td>-0.013625</td>\n",
              "      <td>-0.002297</td>\n",
              "      <td>-0.029290</td>\n",
              "      <td>-0.001010</td>\n",
              "    </tr>\n",
              "    <tr>\n",
              "      <th>mobile_wt</th>\n",
              "      <td>0.002373</td>\n",
              "      <td>-0.009376</td>\n",
              "      <td>0.012533</td>\n",
              "      <td>-0.006032</td>\n",
              "      <td>0.014442</td>\n",
              "      <td>-0.018778</td>\n",
              "      <td>-0.030720</td>\n",
              "      <td>0.018482</td>\n",
              "      <td>1.000000</td>\n",
              "      <td>-0.018781</td>\n",
              "      <td>...</td>\n",
              "      <td>-0.002989</td>\n",
              "      <td>-0.001702</td>\n",
              "      <td>-0.004762</td>\n",
              "      <td>-0.033140</td>\n",
              "      <td>-0.021080</td>\n",
              "      <td>0.009667</td>\n",
              "      <td>0.001207</td>\n",
              "      <td>-0.015901</td>\n",
              "      <td>-0.001783</td>\n",
              "      <td>-0.032477</td>\n",
              "    </tr>\n",
              "    <tr>\n",
              "      <th>n_cores</th>\n",
              "      <td>-0.026409</td>\n",
              "      <td>0.038902</td>\n",
              "      <td>-0.005711</td>\n",
              "      <td>-0.025787</td>\n",
              "      <td>-0.002522</td>\n",
              "      <td>-0.030962</td>\n",
              "      <td>-0.026092</td>\n",
              "      <td>-0.003496</td>\n",
              "      <td>-0.018781</td>\n",
              "      <td>1.000000</td>\n",
              "      <td>...</td>\n",
              "      <td>-0.001941</td>\n",
              "      <td>0.026636</td>\n",
              "      <td>0.008101</td>\n",
              "      <td>-0.002059</td>\n",
              "      <td>0.025453</td>\n",
              "      <td>0.016174</td>\n",
              "      <td>-0.014651</td>\n",
              "      <td>0.027059</td>\n",
              "      <td>-0.010494</td>\n",
              "      <td>0.008685</td>\n",
              "    </tr>\n",
              "    <tr>\n",
              "      <th>pc</th>\n",
              "      <td>0.024879</td>\n",
              "      <td>-0.010171</td>\n",
              "      <td>-0.008671</td>\n",
              "      <td>-0.019097</td>\n",
              "      <td>0.635740</td>\n",
              "      <td>-0.006688</td>\n",
              "      <td>-0.031668</td>\n",
              "      <td>0.029751</td>\n",
              "      <td>0.013978</td>\n",
              "      <td>0.004122</td>\n",
              "      <td>...</td>\n",
              "      <td>-0.027934</td>\n",
              "      <td>0.000088</td>\n",
              "      <td>0.031348</td>\n",
              "      <td>0.010413</td>\n",
              "      <td>-0.019393</td>\n",
              "      <td>0.014492</td>\n",
              "      <td>-0.003802</td>\n",
              "      <td>-0.013152</td>\n",
              "      <td>0.000983</td>\n",
              "      <td>0.033110</td>\n",
              "    </tr>\n",
              "    <tr>\n",
              "      <th>px_height</th>\n",
              "      <td>0.014804</td>\n",
              "      <td>-0.007183</td>\n",
              "      <td>-0.012992</td>\n",
              "      <td>-0.018664</td>\n",
              "      <td>-0.029228</td>\n",
              "      <td>-0.018137</td>\n",
              "      <td>0.011675</td>\n",
              "      <td>0.025186</td>\n",
              "      <td>-0.002989</td>\n",
              "      <td>-0.001941</td>\n",
              "      <td>...</td>\n",
              "      <td>1.000000</td>\n",
              "      <td>0.508367</td>\n",
              "      <td>-0.023985</td>\n",
              "      <td>0.059378</td>\n",
              "      <td>0.041295</td>\n",
              "      <td>-0.009139</td>\n",
              "      <td>-0.032574</td>\n",
              "      <td>0.015484</td>\n",
              "      <td>0.048967</td>\n",
              "      <td>0.146242</td>\n",
              "    </tr>\n",
              "    <tr>\n",
              "      <th>px_width</th>\n",
              "      <td>-0.007856</td>\n",
              "      <td>-0.039939</td>\n",
              "      <td>-0.010039</td>\n",
              "      <td>0.014302</td>\n",
              "      <td>-0.013360</td>\n",
              "      <td>0.009615</td>\n",
              "      <td>-0.009638</td>\n",
              "      <td>0.022621</td>\n",
              "      <td>-0.001702</td>\n",
              "      <td>0.026636</td>\n",
              "      <td>...</td>\n",
              "      <td>0.508367</td>\n",
              "      <td>1.000000</td>\n",
              "      <td>0.004082</td>\n",
              "      <td>0.020375</td>\n",
              "      <td>0.033764</td>\n",
              "      <td>0.005889</td>\n",
              "      <td>-0.000419</td>\n",
              "      <td>-0.004179</td>\n",
              "      <td>0.030714</td>\n",
              "      <td>0.166353</td>\n",
              "    </tr>\n",
              "    <tr>\n",
              "      <th>ram</th>\n",
              "      <td>0.000041</td>\n",
              "      <td>0.022170</td>\n",
              "      <td>0.004109</td>\n",
              "      <td>0.043087</td>\n",
              "      <td>0.019648</td>\n",
              "      <td>0.008779</td>\n",
              "      <td>0.033770</td>\n",
              "      <td>-0.011698</td>\n",
              "      <td>-0.004762</td>\n",
              "      <td>0.008101</td>\n",
              "      <td>...</td>\n",
              "      <td>-0.023985</td>\n",
              "      <td>0.004082</td>\n",
              "      <td>1.000000</td>\n",
              "      <td>0.017921</td>\n",
              "      <td>0.034479</td>\n",
              "      <td>0.011356</td>\n",
              "      <td>0.017953</td>\n",
              "      <td>-0.033423</td>\n",
              "      <td>0.022769</td>\n",
              "      <td>0.916779</td>\n",
              "    </tr>\n",
              "    <tr>\n",
              "      <th>sc_h</th>\n",
              "      <td>-0.023549</td>\n",
              "      <td>0.000052</td>\n",
              "      <td>-0.027480</td>\n",
              "      <td>-0.011939</td>\n",
              "      <td>-0.000338</td>\n",
              "      <td>0.027708</td>\n",
              "      <td>0.040747</td>\n",
              "      <td>-0.027021</td>\n",
              "      <td>-0.033140</td>\n",
              "      <td>-0.002059</td>\n",
              "      <td>...</td>\n",
              "      <td>0.059378</td>\n",
              "      <td>0.020375</td>\n",
              "      <td>0.017921</td>\n",
              "      <td>1.000000</td>\n",
              "      <td>0.505017</td>\n",
              "      <td>-0.012899</td>\n",
              "      <td>0.012526</td>\n",
              "      <td>-0.017971</td>\n",
              "      <td>0.026481</td>\n",
              "      <td>0.026667</td>\n",
              "    </tr>\n",
              "    <tr>\n",
              "      <th>sc_w</th>\n",
              "      <td>-0.016419</td>\n",
              "      <td>0.002847</td>\n",
              "      <td>-0.005961</td>\n",
              "      <td>-0.014008</td>\n",
              "      <td>-0.003091</td>\n",
              "      <td>0.038368</td>\n",
              "      <td>0.013356</td>\n",
              "      <td>-0.019044</td>\n",
              "      <td>-0.021080</td>\n",
              "      <td>0.025453</td>\n",
              "      <td>...</td>\n",
              "      <td>0.041295</td>\n",
              "      <td>0.033764</td>\n",
              "      <td>0.034479</td>\n",
              "      <td>0.505017</td>\n",
              "      <td>1.000000</td>\n",
              "      <td>-0.019280</td>\n",
              "      <td>0.031444</td>\n",
              "      <td>0.011834</td>\n",
              "      <td>0.035142</td>\n",
              "      <td>0.038918</td>\n",
              "    </tr>\n",
              "    <tr>\n",
              "      <th>talk_time</th>\n",
              "      <td>0.048032</td>\n",
              "      <td>0.010373</td>\n",
              "      <td>-0.010531</td>\n",
              "      <td>-0.044054</td>\n",
              "      <td>-0.008612</td>\n",
              "      <td>-0.045603</td>\n",
              "      <td>-0.009657</td>\n",
              "      <td>0.015596</td>\n",
              "      <td>0.009667</td>\n",
              "      <td>0.016174</td>\n",
              "      <td>...</td>\n",
              "      <td>-0.009139</td>\n",
              "      <td>0.005889</td>\n",
              "      <td>0.011356</td>\n",
              "      <td>-0.012899</td>\n",
              "      <td>-0.019280</td>\n",
              "      <td>1.000000</td>\n",
              "      <td>-0.043830</td>\n",
              "      <td>0.015347</td>\n",
              "      <td>-0.027761</td>\n",
              "      <td>0.021268</td>\n",
              "    </tr>\n",
              "    <tr>\n",
              "      <th>three_g</th>\n",
              "      <td>0.010777</td>\n",
              "      <td>-0.029315</td>\n",
              "      <td>-0.044731</td>\n",
              "      <td>-0.013475</td>\n",
              "      <td>-0.003417</td>\n",
              "      <td>0.584932</td>\n",
              "      <td>-0.009204</td>\n",
              "      <td>-0.013625</td>\n",
              "      <td>0.001207</td>\n",
              "      <td>-0.014651</td>\n",
              "      <td>...</td>\n",
              "      <td>-0.032574</td>\n",
              "      <td>-0.000419</td>\n",
              "      <td>0.017953</td>\n",
              "      <td>0.012526</td>\n",
              "      <td>0.031444</td>\n",
              "      <td>-0.043830</td>\n",
              "      <td>1.000000</td>\n",
              "      <td>0.015891</td>\n",
              "      <td>0.001492</td>\n",
              "      <td>0.025953</td>\n",
              "    </tr>\n",
              "    <tr>\n",
              "      <th>touch_screen</th>\n",
              "      <td>-0.010209</td>\n",
              "      <td>0.008104</td>\n",
              "      <td>0.019687</td>\n",
              "      <td>-0.016203</td>\n",
              "      <td>-0.024841</td>\n",
              "      <td>0.020071</td>\n",
              "      <td>-0.028582</td>\n",
              "      <td>-0.002297</td>\n",
              "      <td>-0.015901</td>\n",
              "      <td>0.027059</td>\n",
              "      <td>...</td>\n",
              "      <td>0.015484</td>\n",
              "      <td>-0.004179</td>\n",
              "      <td>-0.033423</td>\n",
              "      <td>-0.017971</td>\n",
              "      <td>0.011834</td>\n",
              "      <td>0.015347</td>\n",
              "      <td>0.015891</td>\n",
              "      <td>1.000000</td>\n",
              "      <td>0.011067</td>\n",
              "      <td>-0.034308</td>\n",
              "    </tr>\n",
              "    <tr>\n",
              "      <th>wifi</th>\n",
              "      <td>-0.008824</td>\n",
              "      <td>-0.018053</td>\n",
              "      <td>-0.022516</td>\n",
              "      <td>0.024022</td>\n",
              "      <td>0.011368</td>\n",
              "      <td>-0.020672</td>\n",
              "      <td>0.011375</td>\n",
              "      <td>-0.029290</td>\n",
              "      <td>-0.001783</td>\n",
              "      <td>-0.010494</td>\n",
              "      <td>...</td>\n",
              "      <td>0.048967</td>\n",
              "      <td>0.030714</td>\n",
              "      <td>0.022769</td>\n",
              "      <td>0.026481</td>\n",
              "      <td>0.035142</td>\n",
              "      <td>-0.027761</td>\n",
              "      <td>0.001492</td>\n",
              "      <td>0.011067</td>\n",
              "      <td>1.000000</td>\n",
              "      <td>0.018069</td>\n",
              "    </tr>\n",
              "    <tr>\n",
              "      <th>price_range</th>\n",
              "      <td>0.200923</td>\n",
              "      <td>0.016696</td>\n",
              "      <td>-0.006940</td>\n",
              "      <td>0.019432</td>\n",
              "      <td>0.020846</td>\n",
              "      <td>0.016757</td>\n",
              "      <td>0.044105</td>\n",
              "      <td>-0.001010</td>\n",
              "      <td>-0.032477</td>\n",
              "      <td>0.008685</td>\n",
              "      <td>...</td>\n",
              "      <td>0.146242</td>\n",
              "      <td>0.166353</td>\n",
              "      <td>0.916779</td>\n",
              "      <td>0.026667</td>\n",
              "      <td>0.038918</td>\n",
              "      <td>0.021268</td>\n",
              "      <td>0.025953</td>\n",
              "      <td>-0.034308</td>\n",
              "      <td>0.018069</td>\n",
              "      <td>1.000000</td>\n",
              "    </tr>\n",
              "  </tbody>\n",
              "</table>\n",
              "<p>21 rows × 21 columns</p>\n",
              "</div>\n",
              "      <button class=\"colab-df-convert\" onclick=\"convertToInteractive('df-80511d55-056f-4e79-b4c0-358cea046187')\"\n",
              "              title=\"Convert this dataframe to an interactive table.\"\n",
              "              style=\"display:none;\">\n",
              "        \n",
              "  <svg xmlns=\"http://www.w3.org/2000/svg\" height=\"24px\"viewBox=\"0 0 24 24\"\n",
              "       width=\"24px\">\n",
              "    <path d=\"M0 0h24v24H0V0z\" fill=\"none\"/>\n",
              "    <path d=\"M18.56 5.44l.94 2.06.94-2.06 2.06-.94-2.06-.94-.94-2.06-.94 2.06-2.06.94zm-11 1L8.5 8.5l.94-2.06 2.06-.94-2.06-.94L8.5 2.5l-.94 2.06-2.06.94zm10 10l.94 2.06.94-2.06 2.06-.94-2.06-.94-.94-2.06-.94 2.06-2.06.94z\"/><path d=\"M17.41 7.96l-1.37-1.37c-.4-.4-.92-.59-1.43-.59-.52 0-1.04.2-1.43.59L10.3 9.45l-7.72 7.72c-.78.78-.78 2.05 0 2.83L4 21.41c.39.39.9.59 1.41.59.51 0 1.02-.2 1.41-.59l7.78-7.78 2.81-2.81c.8-.78.8-2.07 0-2.86zM5.41 20L4 18.59l7.72-7.72 1.47 1.35L5.41 20z\"/>\n",
              "  </svg>\n",
              "      </button>\n",
              "      \n",
              "  <style>\n",
              "    .colab-df-container {\n",
              "      display:flex;\n",
              "      flex-wrap:wrap;\n",
              "      gap: 12px;\n",
              "    }\n",
              "\n",
              "    .colab-df-convert {\n",
              "      background-color: #E8F0FE;\n",
              "      border: none;\n",
              "      border-radius: 50%;\n",
              "      cursor: pointer;\n",
              "      display: none;\n",
              "      fill: #1967D2;\n",
              "      height: 32px;\n",
              "      padding: 0 0 0 0;\n",
              "      width: 32px;\n",
              "    }\n",
              "\n",
              "    .colab-df-convert:hover {\n",
              "      background-color: #E2EBFA;\n",
              "      box-shadow: 0px 1px 2px rgba(60, 64, 67, 0.3), 0px 1px 3px 1px rgba(60, 64, 67, 0.15);\n",
              "      fill: #174EA6;\n",
              "    }\n",
              "\n",
              "    [theme=dark] .colab-df-convert {\n",
              "      background-color: #3B4455;\n",
              "      fill: #D2E3FC;\n",
              "    }\n",
              "\n",
              "    [theme=dark] .colab-df-convert:hover {\n",
              "      background-color: #434B5C;\n",
              "      box-shadow: 0px 1px 3px 1px rgba(0, 0, 0, 0.15);\n",
              "      filter: drop-shadow(0px 1px 2px rgba(0, 0, 0, 0.3));\n",
              "      fill: #FFFFFF;\n",
              "    }\n",
              "  </style>\n",
              "\n",
              "      <script>\n",
              "        const buttonEl =\n",
              "          document.querySelector('#df-80511d55-056f-4e79-b4c0-358cea046187 button.colab-df-convert');\n",
              "        buttonEl.style.display =\n",
              "          google.colab.kernel.accessAllowed ? 'block' : 'none';\n",
              "\n",
              "        async function convertToInteractive(key) {\n",
              "          const element = document.querySelector('#df-80511d55-056f-4e79-b4c0-358cea046187');\n",
              "          const dataTable =\n",
              "            await google.colab.kernel.invokeFunction('convertToInteractive',\n",
              "                                                     [key], {});\n",
              "          if (!dataTable) return;\n",
              "\n",
              "          const docLinkHtml = 'Like what you see? Visit the ' +\n",
              "            '<a target=\"_blank\" href=https://colab.research.google.com/notebooks/data_table.ipynb>data table notebook</a>'\n",
              "            + ' to learn more about interactive tables.';\n",
              "          element.innerHTML = '';\n",
              "          dataTable['output_type'] = 'display_data';\n",
              "          await google.colab.output.renderOutput(dataTable, element);\n",
              "          const docLink = document.createElement('div');\n",
              "          docLink.innerHTML = docLinkHtml;\n",
              "          element.appendChild(docLink);\n",
              "        }\n",
              "      </script>\n",
              "    </div>\n",
              "  </div>\n",
              "  "
            ]
          },
          "metadata": {},
          "execution_count": 67
        }
      ]
    },
    {
      "cell_type": "markdown",
      "source": [
        "Pearson Correlation will be 0.004 which is close to zero meaning the features are statistically different."
      ],
      "metadata": {
        "id": "5cM9RmlS9gLT"
      }
    },
    {
      "cell_type": "code",
      "source": [
        "import seaborn as sb\n",
        "sb.heatmap(df.corr())"
      ],
      "metadata": {
        "colab": {
          "base_uri": "https://localhost:8080/",
          "height": 348
        },
        "id": "fU6j_8bl9vLu",
        "outputId": "47ad34d4-39e0-4088-b94c-c39a86aaff5f"
      },
      "execution_count": null,
      "outputs": [
        {
          "output_type": "execute_result",
          "data": {
            "text/plain": [
              "<matplotlib.axes._subplots.AxesSubplot at 0x7fe7e3e81490>"
            ]
          },
          "metadata": {},
          "execution_count": 68
        },
        {
          "output_type": "display_data",
          "data": {
            "text/plain": [
              "<Figure size 432x288 with 2 Axes>"
            ],
            "image/png": "[encoded data removed]"
          },
          "metadata": {
            "needs_background": "light"
          }
        }
      ]
    },
    {
      "cell_type": "code",
      "source": [
        "from sklearn.metrics import confusion_matrix\n",
        "y_true = ['battery_power', 'clock_speed', 'dock_speed']\n",
        "y_pred = ['price_range', 'sc_h', 'pc']\n",
        "confusion_matrix(y_true, y_pred)"
      ],
      "metadata": {
        "colab": {
          "base_uri": "https://localhost:8080/"
        },
        "id": "_GYWzKuN-a7C",
        "outputId": "fc71fe51-5861-41b1-8196-b696e55cf163"
      },
      "execution_count": null,
      "outputs": [
        {
          "output_type": "execute_result",
          "data": {
            "text/plain": [
              "array([[0, 0, 0, 0, 1, 0],\n",
              "       [0, 0, 0, 0, 0, 1],\n",
              "       [0, 0, 0, 1, 0, 0],\n",
              "       [0, 0, 0, 0, 0, 0],\n",
              "       [0, 0, 0, 0, 0, 0],\n",
              "       [0, 0, 0, 0, 0, 0]])"
            ]
          },
          "metadata": {},
          "execution_count": 72
        }
      ]
    },
    {
      "cell_type": "code",
      "source": [
        "from sklearn.metrics import confusion_matrix\n",
        "y_true = ['battery_power']\n",
        "y_pred = ['price_range']\n",
        "confusion_matrix(y_true, y_pred)"
      ],
      "metadata": {
        "colab": {
          "base_uri": "https://localhost:8080/"
        },
        "id": "tUNf6RRT_PGK",
        "outputId": "bb9bd975-40d5-4f48-8e78-74aaebe6471b"
      },
      "execution_count": null,
      "outputs": [
        {
          "output_type": "execute_result",
          "data": {
            "text/plain": [
              "array([[0, 1],\n",
              "       [0, 0]])"
            ]
          },
          "metadata": {},
          "execution_count": 73
        }
      ]
    },
    {
      "cell_type": "code",
      "source": [
        "from sklearn.metrics import confusion_matrix\n",
        "y_true = ['dual_sim', 'fc', 'four_g', 'int_memory']\n",
        "y_pred = ['m_dep', 'mobile_wt', 'n_cores', 'pc']\n",
        "confusion_matrix(y_true, y_pred)"
      ],
      "metadata": {
        "colab": {
          "base_uri": "https://localhost:8080/"
        },
        "id": "xhJKLCjB_WG4",
        "outputId": "d0c43870-1d3b-4257-9595-d5ff1550c861"
      },
      "execution_count": null,
      "outputs": [
        {
          "output_type": "execute_result",
          "data": {
            "text/plain": [
              "array([[0, 0, 0, 0, 1, 0, 0, 0],\n",
              "       [0, 0, 0, 0, 0, 1, 0, 0],\n",
              "       [0, 0, 0, 0, 0, 0, 1, 0],\n",
              "       [0, 0, 0, 0, 0, 0, 0, 1],\n",
              "       [0, 0, 0, 0, 0, 0, 0, 0],\n",
              "       [0, 0, 0, 0, 0, 0, 0, 0],\n",
              "       [0, 0, 0, 0, 0, 0, 0, 0],\n",
              "       [0, 0, 0, 0, 0, 0, 0, 0]])"
            ]
          },
          "metadata": {},
          "execution_count": 75
        }
      ]
    },
    {
      "cell_type": "markdown",
      "source": [
        "Normality test with the shapiro-wilk test\n"
      ],
      "metadata": {
        "id": "MeXu6Q9e_1U5"
      }
    },
    {
      "cell_type": "code",
      "source": [
        "from scipy import stats\n",
        "stats.shapiro(df)"
      ],
      "metadata": {
        "colab": {
          "base_uri": "https://localhost:8080/"
        },
        "id": "NeeEU-VX_5fq",
        "outputId": "851b4176-3ac2-4e8d-8843-bfda2048bfe1"
      },
      "execution_count": null,
      "outputs": [
        {
          "output_type": "stream",
          "name": "stderr",
          "text": [
            "/usr/local/lib/python3.7/dist-packages/scipy/stats/morestats.py:1676: UserWarning: p-value may not be accurate for N > 5000.\n",
            "  warnings.warn(\"p-value may not be accurate for N > 5000.\")\n"
          ]
        },
        {
          "output_type": "execute_result",
          "data": {
            "text/plain": [
              "(0.4815064072608948, 0.0)"
            ]
          },
          "metadata": {},
          "execution_count": 78
        }
      ]
    },
    {
      "cell_type": "markdown",
      "source": [
        "If the result were to be greater than 0.05, that would mean the data is normal and here it is 0.48 which means the data is normal."
      ],
      "metadata": {
        "id": "IIKl-tj6AeFD"
      }
    },
    {
      "cell_type": "code",
      "source": [
        "#Scaling (Normalizing) Data\n",
        "for column in columns:\n",
        " df[column]= (df[column]-df[column].mean())/df[column].std()\n",
        "stats.shapiro(df)"
      ],
      "metadata": {
        "colab": {
          "base_uri": "https://localhost:8080/"
        },
        "id": "MeliLVAvAwM2",
        "outputId": "9f018cbd-a3bb-499b-fb35-871daf62e75f"
      },
      "execution_count": null,
      "outputs": [
        {
          "output_type": "stream",
          "name": "stderr",
          "text": [
            "/usr/local/lib/python3.7/dist-packages/scipy/stats/morestats.py:1676: UserWarning: p-value may not be accurate for N > 5000.\n",
            "  warnings.warn(\"p-value may not be accurate for N > 5000.\")\n"
          ]
        },
        {
          "output_type": "execute_result",
          "data": {
            "text/plain": [
              "(0.942145824432373, 0.0)"
            ]
          },
          "metadata": {},
          "execution_count": 82
        }
      ]
    },
    {
      "cell_type": "code",
      "source": [
        "from sklearn.decomposition import PCA\n",
        "pca = PCA(0.99)\n",
        "x_pca = pca.fit_transform(df)\n",
        "x_pca.shape"
      ],
      "metadata": {
        "colab": {
          "base_uri": "https://localhost:8080/"
        },
        "id": "Ox1r5oS9CqA4",
        "outputId": "a66e42e1-c048-4324-ce32-e3a31c296ae8"
      },
      "execution_count": null,
      "outputs": [
        {
          "output_type": "execute_result",
          "data": {
            "text/plain": [
              "(1982, 20)"
            ]
          },
          "metadata": {},
          "execution_count": 84
        }
      ]
    },
    {
      "cell_type": "code",
      "source": [
        "from sklearn.decomposition import PCA\n",
        "pca = PCA(0.95)\n",
        "x_pca = pca.fit_transform(df)\n",
        "x_pca.shape"
      ],
      "metadata": {
        "colab": {
          "base_uri": "https://localhost:8080/"
        },
        "id": "0RUgSy3yGKIZ",
        "outputId": "bd557247-f47f-4ca5-8e53-6e91bd96aa7c"
      },
      "execution_count": null,
      "outputs": [
        {
          "output_type": "execute_result",
          "data": {
            "text/plain": [
              "(1982, 18)"
            ]
          },
          "metadata": {},
          "execution_count": 85
        }
      ]
    },
    {
      "cell_type": "code",
      "source": [
        "from sklearn.decomposition import PCA\n",
        "pca = PCA(0.90)\n",
        "x_pca = pca.fit_transform(df)\n",
        "x_pca.shape"
      ],
      "metadata": {
        "colab": {
          "base_uri": "https://localhost:8080/"
        },
        "id": "OJ-Fn8p-GNoI",
        "outputId": "3c543900-3683-4b25-f6ca-bc2301197f82"
      },
      "execution_count": null,
      "outputs": [
        {
          "output_type": "execute_result",
          "data": {
            "text/plain": [
              "(1982, 16)"
            ]
          },
          "metadata": {},
          "execution_count": 86
        }
      ]
    },
    {
      "cell_type": "code",
      "source": [
        "from sklearn.decomposition import PCA\n",
        "pca = PCA(0.80)\n",
        "x_pca = pca.fit_transform(df)\n",
        "x_pca.shape"
      ],
      "metadata": {
        "colab": {
          "base_uri": "https://localhost:8080/"
        },
        "id": "_aQkGb5MGO8d",
        "outputId": "cc0def71-848b-4ce4-fa5b-2a73a1eb93cf"
      },
      "execution_count": null,
      "outputs": [
        {
          "output_type": "execute_result",
          "data": {
            "text/plain": [
              "(1982, 14)"
            ]
          },
          "metadata": {},
          "execution_count": 87
        }
      ]
    },
    {
      "cell_type": "code",
      "source": [
        "from sklearn.decomposition import PCA\n",
        "pca = PCA(0.75)\n",
        "x_pca = pca.fit_transform(df)\n",
        "x_pca.shape"
      ],
      "metadata": {
        "colab": {
          "base_uri": "https://localhost:8080/"
        },
        "id": "IMs3Ua5IGRnq",
        "outputId": "6b3e5ddf-2a0b-4ebf-b28a-fad977fc9af8"
      },
      "execution_count": null,
      "outputs": [
        {
          "output_type": "execute_result",
          "data": {
            "text/plain": [
              "(1982, 13)"
            ]
          },
          "metadata": {},
          "execution_count": 88
        }
      ]
    },
    {
      "cell_type": "code",
      "source": [
        "!ls '/content/immo_data.csv'"
      ],
      "metadata": {
        "colab": {
          "base_uri": "https://localhost:8080/"
        },
        "id": "O12c4dNdGUlI",
        "outputId": "afcea04e-0057-47ad-c4ec-1529ccfe9108"
      },
      "execution_count": null,
      "outputs": [
        {
          "output_type": "stream",
          "name": "stdout",
          "text": [
            "/content/immo_data.csv\n"
          ]
        }
      ]
    },
    {
      "cell_type": "code",
      "source": [
        "dt = pd.read_csv('/content/immo_data.csv')\n",
        "dt.head(5)"
      ],
      "metadata": {
        "colab": {
          "base_uri": "https://localhost:8080/",
          "height": 577
        },
        "id": "VlK1yiMnJmVM",
        "outputId": "b055cd71-90cf-4aee-c899-59888776858e"
      },
      "execution_count": null,
      "outputs": [
        {
          "output_type": "execute_result",
          "data": {
            "text/plain": [
              "                regio1  serviceCharge                     heatingType  \\\n",
              "0  Nordrhein_Westfalen         245.00                 central_heating   \n",
              "1      Rheinland_Pfalz         134.00  self_contained_central_heating   \n",
              "2              Sachsen         255.00                   floor_heating   \n",
              "3              Sachsen          58.15                district_heating   \n",
              "4               Bremen         138.00  self_contained_central_heating   \n",
              "\n",
              "  telekomTvOffer  telekomHybridUploadSpeed  newlyConst  balcony  picturecount  \\\n",
              "0  ONE_YEAR_FREE                       NaN       False    False             6   \n",
              "1  ONE_YEAR_FREE                       NaN       False     True             8   \n",
              "2  ONE_YEAR_FREE                      10.0        True     True             8   \n",
              "3  ONE_YEAR_FREE                       NaN       False     True             9   \n",
              "4            NaN                       NaN       False     True            19   \n",
              "\n",
              "   pricetrend  telekomUploadSpeed  ...               regio2  \\\n",
              "0        4.62                10.0  ...             Dortmund   \n",
              "1        3.47                10.0  ...    Rhein_Pfalz_Kreis   \n",
              "2        2.72                 2.4  ...              Dresden   \n",
              "3        1.53                40.0  ...  Mittelsachsen_Kreis   \n",
              "4        2.46                 NaN  ...               Bremen   \n",
              "\n",
              "                       regio3  \\\n",
              "0                     Schüren   \n",
              "1              Böhl_Iggelheim   \n",
              "2  Äußere_Neustadt_Antonstadt   \n",
              "3                    Freiberg   \n",
              "4           Neu_Schwachhausen   \n",
              "\n",
              "                                         description  \\\n",
              "0  Die ebenerdig zu erreichende Erdgeschosswohnun...   \n",
              "1  Alles neu macht der Mai – so kann es auch für ...   \n",
              "2  Der Neubau entsteht im Herzen der Dresdner Neu...   \n",
              "3  Abseits von Lärm und Abgasen in Ihre neue Wohn...   \n",
              "4  Es handelt sich hier um ein saniertes Mehrfami...   \n",
              "\n",
              "                                          facilities heatingCosts  \\\n",
              "0  Die Wohnung ist mit Laminat ausgelegt. Das Bad...          NaN   \n",
              "1                                                NaN          NaN   \n",
              "2  * 9 m² Balkon\\n* Bad mit bodengleicher Dusche,...          NaN   \n",
              "3                                                NaN        87.23   \n",
              "4  Diese Wohnung wurde neu saniert und ist wie fo...          NaN   \n",
              "\n",
              "   energyEfficiencyClass lastRefurbish  electricityBasePrice  \\\n",
              "0                    NaN           NaN                   NaN   \n",
              "1                    NaN        2019.0                   NaN   \n",
              "2                    NaN           NaN                   NaN   \n",
              "3                    NaN           NaN                   NaN   \n",
              "4                    NaN           NaN                   NaN   \n",
              "\n",
              "   electricityKwhPrice   date  \n",
              "0                  NaN  May19  \n",
              "1                  NaN  May19  \n",
              "2                  NaN  Oct19  \n",
              "3                  NaN  May19  \n",
              "4                  NaN  Feb20  \n",
              "\n",
              "[5 rows x 49 columns]"
            ],
            "text/html": [
              "\n",
              "  <div id=\"df-3c57f46f-353d-47a5-8fe2-1c96dad2e473\">\n",
              "    <div class=\"colab-df-container\">\n",
              "      <div>\n",
              "<style scoped>\n",
              "    .dataframe tbody tr th:only-of-type {\n",
              "        vertical-align: middle;\n",
              "    }\n",
              "\n",
              "    .dataframe tbody tr th {\n",
              "        vertical-align: top;\n",
              "    }\n",
              "\n",
              "    .dataframe thead th {\n",
              "        text-align: right;\n",
              "    }\n",
              "</style>\n",
              "<table border=\"1\" class=\"dataframe\">\n",
              "  <thead>\n",
              "    <tr style=\"text-align: right;\">\n",
              "      <th></th>\n",
              "      <th>regio1</th>\n",
              "      <th>serviceCharge</th>\n",
              "      <th>heatingType</th>\n",
              "      <th>telekomTvOffer</th>\n",
              "      <th>telekomHybridUploadSpeed</th>\n",
              "      <th>newlyConst</th>\n",
              "      <th>balcony</th>\n",
              "      <th>picturecount</th>\n",
              "      <th>pricetrend</th>\n",
              "      <th>telekomUploadSpeed</th>\n",
              "      <th>...</th>\n",
              "      <th>regio2</th>\n",
              "      <th>regio3</th>\n",
              "      <th>description</th>\n",
              "      <th>facilities</th>\n",
              "      <th>heatingCosts</th>\n",
              "      <th>energyEfficiencyClass</th>\n",
              "      <th>lastRefurbish</th>\n",
              "      <th>electricityBasePrice</th>\n",
              "      <th>electricityKwhPrice</th>\n",
              "      <th>date</th>\n",
              "    </tr>\n",
              "  </thead>\n",
              "  <tbody>\n",
              "    <tr>\n",
              "      <th>0</th>\n",
              "      <td>Nordrhein_Westfalen</td>\n",
              "      <td>245.00</td>\n",
              "      <td>central_heating</td>\n",
              "      <td>ONE_YEAR_FREE</td>\n",
              "      <td>NaN</td>\n",
              "      <td>False</td>\n",
              "      <td>False</td>\n",
              "      <td>6</td>\n",
              "      <td>4.62</td>\n",
              "      <td>10.0</td>\n",
              "      <td>...</td>\n",
              "      <td>Dortmund</td>\n",
              "      <td>Schüren</td>\n",
              "      <td>Die ebenerdig zu erreichende Erdgeschosswohnun...</td>\n",
              "      <td>Die Wohnung ist mit Laminat ausgelegt. Das Bad...</td>\n",
              "      <td>NaN</td>\n",
              "      <td>NaN</td>\n",
              "      <td>NaN</td>\n",
              "      <td>NaN</td>\n",
              "      <td>NaN</td>\n",
              "      <td>May19</td>\n",
              "    </tr>\n",
              "    <tr>\n",
              "      <th>1</th>\n",
              "      <td>Rheinland_Pfalz</td>\n",
              "      <td>134.00</td>\n",
              "      <td>self_contained_central_heating</td>\n",
              "      <td>ONE_YEAR_FREE</td>\n",
              "      <td>NaN</td>\n",
              "      <td>False</td>\n",
              "      <td>True</td>\n",
              "      <td>8</td>\n",
              "      <td>3.47</td>\n",
              "      <td>10.0</td>\n",
              "      <td>...</td>\n",
              "      <td>Rhein_Pfalz_Kreis</td>\n",
              "      <td>Böhl_Iggelheim</td>\n",
              "      <td>Alles neu macht der Mai – so kann es auch für ...</td>\n",
              "      <td>NaN</td>\n",
              "      <td>NaN</td>\n",
              "      <td>NaN</td>\n",
              "      <td>2019.0</td>\n",
              "      <td>NaN</td>\n",
              "      <td>NaN</td>\n",
              "      <td>May19</td>\n",
              "    </tr>\n",
              "    <tr>\n",
              "      <th>2</th>\n",
              "      <td>Sachsen</td>\n",
              "      <td>255.00</td>\n",
              "      <td>floor_heating</td>\n",
              "      <td>ONE_YEAR_FREE</td>\n",
              "      <td>10.0</td>\n",
              "      <td>True</td>\n",
              "      <td>True</td>\n",
              "      <td>8</td>\n",
              "      <td>2.72</td>\n",
              "      <td>2.4</td>\n",
              "      <td>...</td>\n",
              "      <td>Dresden</td>\n",
              "      <td>Äußere_Neustadt_Antonstadt</td>\n",
              "      <td>Der Neubau entsteht im Herzen der Dresdner Neu...</td>\n",
              "      <td>* 9 m² Balkon\\n* Bad mit bodengleicher Dusche,...</td>\n",
              "      <td>NaN</td>\n",
              "      <td>NaN</td>\n",
              "      <td>NaN</td>\n",
              "      <td>NaN</td>\n",
              "      <td>NaN</td>\n",
              "      <td>Oct19</td>\n",
              "    </tr>\n",
              "    <tr>\n",
              "      <th>3</th>\n",
              "      <td>Sachsen</td>\n",
              "      <td>58.15</td>\n",
              "      <td>district_heating</td>\n",
              "      <td>ONE_YEAR_FREE</td>\n",
              "      <td>NaN</td>\n",
              "      <td>False</td>\n",
              "      <td>True</td>\n",
              "      <td>9</td>\n",
              "      <td>1.53</td>\n",
              "      <td>40.0</td>\n",
              "      <td>...</td>\n",
              "      <td>Mittelsachsen_Kreis</td>\n",
              "      <td>Freiberg</td>\n",
              "      <td>Abseits von Lärm und Abgasen in Ihre neue Wohn...</td>\n",
              "      <td>NaN</td>\n",
              "      <td>87.23</td>\n",
              "      <td>NaN</td>\n",
              "      <td>NaN</td>\n",
              "      <td>NaN</td>\n",
              "      <td>NaN</td>\n",
              "      <td>May19</td>\n",
              "    </tr>\n",
              "    <tr>\n",
              "      <th>4</th>\n",
              "      <td>Bremen</td>\n",
              "      <td>138.00</td>\n",
              "      <td>self_contained_central_heating</td>\n",
              "      <td>NaN</td>\n",
              "      <td>NaN</td>\n",
              "      <td>False</td>\n",
              "      <td>True</td>\n",
              "      <td>19</td>\n",
              "      <td>2.46</td>\n",
              "      <td>NaN</td>\n",
              "      <td>...</td>\n",
              "      <td>Bremen</td>\n",
              "      <td>Neu_Schwachhausen</td>\n",
              "      <td>Es handelt sich hier um ein saniertes Mehrfami...</td>\n",
              "      <td>Diese Wohnung wurde neu saniert und ist wie fo...</td>\n",
              "      <td>NaN</td>\n",
              "      <td>NaN</td>\n",
              "      <td>NaN</td>\n",
              "      <td>NaN</td>\n",
              "      <td>NaN</td>\n",
              "      <td>Feb20</td>\n",
              "    </tr>\n",
              "  </tbody>\n",
              "</table>\n",
              "<p>5 rows × 49 columns</p>\n",
              "</div>\n",
              "      <button class=\"colab-df-convert\" onclick=\"convertToInteractive('df-3c57f46f-353d-47a5-8fe2-1c96dad2e473')\"\n",
              "              title=\"Convert this dataframe to an interactive table.\"\n",
              "              style=\"display:none;\">\n",
              "        \n",
              "  <svg xmlns=\"http://www.w3.org/2000/svg\" height=\"24px\"viewBox=\"0 0 24 24\"\n",
              "       width=\"24px\">\n",
              "    <path d=\"M0 0h24v24H0V0z\" fill=\"none\"/>\n",
              "    <path d=\"M18.56 5.44l.94 2.06.94-2.06 2.06-.94-2.06-.94-.94-2.06-.94 2.06-2.06.94zm-11 1L8.5 8.5l.94-2.06 2.06-.94-2.06-.94L8.5 2.5l-.94 2.06-2.06.94zm10 10l.94 2.06.94-2.06 2.06-.94-2.06-.94-.94-2.06-.94 2.06-2.06.94z\"/><path d=\"M17.41 7.96l-1.37-1.37c-.4-.4-.92-.59-1.43-.59-.52 0-1.04.2-1.43.59L10.3 9.45l-7.72 7.72c-.78.78-.78 2.05 0 2.83L4 21.41c.39.39.9.59 1.41.59.51 0 1.02-.2 1.41-.59l7.78-7.78 2.81-2.81c.8-.78.8-2.07 0-2.86zM5.41 20L4 18.59l7.72-7.72 1.47 1.35L5.41 20z\"/>\n",
              "  </svg>\n",
              "      </button>\n",
              "      \n",
              "  <style>\n",
              "    .colab-df-container {\n",
              "      display:flex;\n",
              "      flex-wrap:wrap;\n",
              "      gap: 12px;\n",
              "    }\n",
              "\n",
              "    .colab-df-convert {\n",
              "      background-color: #E8F0FE;\n",
              "      border: none;\n",
              "      border-radius: 50%;\n",
              "      cursor: pointer;\n",
              "      display: none;\n",
              "      fill: #1967D2;\n",
              "      height: 32px;\n",
              "      padding: 0 0 0 0;\n",
              "      width: 32px;\n",
              "    }\n",
              "\n",
              "    .colab-df-convert:hover {\n",
              "      background-color: #E2EBFA;\n",
              "      box-shadow: 0px 1px 2px rgba(60, 64, 67, 0.3), 0px 1px 3px 1px rgba(60, 64, 67, 0.15);\n",
              "      fill: #174EA6;\n",
              "    }\n",
              "\n",
              "    [theme=dark] .colab-df-convert {\n",
              "      background-color: #3B4455;\n",
              "      fill: #D2E3FC;\n",
              "    }\n",
              "\n",
              "    [theme=dark] .colab-df-convert:hover {\n",
              "      background-color: #434B5C;\n",
              "      box-shadow: 0px 1px 3px 1px rgba(0, 0, 0, 0.15);\n",
              "      filter: drop-shadow(0px 1px 2px rgba(0, 0, 0, 0.3));\n",
              "      fill: #FFFFFF;\n",
              "    }\n",
              "  </style>\n",
              "\n",
              "      <script>\n",
              "        const buttonEl =\n",
              "          document.querySelector('#df-3c57f46f-353d-47a5-8fe2-1c96dad2e473 button.colab-df-convert');\n",
              "        buttonEl.style.display =\n",
              "          google.colab.kernel.accessAllowed ? 'block' : 'none';\n",
              "\n",
              "        async function convertToInteractive(key) {\n",
              "          const element = document.querySelector('#df-3c57f46f-353d-47a5-8fe2-1c96dad2e473');\n",
              "          const dataTable =\n",
              "            await google.colab.kernel.invokeFunction('convertToInteractive',\n",
              "                                                     [key], {});\n",
              "          if (!dataTable) return;\n",
              "\n",
              "          const docLinkHtml = 'Like what you see? Visit the ' +\n",
              "            '<a target=\"_blank\" href=https://colab.research.google.com/notebooks/data_table.ipynb>data table notebook</a>'\n",
              "            + ' to learn more about interactive tables.';\n",
              "          element.innerHTML = '';\n",
              "          dataTable['output_type'] = 'display_data';\n",
              "          await google.colab.output.renderOutput(dataTable, element);\n",
              "          const docLink = document.createElement('div');\n",
              "          docLink.innerHTML = docLinkHtml;\n",
              "          element.appendChild(docLink);\n",
              "        }\n",
              "      </script>\n",
              "    </div>\n",
              "  </div>\n",
              "  "
            ]
          },
          "metadata": {},
          "execution_count": 6
        }
      ]
    },
    {
      "cell_type": "code",
      "source": [
        "dt.info\n",
        "dt.describe()\n",
        "\n"
      ],
      "metadata": {
        "colab": {
          "base_uri": "https://localhost:8080/",
          "height": 394
        },
        "id": "_wr1_uxpJrko",
        "outputId": "94ee769f-2f19-4666-c61b-0abf07fd5805"
      },
      "execution_count": null,
      "outputs": [
        {
          "output_type": "execute_result",
          "data": {
            "text/plain": [
              "       serviceCharge  telekomHybridUploadSpeed  picturecount   pricetrend  \\\n",
              "count    3903.000000                     689.0   4010.000000  3989.000000   \n",
              "mean      146.798222                      10.0      9.635910     3.251451   \n",
              "std        85.874402                       0.0      6.181152     2.047527   \n",
              "min         0.000000                      10.0      0.000000    -8.260000   \n",
              "25%        92.000000                      10.0      6.000000     1.820000   \n",
              "50%       130.000000                      10.0      9.000000     3.280000   \n",
              "75%       183.050000                      10.0     13.000000     4.480000   \n",
              "max      1200.000000                      10.0     57.000000    11.540000   \n",
              "\n",
              "       telekomUploadSpeed    totalRent  yearConstructed       scoutId  \\\n",
              "count         3530.000000  3432.000000      3136.000000  4.010000e+03   \n",
              "mean            28.506969   785.604840      1965.539860  1.066123e+08   \n",
              "std             16.561535   548.185477        47.368382  1.283583e+07   \n",
              "min              1.000000     0.000000      1111.000000  3.063658e+07   \n",
              "25%             10.000000   450.215000      1940.000000  1.065161e+08   \n",
              "50%             40.000000   612.050000      1972.000000  1.109507e+08   \n",
              "75%             40.000000   945.500000      1996.000000  1.136754e+08   \n",
              "max            100.000000  7850.000000      2020.000000  1.157091e+08   \n",
              "\n",
              "       noParkSpaces  yearConstructedRange  ...      noRooms  thermalChar  \\\n",
              "count   1345.000000           3136.000000  ...  4009.000000  2407.000000   \n",
              "mean       1.382900              3.639349  ...     2.603293   113.453889   \n",
              "std        3.642487              2.692011  ...     0.954835    53.075167   \n",
              "min        0.000000              1.000000  ...     1.000000     4.000000   \n",
              "25%        1.000000              1.000000  ...     2.000000    79.000000   \n",
              "50%        1.000000              3.000000  ...     3.000000   105.700000   \n",
              "75%        1.000000              5.000000  ...     3.000000   139.000000   \n",
              "max       80.000000              9.000000  ...     8.500000   500.000000   \n",
              "\n",
              "             floor  numberOfFloors  noRoomsRange  livingSpaceRange  \\\n",
              "count  3262.000000     2522.000000   4009.000000       4009.000000   \n",
              "mean      2.193133        3.607851      2.552257          3.025443   \n",
              "std       2.863785        1.906082      0.924724          1.387624   \n",
              "min      -1.000000        0.000000      1.000000          1.000000   \n",
              "25%       1.000000        3.000000      2.000000          2.000000   \n",
              "50%       2.000000        3.000000      3.000000          3.000000   \n",
              "75%       3.000000        4.000000      3.000000          4.000000   \n",
              "max     136.000000       23.000000      5.000000          7.000000   \n",
              "\n",
              "       heatingCosts  lastRefurbish  electricityBasePrice  electricityKwhPrice  \n",
              "count   1278.000000    1107.000000            636.000000           636.000000  \n",
              "mean      74.613568    2013.570009             89.240346             0.199819  \n",
              "std       37.000721       7.502099              5.206552             0.009304  \n",
              "min        0.000000    1980.000000             71.430000             0.170500  \n",
              "25%       52.000000    2012.000000             90.760000             0.191500  \n",
              "50%       70.000000    2017.000000             90.760000             0.198500  \n",
              "75%       90.000000    2019.000000             90.760000             0.205500  \n",
              "max      600.000000    2020.000000             90.760000             0.227600  \n",
              "\n",
              "[8 rows x 24 columns]"
            ],
            "text/html": [
              "\n",
              "  <div id=\"df-de6674fb-a5fd-4ac4-9e52-9197bda6a1d8\">\n",
              "    <div class=\"colab-df-container\">\n",
              "      <div>\n",
              "<style scoped>\n",
              "    .dataframe tbody tr th:only-of-type {\n",
              "        vertical-align: middle;\n",
              "    }\n",
              "\n",
              "    .dataframe tbody tr th {\n",
              "        vertical-align: top;\n",
              "    }\n",
              "\n",
              "    .dataframe thead th {\n",
              "        text-align: right;\n",
              "    }\n",
              "</style>\n",
              "<table border=\"1\" class=\"dataframe\">\n",
              "  <thead>\n",
              "    <tr style=\"text-align: right;\">\n",
              "      <th></th>\n",
              "      <th>serviceCharge</th>\n",
              "      <th>telekomHybridUploadSpeed</th>\n",
              "      <th>picturecount</th>\n",
              "      <th>pricetrend</th>\n",
              "      <th>telekomUploadSpeed</th>\n",
              "      <th>totalRent</th>\n",
              "      <th>yearConstructed</th>\n",
              "      <th>scoutId</th>\n",
              "      <th>noParkSpaces</th>\n",
              "      <th>yearConstructedRange</th>\n",
              "      <th>...</th>\n",
              "      <th>noRooms</th>\n",
              "      <th>thermalChar</th>\n",
              "      <th>floor</th>\n",
              "      <th>numberOfFloors</th>\n",
              "      <th>noRoomsRange</th>\n",
              "      <th>livingSpaceRange</th>\n",
              "      <th>heatingCosts</th>\n",
              "      <th>lastRefurbish</th>\n",
              "      <th>electricityBasePrice</th>\n",
              "      <th>electricityKwhPrice</th>\n",
              "    </tr>\n",
              "  </thead>\n",
              "  <tbody>\n",
              "    <tr>\n",
              "      <th>count</th>\n",
              "      <td>3903.000000</td>\n",
              "      <td>689.0</td>\n",
              "      <td>4010.000000</td>\n",
              "      <td>3989.000000</td>\n",
              "      <td>3530.000000</td>\n",
              "      <td>3432.000000</td>\n",
              "      <td>3136.000000</td>\n",
              "      <td>4.010000e+03</td>\n",
              "      <td>1345.000000</td>\n",
              "      <td>3136.000000</td>\n",
              "      <td>...</td>\n",
              "      <td>4009.000000</td>\n",
              "      <td>2407.000000</td>\n",
              "      <td>3262.000000</td>\n",
              "      <td>2522.000000</td>\n",
              "      <td>4009.000000</td>\n",
              "      <td>4009.000000</td>\n",
              "      <td>1278.000000</td>\n",
              "      <td>1107.000000</td>\n",
              "      <td>636.000000</td>\n",
              "      <td>636.000000</td>\n",
              "    </tr>\n",
              "    <tr>\n",
              "      <th>mean</th>\n",
              "      <td>146.798222</td>\n",
              "      <td>10.0</td>\n",
              "      <td>9.635910</td>\n",
              "      <td>3.251451</td>\n",
              "      <td>28.506969</td>\n",
              "      <td>785.604840</td>\n",
              "      <td>1965.539860</td>\n",
              "      <td>1.066123e+08</td>\n",
              "      <td>1.382900</td>\n",
              "      <td>3.639349</td>\n",
              "      <td>...</td>\n",
              "      <td>2.603293</td>\n",
              "      <td>113.453889</td>\n",
              "      <td>2.193133</td>\n",
              "      <td>3.607851</td>\n",
              "      <td>2.552257</td>\n",
              "      <td>3.025443</td>\n",
              "      <td>74.613568</td>\n",
              "      <td>2013.570009</td>\n",
              "      <td>89.240346</td>\n",
              "      <td>0.199819</td>\n",
              "    </tr>\n",
              "    <tr>\n",
              "      <th>std</th>\n",
              "      <td>85.874402</td>\n",
              "      <td>0.0</td>\n",
              "      <td>6.181152</td>\n",
              "      <td>2.047527</td>\n",
              "      <td>16.561535</td>\n",
              "      <td>548.185477</td>\n",
              "      <td>47.368382</td>\n",
              "      <td>1.283583e+07</td>\n",
              "      <td>3.642487</td>\n",
              "      <td>2.692011</td>\n",
              "      <td>...</td>\n",
              "      <td>0.954835</td>\n",
              "      <td>53.075167</td>\n",
              "      <td>2.863785</td>\n",
              "      <td>1.906082</td>\n",
              "      <td>0.924724</td>\n",
              "      <td>1.387624</td>\n",
              "      <td>37.000721</td>\n",
              "      <td>7.502099</td>\n",
              "      <td>5.206552</td>\n",
              "      <td>0.009304</td>\n",
              "    </tr>\n",
              "    <tr>\n",
              "      <th>min</th>\n",
              "      <td>0.000000</td>\n",
              "      <td>10.0</td>\n",
              "      <td>0.000000</td>\n",
              "      <td>-8.260000</td>\n",
              "      <td>1.000000</td>\n",
              "      <td>0.000000</td>\n",
              "      <td>1111.000000</td>\n",
              "      <td>3.063658e+07</td>\n",
              "      <td>0.000000</td>\n",
              "      <td>1.000000</td>\n",
              "      <td>...</td>\n",
              "      <td>1.000000</td>\n",
              "      <td>4.000000</td>\n",
              "      <td>-1.000000</td>\n",
              "      <td>0.000000</td>\n",
              "      <td>1.000000</td>\n",
              "      <td>1.000000</td>\n",
              "      <td>0.000000</td>\n",
              "      <td>1980.000000</td>\n",
              "      <td>71.430000</td>\n",
              "      <td>0.170500</td>\n",
              "    </tr>\n",
              "    <tr>\n",
              "      <th>25%</th>\n",
              "      <td>92.000000</td>\n",
              "      <td>10.0</td>\n",
              "      <td>6.000000</td>\n",
              "      <td>1.820000</td>\n",
              "      <td>10.000000</td>\n",
              "      <td>450.215000</td>\n",
              "      <td>1940.000000</td>\n",
              "      <td>1.065161e+08</td>\n",
              "      <td>1.000000</td>\n",
              "      <td>1.000000</td>\n",
              "      <td>...</td>\n",
              "      <td>2.000000</td>\n",
              "      <td>79.000000</td>\n",
              "      <td>1.000000</td>\n",
              "      <td>3.000000</td>\n",
              "      <td>2.000000</td>\n",
              "      <td>2.000000</td>\n",
              "      <td>52.000000</td>\n",
              "      <td>2012.000000</td>\n",
              "      <td>90.760000</td>\n",
              "      <td>0.191500</td>\n",
              "    </tr>\n",
              "    <tr>\n",
              "      <th>50%</th>\n",
              "      <td>130.000000</td>\n",
              "      <td>10.0</td>\n",
              "      <td>9.000000</td>\n",
              "      <td>3.280000</td>\n",
              "      <td>40.000000</td>\n",
              "      <td>612.050000</td>\n",
              "      <td>1972.000000</td>\n",
              "      <td>1.109507e+08</td>\n",
              "      <td>1.000000</td>\n",
              "      <td>3.000000</td>\n",
              "      <td>...</td>\n",
              "      <td>3.000000</td>\n",
              "      <td>105.700000</td>\n",
              "      <td>2.000000</td>\n",
              "      <td>3.000000</td>\n",
              "      <td>3.000000</td>\n",
              "      <td>3.000000</td>\n",
              "      <td>70.000000</td>\n",
              "      <td>2017.000000</td>\n",
              "      <td>90.760000</td>\n",
              "      <td>0.198500</td>\n",
              "    </tr>\n",
              "    <tr>\n",
              "      <th>75%</th>\n",
              "      <td>183.050000</td>\n",
              "      <td>10.0</td>\n",
              "      <td>13.000000</td>\n",
              "      <td>4.480000</td>\n",
              "      <td>40.000000</td>\n",
              "      <td>945.500000</td>\n",
              "      <td>1996.000000</td>\n",
              "      <td>1.136754e+08</td>\n",
              "      <td>1.000000</td>\n",
              "      <td>5.000000</td>\n",
              "      <td>...</td>\n",
              "      <td>3.000000</td>\n",
              "      <td>139.000000</td>\n",
              "      <td>3.000000</td>\n",
              "      <td>4.000000</td>\n",
              "      <td>3.000000</td>\n",
              "      <td>4.000000</td>\n",
              "      <td>90.000000</td>\n",
              "      <td>2019.000000</td>\n",
              "      <td>90.760000</td>\n",
              "      <td>0.205500</td>\n",
              "    </tr>\n",
              "    <tr>\n",
              "      <th>max</th>\n",
              "      <td>1200.000000</td>\n",
              "      <td>10.0</td>\n",
              "      <td>57.000000</td>\n",
              "      <td>11.540000</td>\n",
              "      <td>100.000000</td>\n",
              "      <td>7850.000000</td>\n",
              "      <td>2020.000000</td>\n",
              "      <td>1.157091e+08</td>\n",
              "      <td>80.000000</td>\n",
              "      <td>9.000000</td>\n",
              "      <td>...</td>\n",
              "      <td>8.500000</td>\n",
              "      <td>500.000000</td>\n",
              "      <td>136.000000</td>\n",
              "      <td>23.000000</td>\n",
              "      <td>5.000000</td>\n",
              "      <td>7.000000</td>\n",
              "      <td>600.000000</td>\n",
              "      <td>2020.000000</td>\n",
              "      <td>90.760000</td>\n",
              "      <td>0.227600</td>\n",
              "    </tr>\n",
              "  </tbody>\n",
              "</table>\n",
              "<p>8 rows × 24 columns</p>\n",
              "</div>\n",
              "      <button class=\"colab-df-convert\" onclick=\"convertToInteractive('df-de6674fb-a5fd-4ac4-9e52-9197bda6a1d8')\"\n",
              "              title=\"Convert this dataframe to an interactive table.\"\n",
              "              style=\"display:none;\">\n",
              "        \n",
              "  <svg xmlns=\"http://www.w3.org/2000/svg\" height=\"24px\"viewBox=\"0 0 24 24\"\n",
              "       width=\"24px\">\n",
              "    <path d=\"M0 0h24v24H0V0z\" fill=\"none\"/>\n",
              "    <path d=\"M18.56 5.44l.94 2.06.94-2.06 2.06-.94-2.06-.94-.94-2.06-.94 2.06-2.06.94zm-11 1L8.5 8.5l.94-2.06 2.06-.94-2.06-.94L8.5 2.5l-.94 2.06-2.06.94zm10 10l.94 2.06.94-2.06 2.06-.94-2.06-.94-.94-2.06-.94 2.06-2.06.94z\"/><path d=\"M17.41 7.96l-1.37-1.37c-.4-.4-.92-.59-1.43-.59-.52 0-1.04.2-1.43.59L10.3 9.45l-7.72 7.72c-.78.78-.78 2.05 0 2.83L4 21.41c.39.39.9.59 1.41.59.51 0 1.02-.2 1.41-.59l7.78-7.78 2.81-2.81c.8-.78.8-2.07 0-2.86zM5.41 20L4 18.59l7.72-7.72 1.47 1.35L5.41 20z\"/>\n",
              "  </svg>\n",
              "      </button>\n",
              "      \n",
              "  <style>\n",
              "    .colab-df-container {\n",
              "      display:flex;\n",
              "      flex-wrap:wrap;\n",
              "      gap: 12px;\n",
              "    }\n",
              "\n",
              "    .colab-df-convert {\n",
              "      background-color: #E8F0FE;\n",
              "      border: none;\n",
              "      border-radius: 50%;\n",
              "      cursor: pointer;\n",
              "      display: none;\n",
              "      fill: #1967D2;\n",
              "      height: 32px;\n",
              "      padding: 0 0 0 0;\n",
              "      width: 32px;\n",
              "    }\n",
              "\n",
              "    .colab-df-convert:hover {\n",
              "      background-color: #E2EBFA;\n",
              "      box-shadow: 0px 1px 2px rgba(60, 64, 67, 0.3), 0px 1px 3px 1px rgba(60, 64, 67, 0.15);\n",
              "      fill: #174EA6;\n",
              "    }\n",
              "\n",
              "    [theme=dark] .colab-df-convert {\n",
              "      background-color: #3B4455;\n",
              "      fill: #D2E3FC;\n",
              "    }\n",
              "\n",
              "    [theme=dark] .colab-df-convert:hover {\n",
              "      background-color: #434B5C;\n",
              "      box-shadow: 0px 1px 3px 1px rgba(0, 0, 0, 0.15);\n",
              "      filter: drop-shadow(0px 1px 2px rgba(0, 0, 0, 0.3));\n",
              "      fill: #FFFFFF;\n",
              "    }\n",
              "  </style>\n",
              "\n",
              "      <script>\n",
              "        const buttonEl =\n",
              "          document.querySelector('#df-de6674fb-a5fd-4ac4-9e52-9197bda6a1d8 button.colab-df-convert');\n",
              "        buttonEl.style.display =\n",
              "          google.colab.kernel.accessAllowed ? 'block' : 'none';\n",
              "\n",
              "        async function convertToInteractive(key) {\n",
              "          const element = document.querySelector('#df-de6674fb-a5fd-4ac4-9e52-9197bda6a1d8');\n",
              "          const dataTable =\n",
              "            await google.colab.kernel.invokeFunction('convertToInteractive',\n",
              "                                                     [key], {});\n",
              "          if (!dataTable) return;\n",
              "\n",
              "          const docLinkHtml = 'Like what you see? Visit the ' +\n",
              "            '<a target=\"_blank\" href=https://colab.research.google.com/notebooks/data_table.ipynb>data table notebook</a>'\n",
              "            + ' to learn more about interactive tables.';\n",
              "          element.innerHTML = '';\n",
              "          dataTable['output_type'] = 'display_data';\n",
              "          await google.colab.output.renderOutput(dataTable, element);\n",
              "          const docLink = document.createElement('div');\n",
              "          docLink.innerHTML = docLinkHtml;\n",
              "          element.appendChild(docLink);\n",
              "        }\n",
              "      </script>\n",
              "    </div>\n",
              "  </div>\n",
              "  "
            ]
          },
          "metadata": {},
          "execution_count": 9
        }
      ]
    },
    {
      "cell_type": "code",
      "source": [
        "dt.info"
      ],
      "metadata": {
        "colab": {
          "base_uri": "https://localhost:8080/"
        },
        "id": "OPuoAsQvFtxC",
        "outputId": "52c26e10-6977-47f5-a11f-867b681febf2"
      },
      "execution_count": null,
      "outputs": [
        {
          "output_type": "execute_result",
          "data": {
            "text/plain": [
              "<bound method DataFrame.info of                    regio1  serviceCharge                     heatingType  \\\n",
              "0     Nordrhein_Westfalen         245.00                 central_heating   \n",
              "1         Rheinland_Pfalz         134.00  self_contained_central_heating   \n",
              "2                 Sachsen         255.00                   floor_heating   \n",
              "3                 Sachsen          58.15                district_heating   \n",
              "4                  Bremen         138.00  self_contained_central_heating   \n",
              "...                   ...            ...                             ...   \n",
              "4005        Niedersachsen          65.00                 central_heating   \n",
              "4006              Sachsen         115.00                 central_heating   \n",
              "4007              Sachsen          68.00                 central_heating   \n",
              "4008  Nordrhein_Westfalen          80.00                     gas_heating   \n",
              "4009              Sachsen         110.00                 central_heating   \n",
              "\n",
              "     telekomTvOffer  telekomHybridUploadSpeed  newlyConst  balcony  \\\n",
              "0     ONE_YEAR_FREE                       NaN       False    False   \n",
              "1     ONE_YEAR_FREE                       NaN       False     True   \n",
              "2     ONE_YEAR_FREE                      10.0        True     True   \n",
              "3     ONE_YEAR_FREE                       NaN       False     True   \n",
              "4               NaN                       NaN       False     True   \n",
              "...             ...                       ...         ...      ...   \n",
              "4005  ONE_YEAR_FREE                       NaN       False    False   \n",
              "4006  ONE_YEAR_FREE                       NaN       False    False   \n",
              "4007  ONE_YEAR_FREE                       NaN       False     True   \n",
              "4008  ONE_YEAR_FREE                       NaN       False    False   \n",
              "4009  ONE_YEAR_FREE                       NaN       False     True   \n",
              "\n",
              "      picturecount  pricetrend  telekomUploadSpeed  ...  \\\n",
              "0                6        4.62                10.0  ...   \n",
              "1                8        3.47                10.0  ...   \n",
              "2                8        2.72                 2.4  ...   \n",
              "3                9        1.53                40.0  ...   \n",
              "4               19        2.46                 NaN  ...   \n",
              "...            ...         ...                 ...  ...   \n",
              "4005             8        3.77                10.0  ...   \n",
              "4006             6        1.79                40.0  ...   \n",
              "4007             4        1.80                40.0  ...   \n",
              "4008             9        1.75                40.0  ...   \n",
              "4009             7       -0.20                40.0  ...   \n",
              "\n",
              "                         regio2                      regio3  \\\n",
              "0                      Dortmund                     Schüren   \n",
              "1             Rhein_Pfalz_Kreis              Böhl_Iggelheim   \n",
              "2                       Dresden  Äußere_Neustadt_Antonstadt   \n",
              "3           Mittelsachsen_Kreis                    Freiberg   \n",
              "4                        Bremen           Neu_Schwachhausen   \n",
              "...                         ...                         ...   \n",
              "4005              Emsland_Kreis                   Haselünne   \n",
              "4006              Leipzig_Kreis                      Wurzen   \n",
              "4007                    Dresden                 Gorbitz_Süd   \n",
              "4008  Siegen_Wittgenstein_Kreis                 Hilchenbach   \n",
              "4009                        NaN                         NaN   \n",
              "\n",
              "                                            description  \\\n",
              "0     Die ebenerdig zu erreichende Erdgeschosswohnun...   \n",
              "1     Alles neu macht der Mai – so kann es auch für ...   \n",
              "2     Der Neubau entsteht im Herzen der Dresdner Neu...   \n",
              "3     Abseits von Lärm und Abgasen in Ihre neue Wohn...   \n",
              "4     Es handelt sich hier um ein saniertes Mehrfami...   \n",
              "...                                                 ...   \n",
              "4005  Landluft schnuppern?\\nWir bieten Ihnen hier ei...   \n",
              "4006  Die helle 2-Zimmer-Wohnung befindet sich im 1....   \n",
              "4007  Kontakt unter 0160 90619549 oder Katrin.Reuter...   \n",
              "4008  Etwas am Berg gelegene Hauserreihe.\\nDie solid...   \n",
              "4009                                                NaN   \n",
              "\n",
              "                                             facilities heatingCosts  \\\n",
              "0     Die Wohnung ist mit Laminat ausgelegt. Das Bad...          NaN   \n",
              "1                                                   NaN          NaN   \n",
              "2     * 9 m² Balkon\\n* Bad mit bodengleicher Dusche,...          NaN   \n",
              "3                                                   NaN        87.23   \n",
              "4     Diese Wohnung wurde neu saniert und ist wie fo...          NaN   \n",
              "...                                                 ...          ...   \n",
              "4005  - offene Wohnküche\\n- Tageslichtbad mit Badewa...          NaN   \n",
              "4006  - Wohnräume und Flur mit Laminat\\n- heller Win...          NaN   \n",
              "4007  Aufzug; Türsprechanlage; Isolierverglasung; Wa...        45.00   \n",
              "4008  Kleine, gut aufgeteilte Räumlichkeiten mit fre...        60.00   \n",
              "4009                                                NaN          NaN   \n",
              "\n",
              "      energyEfficiencyClass lastRefurbish  electricityBasePrice  \\\n",
              "0                       NaN           NaN                   NaN   \n",
              "1                       NaN        2019.0                   NaN   \n",
              "2                       NaN           NaN                   NaN   \n",
              "3                       NaN           NaN                   NaN   \n",
              "4                       NaN           NaN                   NaN   \n",
              "...                     ...           ...                   ...   \n",
              "4005                    NaN        2014.0                 90.76   \n",
              "4006                    NaN           NaN                   NaN   \n",
              "4007                      E           NaN                   NaN   \n",
              "4008                    NaN           NaN                   NaN   \n",
              "4009                    NaN           NaN                   NaN   \n",
              "\n",
              "      electricityKwhPrice   date  \n",
              "0                     NaN  May19  \n",
              "1                     NaN  May19  \n",
              "2                     NaN  Oct19  \n",
              "3                     NaN  May19  \n",
              "4                     NaN  Feb20  \n",
              "...                   ...    ...  \n",
              "4005               0.1915  Sep18  \n",
              "4006                  NaN  May19  \n",
              "4007                  NaN  Feb20  \n",
              "4008                  NaN  May19  \n",
              "4009                  NaN    NaN  \n",
              "\n",
              "[4010 rows x 49 columns]>"
            ]
          },
          "metadata": {},
          "execution_count": 15
        }
      ]
    },
    {
      "cell_type": "code",
      "source": [
        "dt.shape"
      ],
      "metadata": {
        "colab": {
          "base_uri": "https://localhost:8080/"
        },
        "id": "851q1rqKFYC5",
        "outputId": "5e013686-3067-48e5-d419-2abad96e0c04"
      },
      "execution_count": null,
      "outputs": [
        {
          "output_type": "execute_result",
          "data": {
            "text/plain": [
              "(4010, 49)"
            ]
          },
          "metadata": {},
          "execution_count": 10
        }
      ]
    },
    {
      "cell_type": "code",
      "source": [
        "dt.dropna().sum()"
      ],
      "metadata": {
        "colab": {
          "base_uri": "https://localhost:8080/"
        },
        "id": "HxdoWvi0J0Tk",
        "outputId": "f075f4b9-a997-4ead-c616-5da90b578d4e"
      },
      "execution_count": null,
      "outputs": [
        {
          "output_type": "execute_result",
          "data": {
            "text/plain": [
              "regio1                      0.0\n",
              "serviceCharge               0.0\n",
              "heatingType                 0.0\n",
              "telekomTvOffer              0.0\n",
              "telekomHybridUploadSpeed    0.0\n",
              "newlyConst                  0.0\n",
              "balcony                     0.0\n",
              "picturecount                0.0\n",
              "pricetrend                  0.0\n",
              "telekomUploadSpeed          0.0\n",
              "totalRent                   0.0\n",
              "yearConstructed             0.0\n",
              "scoutId                     0.0\n",
              "noParkSpaces                0.0\n",
              "firingTypes                 0.0\n",
              "hasKitchen                  0.0\n",
              "geo_bln                     0.0\n",
              "cellar                      0.0\n",
              "yearConstructedRange        0.0\n",
              "baseRent                    0.0\n",
              "houseNumber                 0.0\n",
              "livingSpace                 0.0\n",
              "geo_krs                     0.0\n",
              "condition                   0.0\n",
              "interiorQual                0.0\n",
              "petsAllowed                 0.0\n",
              "street                      0.0\n",
              "streetPlain                 0.0\n",
              "lift                        0.0\n",
              "baseRentRange               0.0\n",
              "typeOfFlat                  0.0\n",
              "geo_plz                     0.0\n",
              "noRooms                     0.0\n",
              "thermalChar                 0.0\n",
              "floor                       0.0\n",
              "numberOfFloors              0.0\n",
              "noRoomsRange                0.0\n",
              "garden                      0.0\n",
              "livingSpaceRange            0.0\n",
              "regio2                      0.0\n",
              "regio3                      0.0\n",
              "description                 0.0\n",
              "facilities                  0.0\n",
              "heatingCosts                0.0\n",
              "energyEfficiencyClass       0.0\n",
              "lastRefurbish               0.0\n",
              "electricityBasePrice        0.0\n",
              "electricityKwhPrice         0.0\n",
              "date                        0.0\n",
              "dtype: float64"
            ]
          },
          "metadata": {},
          "execution_count": 13
        }
      ]
    },
    {
      "cell_type": "markdown",
      "source": [
        "no null vales, data shape remains the same"
      ],
      "metadata": {
        "id": "L2Im5NjLFmoW"
      }
    },
    {
      "cell_type": "code",
      "source": [
        "dt.shape"
      ],
      "metadata": {
        "colab": {
          "base_uri": "https://localhost:8080/"
        },
        "id": "csMQDtWSJ4WT",
        "outputId": "646cd48d-1b6e-4396-a648-3cf635a520ff"
      },
      "execution_count": null,
      "outputs": [
        {
          "output_type": "execute_result",
          "data": {
            "text/plain": [
              "(4010, 49)"
            ]
          },
          "metadata": {},
          "execution_count": 12
        }
      ]
    },
    {
      "cell_type": "code",
      "source": [
        "lower_boundary = dt.mean() - 3*dt.std()\n",
        "print(lower_boundary)\n",
        "upper_boundary = dt.mean() + 3*dt.std()\n",
        "print(upper_boundary)"
      ],
      "metadata": {
        "colab": {
          "base_uri": "https://localhost:8080/"
        },
        "id": "ddY58aqBGEOU",
        "outputId": "1c121bd5-488d-44af-c0d7-c361220bd207"
      },
      "execution_count": null,
      "outputs": [
        {
          "output_type": "stream",
          "name": "stdout",
          "text": [
            "serviceCharge              -1.108250e+02\n",
            "telekomHybridUploadSpeed    1.000000e+01\n",
            "newlyConst                 -7.067916e-01\n",
            "balcony                    -8.605235e-01\n",
            "picturecount               -8.907546e+00\n",
            "pricetrend                 -2.891130e+00\n",
            "telekomUploadSpeed         -2.117764e+01\n",
            "totalRent                  -8.589516e+02\n",
            "yearConstructed             1.823435e+03\n",
            "scoutId                     6.810485e+07\n",
            "noParkSpaces               -9.544562e+00\n",
            "hasKitchen                 -1.080035e+00\n",
            "cellar                     -8.054830e-01\n",
            "yearConstructedRange       -4.436684e+00\n",
            "baseRent                   -9.163016e+02\n",
            "livingSpace                -2.305615e+01\n",
            "lift                       -1.030062e+00\n",
            "baseRentRange              -3.033382e+00\n",
            "geo_plz                    -4.797634e+04\n",
            "noRooms                    -2.612137e-01\n",
            "thermalChar                -4.577161e+01\n",
            "floor                      -6.398222e+00\n",
            "numberOfFloors             -2.110394e+00\n",
            "noRoomsRange               -2.219159e-01\n",
            "garden                     -9.854303e-01\n",
            "livingSpaceRange           -1.137429e+00\n",
            "heatingCosts               -3.638860e+01\n",
            "lastRefurbish               1.991064e+03\n",
            "electricityBasePrice        7.362069e+01\n",
            "electricityKwhPrice         1.719069e-01\n",
            "dtype: float64\n",
            "serviceCharge               4.044214e+02\n",
            "telekomHybridUploadSpeed    1.000000e+01\n",
            "newlyConst                  8.524275e-01\n",
            "balcony                     2.071995e+00\n",
            "picturecount                2.817937e+01\n",
            "pricetrend                  9.394033e+00\n",
            "telekomUploadSpeed          7.819157e+01\n",
            "totalRent                   2.430161e+03\n",
            "yearConstructed             2.107645e+03\n",
            "scoutId                     1.451198e+08\n",
            "noParkSpaces                1.231036e+01\n",
            "hasKitchen                  1.725921e+00\n",
            "cellar                      2.079797e+00\n",
            "yearConstructedRange        1.171538e+01\n",
            "baseRent                    2.167924e+03\n",
            "livingSpace                 1.680878e+02\n",
            "lift                        1.484540e+00\n",
            "baseRentRange               1.025314e+01\n",
            "geo_plz                     1.190122e+05\n",
            "noRooms                     5.467799e+00\n",
            "thermalChar                 2.726794e+02\n",
            "floor                       1.078449e+01\n",
            "numberOfFloors              9.326096e+00\n",
            "noRoomsRange                5.326431e+00\n",
            "garden                      1.363081e+00\n",
            "livingSpaceRange            7.188315e+00\n",
            "heatingCosts                1.856157e+02\n",
            "lastRefurbish               2.036076e+03\n",
            "electricityBasePrice        1.048600e+02\n",
            "electricityKwhPrice         2.277309e-01\n",
            "dtype: float64\n"
          ]
        },
        {
          "output_type": "stream",
          "name": "stderr",
          "text": [
            "/usr/local/lib/python3.7/dist-packages/ipykernel_launcher.py:1: FutureWarning: Dropping of nuisance columns in DataFrame reductions (with 'numeric_only=None') is deprecated; in a future version this will raise TypeError.  Select only valid columns before calling the reduction.\n",
            "  \"\"\"Entry point for launching an IPython kernel.\n",
            "/usr/local/lib/python3.7/dist-packages/ipykernel_launcher.py:1: FutureWarning: Dropping of nuisance columns in DataFrame reductions (with 'numeric_only=None') is deprecated; in a future version this will raise TypeError.  Select only valid columns before calling the reduction.\n",
            "  \"\"\"Entry point for launching an IPython kernel.\n",
            "/usr/local/lib/python3.7/dist-packages/ipykernel_launcher.py:3: FutureWarning: Dropping of nuisance columns in DataFrame reductions (with 'numeric_only=None') is deprecated; in a future version this will raise TypeError.  Select only valid columns before calling the reduction.\n",
            "  This is separate from the ipykernel package so we can avoid doing imports until\n",
            "/usr/local/lib/python3.7/dist-packages/ipykernel_launcher.py:3: FutureWarning: Dropping of nuisance columns in DataFrame reductions (with 'numeric_only=None') is deprecated; in a future version this will raise TypeError.  Select only valid columns before calling the reduction.\n",
            "  This is separate from the ipykernel package so we can avoid doing imports until\n"
          ]
        }
      ]
    },
    {
      "cell_type": "code",
      "source": [
        "column = ['yearConstructedRange','baseRent','livingSpace','lift','baseRentRange','geo_plz','noRooms','thermalChar','floor','numberOfFloors','noRoomsRange','garden','livingSpaceRange','heatingCosts','lastRefurbish','electricityBasePrice','electricityKwhPrice']\n",
        "print(column)"
      ],
      "metadata": {
        "id": "jIVmP2sqKAyP",
        "colab": {
          "base_uri": "https://localhost:8080/"
        },
        "outputId": "87cb04e6-ec4b-406f-ab36-be6f5a5d46a9"
      },
      "execution_count": null,
      "outputs": [
        {
          "output_type": "stream",
          "name": "stdout",
          "text": [
            "['yearConstructedRange', 'baseRent', 'livingSpace', 'lift', 'baseRentRange', 'geo_plz', 'noRooms', 'thermalChar', 'floor', 'numberOfFloors', 'noRoomsRange', 'garden', 'livingSpaceRange', 'heatingCosts', 'lastRefurbish', 'electricityBasePrice', 'electricityKwhPrice']\n"
          ]
        }
      ]
    },
    {
      "cell_type": "code",
      "source": [
        "for column in column:\n",
        "  dt = dt[(dt[column] < dt[column].mean() + 3*dt[column].std())]\n",
        "dt.shape"
      ],
      "metadata": {
        "colab": {
          "base_uri": "https://localhost:8080/"
        },
        "id": "6mRPBvRhGMxh",
        "outputId": "db4b4a6c-f033-428a-90d7-ac338b3bd677"
      },
      "execution_count": null,
      "outputs": [
        {
          "output_type": "execute_result",
          "data": {
            "text/plain": [
              "(17, 49)"
            ]
          },
          "metadata": {},
          "execution_count": 40
        }
      ]
    },
    {
      "cell_type": "code",
      "source": [
        "import statsmodels.api as sm"
      ],
      "metadata": {
        "id": "42rZxKmpJzqZ"
      },
      "execution_count": null,
      "outputs": []
    },
    {
      "cell_type": "code",
      "source": [
        "def forward_selection(data, target, significance_level=0.05):\n",
        "    initial_features = data.columns.tolist()\n",
        "    best_features = []\n",
        "    while (len(initial_features)>0):\n",
        "        remaining_features = list(set(initial_features)-set(best_features))\n",
        "        new_pval = pd.Series(index=remaining_features)\n",
        "        for new_column in remaining_features:\n",
        "            model = sm.OLS(target, sm.add_constant(data[best_features+[new_column]]).astype(float)).fit()\n",
        "            new_pval[new_column] = model.pvalues[new_column]\n",
        "        min_p_value = new_pval.min()\n",
        "        if(min_p_value<significance_level):\n",
        "            best_features.append(new_pval.idxmin())\n",
        "        else:\n",
        "            break\n",
        "    return best_features"
      ],
      "metadata": {
        "id": "X5JP-nSEIhEE"
      },
      "execution_count": null,
      "outputs": []
    },
    {
      "cell_type": "code",
      "source": [
        "features = forward_selection(df.drop(\"price_range\",1), df['price_range'])\n",
        "print(features)"
      ],
      "metadata": {
        "colab": {
          "base_uri": "https://localhost:8080/"
        },
        "id": "Noc4DNyIRKZy",
        "outputId": "f05a3bf3-db33-4841-b015-be6d4131ea2d"
      },
      "execution_count": 106,
      "outputs": [
        {
          "output_type": "stream",
          "name": "stderr",
          "text": [
            "/usr/local/lib/python3.7/dist-packages/ipykernel_launcher.py:1: FutureWarning: In a future version of pandas all arguments of DataFrame.drop except for the argument 'labels' will be keyword-only\n",
            "  \"\"\"Entry point for launching an IPython kernel.\n",
            "/usr/local/lib/python3.7/dist-packages/ipykernel_launcher.py:6: DeprecationWarning: The default dtype for empty Series will be 'object' instead of 'float64' in a future version. Specify a dtype explicitly to silence this warning.\n",
            "  \n",
            "/usr/local/lib/python3.7/dist-packages/statsmodels/tsa/tsatools.py:117: FutureWarning: In a future version of pandas all arguments of concat except for the argument 'objs' will be keyword-only\n",
            "  x = pd.concat(x[::order], 1)\n"
          ]
        },
        {
          "output_type": "stream",
          "name": "stdout",
          "text": [
            "['ram', 'battery_power', 'px_height', 'px_width', 'mobile_wt', 'int_memory']\n"
          ]
        }
      ]
    },
    {
      "cell_type": "markdown",
      "source": [
        "6 features selected from 21 features using Forward selection"
      ],
      "metadata": {
        "id": "5d7RDwUCh30a"
      }
    },
    {
      "cell_type": "code",
      "source": [
        "import sklearn as sklearn\n",
        "import matplotlib.pyplot as plt\n",
        "from sklearn.linear_model import LogisticRegression\n",
        "import sklearn.linear_model as lm\n",
        "import statsmodels.api as sm\n",
        "\n",
        "def selection_with_logistic_model(data, target, significance_level=0.05):\n",
        " for new_column in features:\n",
        "  model = sm.Logit(target, data)\n",
        " return model.fit(method='newton').summary2()\n",
        " model.fit(method='newton').summary()\n",
        " model.fit(method='newton').params"
      ],
      "metadata": {
        "id": "rHUVJ53NjIpY"
      },
      "execution_count": 125,
      "outputs": []
    },
    {
      "cell_type": "code",
      "source": [
        "selection_with_logistic_model(df.drop(\"blue\",1), df['blue'])"
      ],
      "metadata": {
        "colab": {
          "base_uri": "https://localhost:8080/",
          "height": 747
        },
        "id": "nbidytwQkatY",
        "outputId": "f79ff894-a481-482b-b3b8-192bf9536747"
      },
      "execution_count": 126,
      "outputs": [
        {
          "output_type": "stream",
          "name": "stdout",
          "text": [
            "Optimization terminated successfully.\n",
            "         Current function value: 0.687945\n",
            "         Iterations 4\n"
          ]
        },
        {
          "output_type": "stream",
          "name": "stderr",
          "text": [
            "/usr/local/lib/python3.7/dist-packages/ipykernel_launcher.py:1: FutureWarning: In a future version of pandas all arguments of DataFrame.drop except for the argument 'labels' will be keyword-only\n",
            "  \"\"\"Entry point for launching an IPython kernel.\n"
          ]
        },
        {
          "output_type": "execute_result",
          "data": {
            "text/plain": [
              "<class 'statsmodels.iolib.summary2.Summary'>\n",
              "\"\"\"\n",
              "                         Results: Logit\n",
              "================================================================\n",
              "Model:              Logit            Pseudo R-squared: 0.007    \n",
              "Dependent Variable: blue             AIC:              2775.2698\n",
              "Date:               2022-05-16 16:32 BIC:              2887.1675\n",
              "No. Observations:   1988             Log-Likelihood:   -1367.6  \n",
              "Df Model:           19               LL-Null:          -1377.9  \n",
              "Df Residuals:       1968             LLR p-value:      0.36389  \n",
              "Converged:          1.0000           Scale:            1.0000   \n",
              "No. Iterations:     4.0000                                      \n",
              "----------------------------------------------------------------\n",
              "                  Coef.  Std.Err.    z    P>|z|   [0.025  0.975]\n",
              "----------------------------------------------------------------\n",
              "battery_power     0.0000   0.0001  0.1948 0.8456 -0.0002  0.0002\n",
              "clock_speed       0.0412   0.0544  0.7582 0.4483 -0.0654  0.1478\n",
              "dual_sim          0.1396   0.0901  1.5489 0.1214 -0.0371  0.3163\n",
              "fc                0.0113   0.0139  0.8122 0.4167 -0.0160  0.0386\n",
              "four_g            0.1953   0.1117  1.7475 0.0806 -0.0237  0.4143\n",
              "int_memory        0.0039   0.0024  1.6065 0.1082 -0.0009  0.0087\n",
              "m_dep             0.0153   0.1548  0.0990 0.9212 -0.2881  0.3187\n",
              "mobile_wt        -0.0006   0.0012 -0.5283 0.5973 -0.0030  0.0017\n",
              "n_cores           0.0334   0.0193  1.7320 0.0833 -0.0044  0.0712\n",
              "pc               -0.0081   0.0097 -0.8396 0.4011 -0.0271  0.0109\n",
              "px_height         0.0001   0.0001  0.8256 0.4090 -0.0001  0.0003\n",
              "px_width         -0.0003   0.0001 -2.2807 0.0226 -0.0005 -0.0000\n",
              "ram               0.0000   0.0001  0.1237 0.9015 -0.0002  0.0002\n",
              "sc_h             -0.0043   0.0119 -0.3641 0.7158 -0.0277  0.0190\n",
              "sc_w              0.0021   0.0120  0.1769 0.8596 -0.0214  0.0257\n",
              "talk_time         0.0033   0.0081  0.4037 0.6864 -0.0127  0.0192\n",
              "three_g          -0.2712   0.1289 -2.1046 0.0353 -0.5238 -0.0186\n",
              "touch_screen      0.0347   0.0899  0.3858 0.6996 -0.1415  0.2109\n",
              "wifi             -0.0803   0.0903 -0.8896 0.3737 -0.2573  0.0966\n",
              "price_range       0.0227   0.1222  0.1861 0.8524 -0.2168  0.2622\n",
              "================================================================\n",
              "\n",
              "\"\"\""
            ],
            "text/html": [
              "<table class=\"simpletable\">\n",
              "<tr>\n",
              "        <td>Model:</td>              <td>Logit</td>      <td>Pseudo R-squared:</td>   <td>0.007</td>  \n",
              "</tr>\n",
              "<tr>\n",
              "  <td>Dependent Variable:</td>       <td>blue</td>             <td>AIC:</td>        <td>2775.2698</td>\n",
              "</tr>\n",
              "<tr>\n",
              "         <td>Date:</td>        <td>2022-05-16 16:32</td>       <td>BIC:</td>        <td>2887.1675</td>\n",
              "</tr>\n",
              "<tr>\n",
              "   <td>No. Observations:</td>        <td>1988</td>        <td>Log-Likelihood:</td>   <td>-1367.6</td> \n",
              "</tr>\n",
              "<tr>\n",
              "       <td>Df Model:</td>             <td>19</td>            <td>LL-Null:</td>       <td>-1377.9</td> \n",
              "</tr>\n",
              "<tr>\n",
              "     <td>Df Residuals:</td>          <td>1968</td>         <td>LLR p-value:</td>     <td>0.36389</td> \n",
              "</tr>\n",
              "<tr>\n",
              "      <td>Converged:</td>           <td>1.0000</td>           <td>Scale:</td>        <td>1.0000</td>  \n",
              "</tr>\n",
              "<tr>\n",
              "    <td>No. Iterations:</td>        <td>4.0000</td>              <td></td>              <td></td>     \n",
              "</tr>\n",
              "</table>\n",
              "<table class=\"simpletable\">\n",
              "<tr>\n",
              "        <td></td>         <th>Coef.</th>  <th>Std.Err.</th>    <th>z</th>     <th>P>|z|</th> <th>[0.025</th>  <th>0.975]</th> \n",
              "</tr>\n",
              "<tr>\n",
              "  <th>battery_power</th> <td>0.0000</td>   <td>0.0001</td>  <td>0.1948</td>  <td>0.8456</td> <td>-0.0002</td> <td>0.0002</td> \n",
              "</tr>\n",
              "<tr>\n",
              "  <th>clock_speed</th>   <td>0.0412</td>   <td>0.0544</td>  <td>0.7582</td>  <td>0.4483</td> <td>-0.0654</td> <td>0.1478</td> \n",
              "</tr>\n",
              "<tr>\n",
              "  <th>dual_sim</th>      <td>0.1396</td>   <td>0.0901</td>  <td>1.5489</td>  <td>0.1214</td> <td>-0.0371</td> <td>0.3163</td> \n",
              "</tr>\n",
              "<tr>\n",
              "  <th>fc</th>            <td>0.0113</td>   <td>0.0139</td>  <td>0.8122</td>  <td>0.4167</td> <td>-0.0160</td> <td>0.0386</td> \n",
              "</tr>\n",
              "<tr>\n",
              "  <th>four_g</th>        <td>0.1953</td>   <td>0.1117</td>  <td>1.7475</td>  <td>0.0806</td> <td>-0.0237</td> <td>0.4143</td> \n",
              "</tr>\n",
              "<tr>\n",
              "  <th>int_memory</th>    <td>0.0039</td>   <td>0.0024</td>  <td>1.6065</td>  <td>0.1082</td> <td>-0.0009</td> <td>0.0087</td> \n",
              "</tr>\n",
              "<tr>\n",
              "  <th>m_dep</th>         <td>0.0153</td>   <td>0.1548</td>  <td>0.0990</td>  <td>0.9212</td> <td>-0.2881</td> <td>0.3187</td> \n",
              "</tr>\n",
              "<tr>\n",
              "  <th>mobile_wt</th>     <td>-0.0006</td>  <td>0.0012</td>  <td>-0.5283</td> <td>0.5973</td> <td>-0.0030</td> <td>0.0017</td> \n",
              "</tr>\n",
              "<tr>\n",
              "  <th>n_cores</th>       <td>0.0334</td>   <td>0.0193</td>  <td>1.7320</td>  <td>0.0833</td> <td>-0.0044</td> <td>0.0712</td> \n",
              "</tr>\n",
              "<tr>\n",
              "  <th>pc</th>            <td>-0.0081</td>  <td>0.0097</td>  <td>-0.8396</td> <td>0.4011</td> <td>-0.0271</td> <td>0.0109</td> \n",
              "</tr>\n",
              "<tr>\n",
              "  <th>px_height</th>     <td>0.0001</td>   <td>0.0001</td>  <td>0.8256</td>  <td>0.4090</td> <td>-0.0001</td> <td>0.0003</td> \n",
              "</tr>\n",
              "<tr>\n",
              "  <th>px_width</th>      <td>-0.0003</td>  <td>0.0001</td>  <td>-2.2807</td> <td>0.0226</td> <td>-0.0005</td> <td>-0.0000</td>\n",
              "</tr>\n",
              "<tr>\n",
              "  <th>ram</th>           <td>0.0000</td>   <td>0.0001</td>  <td>0.1237</td>  <td>0.9015</td> <td>-0.0002</td> <td>0.0002</td> \n",
              "</tr>\n",
              "<tr>\n",
              "  <th>sc_h</th>          <td>-0.0043</td>  <td>0.0119</td>  <td>-0.3641</td> <td>0.7158</td> <td>-0.0277</td> <td>0.0190</td> \n",
              "</tr>\n",
              "<tr>\n",
              "  <th>sc_w</th>          <td>0.0021</td>   <td>0.0120</td>  <td>0.1769</td>  <td>0.8596</td> <td>-0.0214</td> <td>0.0257</td> \n",
              "</tr>\n",
              "<tr>\n",
              "  <th>talk_time</th>     <td>0.0033</td>   <td>0.0081</td>  <td>0.4037</td>  <td>0.6864</td> <td>-0.0127</td> <td>0.0192</td> \n",
              "</tr>\n",
              "<tr>\n",
              "  <th>three_g</th>       <td>-0.2712</td>  <td>0.1289</td>  <td>-2.1046</td> <td>0.0353</td> <td>-0.5238</td> <td>-0.0186</td>\n",
              "</tr>\n",
              "<tr>\n",
              "  <th>touch_screen</th>  <td>0.0347</td>   <td>0.0899</td>  <td>0.3858</td>  <td>0.6996</td> <td>-0.1415</td> <td>0.2109</td> \n",
              "</tr>\n",
              "<tr>\n",
              "  <th>wifi</th>          <td>-0.0803</td>  <td>0.0903</td>  <td>-0.8896</td> <td>0.3737</td> <td>-0.2573</td> <td>0.0966</td> \n",
              "</tr>\n",
              "<tr>\n",
              "  <th>price_range</th>   <td>0.0227</td>   <td>0.1222</td>  <td>0.1861</td>  <td>0.8524</td> <td>-0.2168</td> <td>0.2622</td> \n",
              "</tr>\n",
              "</table>"
            ]
          },
          "metadata": {},
          "execution_count": 126
        }
      ]
    },
    {
      "cell_type": "markdown",
      "source": [
        "F1-score, precision, and recall can be seen in the above results"
      ],
      "metadata": {
        "id": "5B6eYpiUtR2t"
      }
    },
    {
      "cell_type": "markdown",
      "source": [
        "PCA Test:"
      ],
      "metadata": {
        "id": "CLzCPsbiwk93"
      }
    },
    {
      "cell_type": "code",
      "source": [
        "from sklearn.decomposition import PCA\n",
        "pca = PCA(n_components=6)\n",
        "x_pca = pca.fit_transform(df)\n",
        "x_pca.shape"
      ],
      "metadata": {
        "colab": {
          "base_uri": "https://localhost:8080/"
        },
        "id": "RGaAmmi0wFEy",
        "outputId": "ab4184fe-3399-46ec-ad15-59597635d37a"
      },
      "execution_count": 127,
      "outputs": [
        {
          "output_type": "execute_result",
          "data": {
            "text/plain": [
              "(1988, 6)"
            ]
          },
          "metadata": {},
          "execution_count": 127
        }
      ]
    },
    {
      "cell_type": "code",
      "source": [
        "min_value = df['battery_power'].min()\n",
        "max_value = df['battery_power'].max()\n",
        "print(min_value)\n",
        "print(max_value)"
      ],
      "metadata": {
        "colab": {
          "base_uri": "https://localhost:8080/"
        },
        "id": "XTCsUjH7ycQx",
        "outputId": "6a7ed284-4ada-444d-e924-2034e63aac4f"
      },
      "execution_count": 130,
      "outputs": [
        {
          "output_type": "stream",
          "name": "stdout",
          "text": [
            "501\n",
            "1998\n"
          ]
        }
      ]
    },
    {
      "cell_type": "code",
      "source": [
        "bins = np.linspace(min_value,max_value,6)\n",
        "bins"
      ],
      "metadata": {
        "colab": {
          "base_uri": "https://localhost:8080/"
        },
        "id": "puaiWGsczdaE",
        "outputId": "1d88a5c4-b0c3-4fe6-f7c9-75a3e7583ee7"
      },
      "execution_count": 132,
      "outputs": [
        {
          "output_type": "execute_result",
          "data": {
            "text/plain": [
              "array([ 501. ,  800.4, 1099.8, 1399.2, 1698.6, 1998. ])"
            ]
          },
          "metadata": {},
          "execution_count": 132
        }
      ]
    },
    {
      "cell_type": "code",
      "source": [
        "#binning by frequency\n",
        "df['bin_qcut'] = pd.qcut(df['battery_power'], q=3, precision=1)\n",
        "print(df['bin_qcut'])"
      ],
      "metadata": {
        "colab": {
          "base_uri": "https://localhost:8080/"
        },
        "id": "gQYbzxGLz61m",
        "outputId": "3c0903ae-a0a6-448b-bb3e-3c072e05b93c"
      },
      "execution_count": 134,
      "outputs": [
        {
          "output_type": "stream",
          "name": "stdout",
          "text": [
            "0         (500.9, 974.3]\n",
            "1        (974.3, 1495.3]\n",
            "2         (500.9, 974.3]\n",
            "3         (500.9, 974.3]\n",
            "4       (1495.3, 1998.0]\n",
            "              ...       \n",
            "1995      (500.9, 974.3]\n",
            "1996    (1495.3, 1998.0]\n",
            "1997    (1495.3, 1998.0]\n",
            "1998    (1495.3, 1998.0]\n",
            "1999      (500.9, 974.3]\n",
            "Name: bin_qcut, Length: 1988, dtype: category\n",
            "Categories (3, interval[float64, right]): [(500.9, 974.3] < (974.3, 1495.3] < (1495.3, 1998.0]]\n"
          ]
        }
      ]
    },
    {
      "cell_type": "code",
      "source": [
        "#one hot encoding helps convert categorical data to numerical data, this helps the dataframe become easier to preform computations on\n",
        "sklearn.preprocessing.OneHotEncoder(categories = 'auto')\n",
        "one_hot_encoded_data = pd.get_dummies(df, columns = ['dual_sim', 'blue'])\n",
        "print(one_hot_encoded_data)"
      ],
      "metadata": {
        "colab": {
          "base_uri": "https://localhost:8080/"
        },
        "id": "pRFARDAY0NhW",
        "outputId": "65755ffe-9988-4aff-80a7-2f18f2763998"
      },
      "execution_count": 136,
      "outputs": [
        {
          "output_type": "stream",
          "name": "stdout",
          "text": [
            "      battery_power  clock_speed  fc  four_g  int_memory  m_dep  mobile_wt  \\\n",
            "0               842          2.2   1       0           7    0.6        188   \n",
            "1              1021          0.5   0       1          53    0.7        136   \n",
            "2               563          0.5   2       1          41    0.9        145   \n",
            "3               615          2.5   0       0          10    0.8        131   \n",
            "4              1821          1.2  13       1          44    0.6        141   \n",
            "...             ...          ...  ..     ...         ...    ...        ...   \n",
            "1995            794          0.5   0       1           2    0.8        106   \n",
            "1996           1965          2.6   0       0          39    0.2        187   \n",
            "1997           1911          0.9   1       1          36    0.7        108   \n",
            "1998           1512          0.9   4       1          46    0.1        145   \n",
            "1999            510          2.0   5       1          45    0.9        168   \n",
            "\n",
            "      n_cores  pc  px_height  ...  talk_time  three_g  touch_screen  wifi  \\\n",
            "0           2   2         20  ...         19        0             0     1   \n",
            "1           3   6        905  ...          7        1             1     0   \n",
            "2           5   6       1263  ...          9        1             1     0   \n",
            "3           6   9       1216  ...         11        1             0     0   \n",
            "4           2  14       1208  ...         15        1             1     0   \n",
            "...       ...  ..        ...  ...        ...      ...           ...   ...   \n",
            "1995        6  14       1222  ...         19        1             1     0   \n",
            "1996        4   3        915  ...         16        1             1     1   \n",
            "1997        8   3        868  ...          5        1             1     0   \n",
            "1998        5   5        336  ...         19        1             1     1   \n",
            "1999        6  16        483  ...          2        1             1     1   \n",
            "\n",
            "      price_range          bin_qcut  dual_sim_0  dual_sim_1  blue_0 blue_1  \n",
            "0               1    (500.9, 974.3]           1           0       1      0  \n",
            "1               2   (974.3, 1495.3]           0           1       0      1  \n",
            "2               2    (500.9, 974.3]           0           1       0      1  \n",
            "3               2    (500.9, 974.3]           1           0       0      1  \n",
            "4               1  (1495.3, 1998.0]           1           0       0      1  \n",
            "...           ...               ...         ...         ...     ...    ...  \n",
            "1995            0    (500.9, 974.3]           0           1       0      1  \n",
            "1996            2  (1495.3, 1998.0]           0           1       0      1  \n",
            "1997            3  (1495.3, 1998.0]           0           1       1      0  \n",
            "1998            0  (1495.3, 1998.0]           1           0       1      0  \n",
            "1999            3    (500.9, 974.3]           0           1       0      1  \n",
            "\n",
            "[1988 rows x 24 columns]\n"
          ]
        }
      ]
    },
    {
      "cell_type": "code",
      "source": [
        "#Log transformation is a data transformation method in which it replaces each variable x with a log(x).\n",
        "#The log transformation can be used to make highly skewed distributions less skewed. This can be valuable both \n",
        "#for making patterns in the data more interpretable and for helping to meet the assumptions of inferential statistics.\n"
      ],
      "metadata": {
        "id": "DQkNptty2xnE"
      },
      "execution_count": null,
      "outputs": []
    },
    {
      "cell_type": "code",
      "source": [
        "#Add new feature volume filled with sample data\n",
        "from random import randint\n",
        "for _ in range(1988):\n",
        " df['volume']=randint(0, 50)\n",
        "print(df['volume'].head())"
      ],
      "metadata": {
        "colab": {
          "base_uri": "https://localhost:8080/"
        },
        "id": "S3GjbiMr3FnN",
        "outputId": "15e0facd-91ad-41d8-b18d-d195e0d74777"
      },
      "execution_count": 149,
      "outputs": [
        {
          "output_type": "stream",
          "name": "stdout",
          "text": [
            "0    25\n",
            "1    25\n",
            "2    25\n",
            "3    25\n",
            "4    25\n",
            "Name: volume, dtype: int64\n"
          ]
        }
      ]
    },
    {
      "cell_type": "code",
      "source": [
        "from sklearn import svm\n",
        "clf = svm.SVC()\n",
        "df.fit(X, y)\n",
        "SVC()"
      ],
      "metadata": {
        "id": "hg9EiujH5o4n"
      },
      "execution_count": null,
      "outputs": []
    },
    {
      "cell_type": "markdown",
      "source": [
        "Question 8: Bootstrapping is defined by a test or metric that depends on random examining with replacement. It is often utilized for the validation of predictive model performance, ensemble methods, estimation of bias and variance of the parameter of a model etc. Bootstraping performs sampling with replacement from the original dataset, and at the same time assumes that the data points that have not been chosen are the test dataset. After repeating this process serval times, we compute the average score as estimation of our model performance.\n",
        "\n",
        "On the other hand, cross validation is a process for validating a model's performance, and it is done by splitting the training data into k parts. We can split the data such that the k-1 parts is the training set and use the other part is our test set. Once again, repeating k times differently holding out a different part of the data every time. Finally, we take the average of the k scores as our performance estimation. Cross validation has it's disadvantages, it can suffer from bias or variance. \n",
        "If the number of splits increase, the variance will be subject to increase. Contrarily, if we decrease the number of splits, the variance will be decreased and the bias will be subject to an increase.\n",
        "\n",
        "We can conclude that cross validation splits the available dataset to create multiple datasets, and Bootstrapping method uses the original dataset to create multiple datasets after resampling with replacement. When used for model validation, cross validation is a stronger selection than bootstrapping. Bootstrapping is more about building ensemble models or just estimating parameters."
      ],
      "metadata": {
        "id": "WC6mHH0cYxrv"
      }
    },
    {
      "cell_type": "markdown",
      "source": [
        "Question 9: 2-fold cross-validation is when data is split into two halves, and the data scientists preforms data tests on one set and trains the other set. This gives two different results.This approach has been shown to work well if you  repeat the process five times and then use predefined equations for algorithms A and B. This process is called 5x2-cross validation.\n",
        "\n",
        "5x2 Cross validation results are good for\n",
        "comparing classifiers because we will not decide\n",
        "there are statistically significant differences as\n",
        "often as with a 10-fold cross validation."
      ],
      "metadata": {
        "id": "r04TbpdqcR8P"
      }
    },
    {
      "cell_type": "markdown",
      "source": [
        "Question 10: K-Mean Clustering (elbow method) groups data into k number of groups. The number of clusters is user-defined and the algorithm will try to group the data. in each group, cases are similar to each other but different from cases in other groups. "
      ],
      "metadata": {
        "id": "3plbOX4gvz67"
      }
    },
    {
      "cell_type": "code",
      "source": [
        "#Part 2\n",
        "import numpy as np\n",
        "from sklearn.linear_model import LinearRegression\n",
        "model = LinearRegression(dt)\n",
        "print(model)"
      ],
      "metadata": {
        "colab": {
          "base_uri": "https://localhost:8080/",
          "height": 217
        },
        "id": "ueFXGO5h7hxx",
        "outputId": "5f0649ce-daa5-4a3c-f2be-f76bb371e167"
      },
      "execution_count": 152,
      "outputs": [
        {
          "output_type": "error",
          "ename": "TypeError",
          "evalue": "ignored",
          "traceback": [
            "\u001b[0;31m---------------------------------------------------------------------------\u001b[0m",
            "\u001b[0;31mTypeError\u001b[0m                                 Traceback (most recent call last)",
            "\u001b[0;32m<ipython-input-152-78b82fd9fd98>\u001b[0m in \u001b[0;36m<module>\u001b[0;34m()\u001b[0m\n\u001b[1;32m      2\u001b[0m \u001b[0;32mimport\u001b[0m \u001b[0mnumpy\u001b[0m \u001b[0;32mas\u001b[0m \u001b[0mnp\u001b[0m\u001b[0;34m\u001b[0m\u001b[0;34m\u001b[0m\u001b[0m\n\u001b[1;32m      3\u001b[0m \u001b[0;32mfrom\u001b[0m \u001b[0msklearn\u001b[0m\u001b[0;34m.\u001b[0m\u001b[0mlinear_model\u001b[0m \u001b[0;32mimport\u001b[0m \u001b[0mLinearRegression\u001b[0m\u001b[0;34m\u001b[0m\u001b[0;34m\u001b[0m\u001b[0m\n\u001b[0;32m----> 4\u001b[0;31m \u001b[0mmodel\u001b[0m \u001b[0;34m=\u001b[0m \u001b[0mLinearRegression\u001b[0m\u001b[0;34m(\u001b[0m\u001b[0mdt\u001b[0m\u001b[0;34m)\u001b[0m\u001b[0;34m\u001b[0m\u001b[0;34m\u001b[0m\u001b[0m\n\u001b[0m\u001b[1;32m      5\u001b[0m \u001b[0mprint\u001b[0m\u001b[0;34m(\u001b[0m\u001b[0mmodel\u001b[0m\u001b[0;34m)\u001b[0m\u001b[0;34m\u001b[0m\u001b[0;34m\u001b[0m\u001b[0m\n",
            "\u001b[0;31mTypeError\u001b[0m: __init__() takes 1 positional argument but 2 were given"
          ]
        }
      ]
    },
    {
      "cell_type": "code",
      "source": [
        "from sklearn import svm\n",
        "model = svm.SVC(kernel='poly', degree=2)\n",
        "model.fit(dt['serviceCharge'], dt['telekomUploadSpeed'])"
      ],
      "metadata": {
        "colab": {
          "base_uri": "https://localhost:8080/",
          "height": 432
        },
        "id": "ki7nz_SZG1NA",
        "outputId": "e74feebd-11b9-451f-87bd-a24f181d9171"
      },
      "execution_count": 162,
      "outputs": [
        {
          "output_type": "error",
          "ename": "ValueError",
          "evalue": "ignored",
          "traceback": [
            "\u001b[0;31m---------------------------------------------------------------------------\u001b[0m",
            "\u001b[0;31mValueError\u001b[0m                                Traceback (most recent call last)",
            "\u001b[0;32m<ipython-input-162-b14d7f36ff03>\u001b[0m in \u001b[0;36m<module>\u001b[0;34m()\u001b[0m\n\u001b[1;32m      1\u001b[0m \u001b[0;32mfrom\u001b[0m \u001b[0msklearn\u001b[0m \u001b[0;32mimport\u001b[0m \u001b[0msvm\u001b[0m\u001b[0;34m\u001b[0m\u001b[0;34m\u001b[0m\u001b[0m\n\u001b[1;32m      2\u001b[0m \u001b[0mmodel\u001b[0m \u001b[0;34m=\u001b[0m \u001b[0msvm\u001b[0m\u001b[0;34m.\u001b[0m\u001b[0mSVC\u001b[0m\u001b[0;34m(\u001b[0m\u001b[0mkernel\u001b[0m\u001b[0;34m=\u001b[0m\u001b[0;34m'poly'\u001b[0m\u001b[0;34m,\u001b[0m \u001b[0mdegree\u001b[0m\u001b[0;34m=\u001b[0m\u001b[0;36m2\u001b[0m\u001b[0;34m)\u001b[0m\u001b[0;34m\u001b[0m\u001b[0;34m\u001b[0m\u001b[0m\n\u001b[0;32m----> 3\u001b[0;31m \u001b[0mmodel\u001b[0m\u001b[0;34m.\u001b[0m\u001b[0mfit\u001b[0m\u001b[0;34m(\u001b[0m\u001b[0mdt\u001b[0m\u001b[0;34m[\u001b[0m\u001b[0;34m'serviceCharge'\u001b[0m\u001b[0;34m]\u001b[0m\u001b[0;34m,\u001b[0m \u001b[0mdt\u001b[0m\u001b[0;34m[\u001b[0m\u001b[0;34m'telekomUploadSpeed'\u001b[0m\u001b[0;34m]\u001b[0m\u001b[0;34m)\u001b[0m\u001b[0;34m\u001b[0m\u001b[0;34m\u001b[0m\u001b[0m\n\u001b[0m",
            "\u001b[0;32m/usr/local/lib/python3.7/dist-packages/sklearn/svm/_base.py\u001b[0m in \u001b[0;36mfit\u001b[0;34m(self, X, y, sample_weight)\u001b[0m\n\u001b[1;32m    194\u001b[0m                 \u001b[0morder\u001b[0m\u001b[0;34m=\u001b[0m\u001b[0;34m\"C\"\u001b[0m\u001b[0;34m,\u001b[0m\u001b[0;34m\u001b[0m\u001b[0;34m\u001b[0m\u001b[0m\n\u001b[1;32m    195\u001b[0m                 \u001b[0maccept_sparse\u001b[0m\u001b[0;34m=\u001b[0m\u001b[0;34m\"csr\"\u001b[0m\u001b[0;34m,\u001b[0m\u001b[0;34m\u001b[0m\u001b[0;34m\u001b[0m\u001b[0m\n\u001b[0;32m--> 196\u001b[0;31m                 \u001b[0maccept_large_sparse\u001b[0m\u001b[0;34m=\u001b[0m\u001b[0;32mFalse\u001b[0m\u001b[0;34m,\u001b[0m\u001b[0;34m\u001b[0m\u001b[0;34m\u001b[0m\u001b[0m\n\u001b[0m\u001b[1;32m    197\u001b[0m             )\n\u001b[1;32m    198\u001b[0m \u001b[0;34m\u001b[0m\u001b[0m\n",
            "\u001b[0;32m/usr/local/lib/python3.7/dist-packages/sklearn/base.py\u001b[0m in \u001b[0;36m_validate_data\u001b[0;34m(self, X, y, reset, validate_separately, **check_params)\u001b[0m\n\u001b[1;32m    579\u001b[0m                 \u001b[0my\u001b[0m \u001b[0;34m=\u001b[0m \u001b[0mcheck_array\u001b[0m\u001b[0;34m(\u001b[0m\u001b[0my\u001b[0m\u001b[0;34m,\u001b[0m \u001b[0;34m**\u001b[0m\u001b[0mcheck_y_params\u001b[0m\u001b[0;34m)\u001b[0m\u001b[0;34m\u001b[0m\u001b[0;34m\u001b[0m\u001b[0m\n\u001b[1;32m    580\u001b[0m             \u001b[0;32melse\u001b[0m\u001b[0;34m:\u001b[0m\u001b[0;34m\u001b[0m\u001b[0;34m\u001b[0m\u001b[0m\n\u001b[0;32m--> 581\u001b[0;31m                 \u001b[0mX\u001b[0m\u001b[0;34m,\u001b[0m \u001b[0my\u001b[0m \u001b[0;34m=\u001b[0m \u001b[0mcheck_X_y\u001b[0m\u001b[0;34m(\u001b[0m\u001b[0mX\u001b[0m\u001b[0;34m,\u001b[0m \u001b[0my\u001b[0m\u001b[0;34m,\u001b[0m \u001b[0;34m**\u001b[0m\u001b[0mcheck_params\u001b[0m\u001b[0;34m)\u001b[0m\u001b[0;34m\u001b[0m\u001b[0;34m\u001b[0m\u001b[0m\n\u001b[0m\u001b[1;32m    582\u001b[0m             \u001b[0mout\u001b[0m \u001b[0;34m=\u001b[0m \u001b[0mX\u001b[0m\u001b[0;34m,\u001b[0m \u001b[0my\u001b[0m\u001b[0;34m\u001b[0m\u001b[0;34m\u001b[0m\u001b[0m\n\u001b[1;32m    583\u001b[0m \u001b[0;34m\u001b[0m\u001b[0m\n",
            "\u001b[0;32m/usr/local/lib/python3.7/dist-packages/sklearn/utils/validation.py\u001b[0m in \u001b[0;36mcheck_X_y\u001b[0;34m(X, y, accept_sparse, accept_large_sparse, dtype, order, copy, force_all_finite, ensure_2d, allow_nd, multi_output, ensure_min_samples, ensure_min_features, y_numeric, estimator)\u001b[0m\n\u001b[1;32m    974\u001b[0m         \u001b[0mensure_min_samples\u001b[0m\u001b[0;34m=\u001b[0m\u001b[0mensure_min_samples\u001b[0m\u001b[0;34m,\u001b[0m\u001b[0;34m\u001b[0m\u001b[0;34m\u001b[0m\u001b[0m\n\u001b[1;32m    975\u001b[0m         \u001b[0mensure_min_features\u001b[0m\u001b[0;34m=\u001b[0m\u001b[0mensure_min_features\u001b[0m\u001b[0;34m,\u001b[0m\u001b[0;34m\u001b[0m\u001b[0;34m\u001b[0m\u001b[0m\n\u001b[0;32m--> 976\u001b[0;31m         \u001b[0mestimator\u001b[0m\u001b[0;34m=\u001b[0m\u001b[0mestimator\u001b[0m\u001b[0;34m,\u001b[0m\u001b[0;34m\u001b[0m\u001b[0;34m\u001b[0m\u001b[0m\n\u001b[0m\u001b[1;32m    977\u001b[0m     )\n\u001b[1;32m    978\u001b[0m \u001b[0;34m\u001b[0m\u001b[0m\n",
            "\u001b[0;32m/usr/local/lib/python3.7/dist-packages/sklearn/utils/validation.py\u001b[0m in \u001b[0;36mcheck_array\u001b[0;34m(array, accept_sparse, accept_large_sparse, dtype, order, copy, force_all_finite, ensure_2d, allow_nd, ensure_min_samples, ensure_min_features, estimator)\u001b[0m\n\u001b[1;32m    771\u001b[0m                     \u001b[0;34m\"Reshape your data either using array.reshape(-1, 1) if \"\u001b[0m\u001b[0;34m\u001b[0m\u001b[0;34m\u001b[0m\u001b[0m\n\u001b[1;32m    772\u001b[0m                     \u001b[0;34m\"your data has a single feature or array.reshape(1, -1) \"\u001b[0m\u001b[0;34m\u001b[0m\u001b[0;34m\u001b[0m\u001b[0m\n\u001b[0;32m--> 773\u001b[0;31m                     \u001b[0;34m\"if it contains a single sample.\"\u001b[0m\u001b[0;34m.\u001b[0m\u001b[0mformat\u001b[0m\u001b[0;34m(\u001b[0m\u001b[0marray\u001b[0m\u001b[0;34m)\u001b[0m\u001b[0;34m\u001b[0m\u001b[0;34m\u001b[0m\u001b[0m\n\u001b[0m\u001b[1;32m    774\u001b[0m                 )\n\u001b[1;32m    775\u001b[0m \u001b[0;34m\u001b[0m\u001b[0m\n",
            "\u001b[0;31mValueError\u001b[0m: Expected 2D array, got 1D array instead:\narray=[120.    93.    70.   160.    75.   130.    95.    78.03 115.    80.\n  80.   190.   160.   170.   115.    85.    76.41].\nReshape your data either using array.reshape(-1, 1) if your data has a single feature or array.reshape(1, -1) if it contains a single sample."
          ]
        }
      ]
    },
    {
      "cell_type": "code",
      "source": [
        "import statsmodels.api as sm\n",
        "results = sm.OLS(dt.drop(\"heatingType\",1), dt['heatingType']).fit()"
      ],
      "metadata": {
        "colab": {
          "base_uri": "https://localhost:8080/",
          "height": 383
        },
        "id": "FCxQNou6JJTB",
        "outputId": "f37e355a-0627-4b80-e91c-17e44d30ea6d"
      },
      "execution_count": 164,
      "outputs": [
        {
          "output_type": "stream",
          "name": "stderr",
          "text": [
            "/usr/local/lib/python3.7/dist-packages/ipykernel_launcher.py:2: FutureWarning: In a future version of pandas all arguments of DataFrame.drop except for the argument 'labels' will be keyword-only\n",
            "  \n"
          ]
        },
        {
          "output_type": "error",
          "ename": "ValueError",
          "evalue": "ignored",
          "traceback": [
            "\u001b[0;31m---------------------------------------------------------------------------\u001b[0m",
            "\u001b[0;31mValueError\u001b[0m                                Traceback (most recent call last)",
            "\u001b[0;32m<ipython-input-164-fb9320640c22>\u001b[0m in \u001b[0;36m<module>\u001b[0;34m()\u001b[0m\n\u001b[1;32m      1\u001b[0m \u001b[0;32mimport\u001b[0m \u001b[0mstatsmodels\u001b[0m\u001b[0;34m.\u001b[0m\u001b[0mapi\u001b[0m \u001b[0;32mas\u001b[0m \u001b[0msm\u001b[0m\u001b[0;34m\u001b[0m\u001b[0;34m\u001b[0m\u001b[0m\n\u001b[0;32m----> 2\u001b[0;31m \u001b[0mresults\u001b[0m \u001b[0;34m=\u001b[0m \u001b[0msm\u001b[0m\u001b[0;34m.\u001b[0m\u001b[0mOLS\u001b[0m\u001b[0;34m(\u001b[0m\u001b[0mdt\u001b[0m\u001b[0;34m.\u001b[0m\u001b[0mdrop\u001b[0m\u001b[0;34m(\u001b[0m\u001b[0;34m\"heatingType\"\u001b[0m\u001b[0;34m,\u001b[0m\u001b[0;36m1\u001b[0m\u001b[0;34m)\u001b[0m\u001b[0;34m,\u001b[0m \u001b[0mdt\u001b[0m\u001b[0;34m[\u001b[0m\u001b[0;34m'heatingType'\u001b[0m\u001b[0;34m]\u001b[0m\u001b[0;34m)\u001b[0m\u001b[0;34m.\u001b[0m\u001b[0mfit\u001b[0m\u001b[0;34m(\u001b[0m\u001b[0;34m)\u001b[0m\u001b[0;34m\u001b[0m\u001b[0;34m\u001b[0m\u001b[0m\n\u001b[0m",
            "\u001b[0;32m/usr/local/lib/python3.7/dist-packages/statsmodels/regression/linear_model.py\u001b[0m in \u001b[0;36m__init__\u001b[0;34m(self, endog, exog, missing, hasconst, **kwargs)\u001b[0m\n\u001b[1;32m    836\u001b[0m                  **kwargs):\n\u001b[1;32m    837\u001b[0m         super(OLS, self).__init__(endog, exog, missing=missing,\n\u001b[0;32m--> 838\u001b[0;31m                                   hasconst=hasconst, **kwargs)\n\u001b[0m\u001b[1;32m    839\u001b[0m         \u001b[0;32mif\u001b[0m \u001b[0;34m\"weights\"\u001b[0m \u001b[0;32min\u001b[0m \u001b[0mself\u001b[0m\u001b[0;34m.\u001b[0m\u001b[0m_init_keys\u001b[0m\u001b[0;34m:\u001b[0m\u001b[0;34m\u001b[0m\u001b[0;34m\u001b[0m\u001b[0m\n\u001b[1;32m    840\u001b[0m             \u001b[0mself\u001b[0m\u001b[0;34m.\u001b[0m\u001b[0m_init_keys\u001b[0m\u001b[0;34m.\u001b[0m\u001b[0mremove\u001b[0m\u001b[0;34m(\u001b[0m\u001b[0;34m\"weights\"\u001b[0m\u001b[0;34m)\u001b[0m\u001b[0;34m\u001b[0m\u001b[0;34m\u001b[0m\u001b[0m\n",
            "\u001b[0;32m/usr/local/lib/python3.7/dist-packages/statsmodels/regression/linear_model.py\u001b[0m in \u001b[0;36m__init__\u001b[0;34m(self, endog, exog, weights, missing, hasconst, **kwargs)\u001b[0m\n\u001b[1;32m    682\u001b[0m             \u001b[0mweights\u001b[0m \u001b[0;34m=\u001b[0m \u001b[0mweights\u001b[0m\u001b[0;34m.\u001b[0m\u001b[0msqueeze\u001b[0m\u001b[0;34m(\u001b[0m\u001b[0;34m)\u001b[0m\u001b[0;34m\u001b[0m\u001b[0;34m\u001b[0m\u001b[0m\n\u001b[1;32m    683\u001b[0m         super(WLS, self).__init__(endog, exog, missing=missing,\n\u001b[0;32m--> 684\u001b[0;31m                                   weights=weights, hasconst=hasconst, **kwargs)\n\u001b[0m\u001b[1;32m    685\u001b[0m         \u001b[0mnobs\u001b[0m \u001b[0;34m=\u001b[0m \u001b[0mself\u001b[0m\u001b[0;34m.\u001b[0m\u001b[0mexog\u001b[0m\u001b[0;34m.\u001b[0m\u001b[0mshape\u001b[0m\u001b[0;34m[\u001b[0m\u001b[0;36m0\u001b[0m\u001b[0;34m]\u001b[0m\u001b[0;34m\u001b[0m\u001b[0;34m\u001b[0m\u001b[0m\n\u001b[1;32m    686\u001b[0m         \u001b[0mweights\u001b[0m \u001b[0;34m=\u001b[0m \u001b[0mself\u001b[0m\u001b[0;34m.\u001b[0m\u001b[0mweights\u001b[0m\u001b[0;34m\u001b[0m\u001b[0;34m\u001b[0m\u001b[0m\n",
            "\u001b[0;32m/usr/local/lib/python3.7/dist-packages/statsmodels/regression/linear_model.py\u001b[0m in \u001b[0;36m__init__\u001b[0;34m(self, endog, exog, **kwargs)\u001b[0m\n\u001b[1;32m    194\u001b[0m     \"\"\"\n\u001b[1;32m    195\u001b[0m     \u001b[0;32mdef\u001b[0m \u001b[0m__init__\u001b[0m\u001b[0;34m(\u001b[0m\u001b[0mself\u001b[0m\u001b[0;34m,\u001b[0m \u001b[0mendog\u001b[0m\u001b[0;34m,\u001b[0m \u001b[0mexog\u001b[0m\u001b[0;34m,\u001b[0m \u001b[0;34m**\u001b[0m\u001b[0mkwargs\u001b[0m\u001b[0;34m)\u001b[0m\u001b[0;34m:\u001b[0m\u001b[0;34m\u001b[0m\u001b[0;34m\u001b[0m\u001b[0m\n\u001b[0;32m--> 196\u001b[0;31m         \u001b[0msuper\u001b[0m\u001b[0;34m(\u001b[0m\u001b[0mRegressionModel\u001b[0m\u001b[0;34m,\u001b[0m \u001b[0mself\u001b[0m\u001b[0;34m)\u001b[0m\u001b[0;34m.\u001b[0m\u001b[0m__init__\u001b[0m\u001b[0;34m(\u001b[0m\u001b[0mendog\u001b[0m\u001b[0;34m,\u001b[0m \u001b[0mexog\u001b[0m\u001b[0;34m,\u001b[0m \u001b[0;34m**\u001b[0m\u001b[0mkwargs\u001b[0m\u001b[0;34m)\u001b[0m\u001b[0;34m\u001b[0m\u001b[0;34m\u001b[0m\u001b[0m\n\u001b[0m\u001b[1;32m    197\u001b[0m         \u001b[0mself\u001b[0m\u001b[0;34m.\u001b[0m\u001b[0m_data_attr\u001b[0m\u001b[0;34m.\u001b[0m\u001b[0mextend\u001b[0m\u001b[0;34m(\u001b[0m\u001b[0;34m[\u001b[0m\u001b[0;34m'pinv_wexog'\u001b[0m\u001b[0;34m,\u001b[0m \u001b[0;34m'wendog'\u001b[0m\u001b[0;34m,\u001b[0m \u001b[0;34m'wexog'\u001b[0m\u001b[0;34m,\u001b[0m \u001b[0;34m'weights'\u001b[0m\u001b[0;34m]\u001b[0m\u001b[0;34m)\u001b[0m\u001b[0;34m\u001b[0m\u001b[0;34m\u001b[0m\u001b[0m\n\u001b[1;32m    198\u001b[0m \u001b[0;34m\u001b[0m\u001b[0m\n",
            "\u001b[0;32m/usr/local/lib/python3.7/dist-packages/statsmodels/base/model.py\u001b[0m in \u001b[0;36m__init__\u001b[0;34m(self, endog, exog, **kwargs)\u001b[0m\n\u001b[1;32m    214\u001b[0m \u001b[0;34m\u001b[0m\u001b[0m\n\u001b[1;32m    215\u001b[0m     \u001b[0;32mdef\u001b[0m \u001b[0m__init__\u001b[0m\u001b[0;34m(\u001b[0m\u001b[0mself\u001b[0m\u001b[0;34m,\u001b[0m \u001b[0mendog\u001b[0m\u001b[0;34m,\u001b[0m \u001b[0mexog\u001b[0m\u001b[0;34m=\u001b[0m\u001b[0;32mNone\u001b[0m\u001b[0;34m,\u001b[0m \u001b[0;34m**\u001b[0m\u001b[0mkwargs\u001b[0m\u001b[0;34m)\u001b[0m\u001b[0;34m:\u001b[0m\u001b[0;34m\u001b[0m\u001b[0;34m\u001b[0m\u001b[0m\n\u001b[0;32m--> 216\u001b[0;31m         \u001b[0msuper\u001b[0m\u001b[0;34m(\u001b[0m\u001b[0mLikelihoodModel\u001b[0m\u001b[0;34m,\u001b[0m \u001b[0mself\u001b[0m\u001b[0;34m)\u001b[0m\u001b[0;34m.\u001b[0m\u001b[0m__init__\u001b[0m\u001b[0;34m(\u001b[0m\u001b[0mendog\u001b[0m\u001b[0;34m,\u001b[0m \u001b[0mexog\u001b[0m\u001b[0;34m,\u001b[0m \u001b[0;34m**\u001b[0m\u001b[0mkwargs\u001b[0m\u001b[0;34m)\u001b[0m\u001b[0;34m\u001b[0m\u001b[0;34m\u001b[0m\u001b[0m\n\u001b[0m\u001b[1;32m    217\u001b[0m         \u001b[0mself\u001b[0m\u001b[0;34m.\u001b[0m\u001b[0minitialize\u001b[0m\u001b[0;34m(\u001b[0m\u001b[0;34m)\u001b[0m\u001b[0;34m\u001b[0m\u001b[0;34m\u001b[0m\u001b[0m\n\u001b[1;32m    218\u001b[0m \u001b[0;34m\u001b[0m\u001b[0m\n",
            "\u001b[0;32m/usr/local/lib/python3.7/dist-packages/statsmodels/base/model.py\u001b[0m in \u001b[0;36m__init__\u001b[0;34m(self, endog, exog, **kwargs)\u001b[0m\n\u001b[1;32m     66\u001b[0m         \u001b[0mhasconst\u001b[0m \u001b[0;34m=\u001b[0m \u001b[0mkwargs\u001b[0m\u001b[0;34m.\u001b[0m\u001b[0mpop\u001b[0m\u001b[0;34m(\u001b[0m\u001b[0;34m'hasconst'\u001b[0m\u001b[0;34m,\u001b[0m \u001b[0;32mNone\u001b[0m\u001b[0;34m)\u001b[0m\u001b[0;34m\u001b[0m\u001b[0;34m\u001b[0m\u001b[0m\n\u001b[1;32m     67\u001b[0m         self.data = self._handle_data(endog, exog, missing, hasconst,\n\u001b[0;32m---> 68\u001b[0;31m                                       **kwargs)\n\u001b[0m\u001b[1;32m     69\u001b[0m         \u001b[0mself\u001b[0m\u001b[0;34m.\u001b[0m\u001b[0mk_constant\u001b[0m \u001b[0;34m=\u001b[0m \u001b[0mself\u001b[0m\u001b[0;34m.\u001b[0m\u001b[0mdata\u001b[0m\u001b[0;34m.\u001b[0m\u001b[0mk_constant\u001b[0m\u001b[0;34m\u001b[0m\u001b[0;34m\u001b[0m\u001b[0m\n\u001b[1;32m     70\u001b[0m         \u001b[0mself\u001b[0m\u001b[0;34m.\u001b[0m\u001b[0mexog\u001b[0m \u001b[0;34m=\u001b[0m \u001b[0mself\u001b[0m\u001b[0;34m.\u001b[0m\u001b[0mdata\u001b[0m\u001b[0;34m.\u001b[0m\u001b[0mexog\u001b[0m\u001b[0;34m\u001b[0m\u001b[0;34m\u001b[0m\u001b[0m\n",
            "\u001b[0;32m/usr/local/lib/python3.7/dist-packages/statsmodels/base/model.py\u001b[0m in \u001b[0;36m_handle_data\u001b[0;34m(self, endog, exog, missing, hasconst, **kwargs)\u001b[0m\n\u001b[1;32m     89\u001b[0m \u001b[0;34m\u001b[0m\u001b[0m\n\u001b[1;32m     90\u001b[0m     \u001b[0;32mdef\u001b[0m \u001b[0m_handle_data\u001b[0m\u001b[0;34m(\u001b[0m\u001b[0mself\u001b[0m\u001b[0;34m,\u001b[0m \u001b[0mendog\u001b[0m\u001b[0;34m,\u001b[0m \u001b[0mexog\u001b[0m\u001b[0;34m,\u001b[0m \u001b[0mmissing\u001b[0m\u001b[0;34m,\u001b[0m \u001b[0mhasconst\u001b[0m\u001b[0;34m,\u001b[0m \u001b[0;34m**\u001b[0m\u001b[0mkwargs\u001b[0m\u001b[0;34m)\u001b[0m\u001b[0;34m:\u001b[0m\u001b[0;34m\u001b[0m\u001b[0;34m\u001b[0m\u001b[0m\n\u001b[0;32m---> 91\u001b[0;31m         \u001b[0mdata\u001b[0m \u001b[0;34m=\u001b[0m \u001b[0mhandle_data\u001b[0m\u001b[0;34m(\u001b[0m\u001b[0mendog\u001b[0m\u001b[0;34m,\u001b[0m \u001b[0mexog\u001b[0m\u001b[0;34m,\u001b[0m \u001b[0mmissing\u001b[0m\u001b[0;34m,\u001b[0m \u001b[0mhasconst\u001b[0m\u001b[0;34m,\u001b[0m \u001b[0;34m**\u001b[0m\u001b[0mkwargs\u001b[0m\u001b[0;34m)\u001b[0m\u001b[0;34m\u001b[0m\u001b[0;34m\u001b[0m\u001b[0m\n\u001b[0m\u001b[1;32m     92\u001b[0m         \u001b[0;31m# kwargs arrays could have changed, easier to just attach here\u001b[0m\u001b[0;34m\u001b[0m\u001b[0;34m\u001b[0m\u001b[0;34m\u001b[0m\u001b[0m\n\u001b[1;32m     93\u001b[0m         \u001b[0;32mfor\u001b[0m \u001b[0mkey\u001b[0m \u001b[0;32min\u001b[0m \u001b[0mkwargs\u001b[0m\u001b[0;34m:\u001b[0m\u001b[0;34m\u001b[0m\u001b[0;34m\u001b[0m\u001b[0m\n",
            "\u001b[0;32m/usr/local/lib/python3.7/dist-packages/statsmodels/base/data.py\u001b[0m in \u001b[0;36mhandle_data\u001b[0;34m(endog, exog, missing, hasconst, **kwargs)\u001b[0m\n\u001b[1;32m    633\u001b[0m     \u001b[0mklass\u001b[0m \u001b[0;34m=\u001b[0m \u001b[0mhandle_data_class_factory\u001b[0m\u001b[0;34m(\u001b[0m\u001b[0mendog\u001b[0m\u001b[0;34m,\u001b[0m \u001b[0mexog\u001b[0m\u001b[0;34m)\u001b[0m\u001b[0;34m\u001b[0m\u001b[0;34m\u001b[0m\u001b[0m\n\u001b[1;32m    634\u001b[0m     return klass(endog, exog=exog, missing=missing, hasconst=hasconst,\n\u001b[0;32m--> 635\u001b[0;31m                  **kwargs)\n\u001b[0m",
            "\u001b[0;32m/usr/local/lib/python3.7/dist-packages/statsmodels/base/data.py\u001b[0m in \u001b[0;36m__init__\u001b[0;34m(self, endog, exog, missing, hasconst, **kwargs)\u001b[0m\n\u001b[1;32m     74\u001b[0m             \u001b[0mself\u001b[0m\u001b[0;34m.\u001b[0m\u001b[0morig_endog\u001b[0m \u001b[0;34m=\u001b[0m \u001b[0mendog\u001b[0m\u001b[0;34m\u001b[0m\u001b[0;34m\u001b[0m\u001b[0m\n\u001b[1;32m     75\u001b[0m             \u001b[0mself\u001b[0m\u001b[0;34m.\u001b[0m\u001b[0morig_exog\u001b[0m \u001b[0;34m=\u001b[0m \u001b[0mexog\u001b[0m\u001b[0;34m\u001b[0m\u001b[0;34m\u001b[0m\u001b[0m\n\u001b[0;32m---> 76\u001b[0;31m             \u001b[0mself\u001b[0m\u001b[0;34m.\u001b[0m\u001b[0mendog\u001b[0m\u001b[0;34m,\u001b[0m \u001b[0mself\u001b[0m\u001b[0;34m.\u001b[0m\u001b[0mexog\u001b[0m \u001b[0;34m=\u001b[0m \u001b[0mself\u001b[0m\u001b[0;34m.\u001b[0m\u001b[0m_convert_endog_exog\u001b[0m\u001b[0;34m(\u001b[0m\u001b[0mendog\u001b[0m\u001b[0;34m,\u001b[0m \u001b[0mexog\u001b[0m\u001b[0;34m)\u001b[0m\u001b[0;34m\u001b[0m\u001b[0;34m\u001b[0m\u001b[0m\n\u001b[0m\u001b[1;32m     77\u001b[0m \u001b[0;34m\u001b[0m\u001b[0m\n\u001b[1;32m     78\u001b[0m         \u001b[0mself\u001b[0m\u001b[0;34m.\u001b[0m\u001b[0mconst_idx\u001b[0m \u001b[0;34m=\u001b[0m \u001b[0;32mNone\u001b[0m\u001b[0;34m\u001b[0m\u001b[0;34m\u001b[0m\u001b[0m\n",
            "\u001b[0;32m/usr/local/lib/python3.7/dist-packages/statsmodels/base/data.py\u001b[0m in \u001b[0;36m_convert_endog_exog\u001b[0;34m(self, endog, exog)\u001b[0m\n\u001b[1;32m    473\u001b[0m         \u001b[0mexog\u001b[0m \u001b[0;34m=\u001b[0m \u001b[0mexog\u001b[0m \u001b[0;32mif\u001b[0m \u001b[0mexog\u001b[0m \u001b[0;32mis\u001b[0m \u001b[0;32mNone\u001b[0m \u001b[0;32melse\u001b[0m \u001b[0mnp\u001b[0m\u001b[0;34m.\u001b[0m\u001b[0masarray\u001b[0m\u001b[0;34m(\u001b[0m\u001b[0mexog\u001b[0m\u001b[0;34m)\u001b[0m\u001b[0;34m\u001b[0m\u001b[0;34m\u001b[0m\u001b[0m\n\u001b[1;32m    474\u001b[0m         \u001b[0;32mif\u001b[0m \u001b[0mendog\u001b[0m\u001b[0;34m.\u001b[0m\u001b[0mdtype\u001b[0m \u001b[0;34m==\u001b[0m \u001b[0mobject\u001b[0m \u001b[0;32mor\u001b[0m \u001b[0mexog\u001b[0m \u001b[0;32mis\u001b[0m \u001b[0;32mnot\u001b[0m \u001b[0;32mNone\u001b[0m \u001b[0;32mand\u001b[0m \u001b[0mexog\u001b[0m\u001b[0;34m.\u001b[0m\u001b[0mdtype\u001b[0m \u001b[0;34m==\u001b[0m \u001b[0mobject\u001b[0m\u001b[0;34m:\u001b[0m\u001b[0;34m\u001b[0m\u001b[0;34m\u001b[0m\u001b[0m\n\u001b[0;32m--> 475\u001b[0;31m             raise ValueError(\"Pandas data cast to numpy dtype of object. \"\n\u001b[0m\u001b[1;32m    476\u001b[0m                              \"Check input data with np.asarray(data).\")\n\u001b[1;32m    477\u001b[0m         \u001b[0;32mreturn\u001b[0m \u001b[0msuper\u001b[0m\u001b[0;34m(\u001b[0m\u001b[0mPandasData\u001b[0m\u001b[0;34m,\u001b[0m \u001b[0mself\u001b[0m\u001b[0;34m)\u001b[0m\u001b[0;34m.\u001b[0m\u001b[0m_convert_endog_exog\u001b[0m\u001b[0;34m(\u001b[0m\u001b[0mendog\u001b[0m\u001b[0;34m,\u001b[0m \u001b[0mexog\u001b[0m\u001b[0;34m)\u001b[0m\u001b[0;34m\u001b[0m\u001b[0;34m\u001b[0m\u001b[0m\n",
            "\u001b[0;31mValueError\u001b[0m: Pandas data cast to numpy dtype of object. Check input data with np.asarray(data)."
          ]
        }
      ]
    },
    {
      "cell_type": "code",
      "source": [
        "from sklearn import datasets"
      ],
      "metadata": {
        "id": "b7Une2PDKPcs"
      },
      "execution_count": 165,
      "outputs": []
    },
    {
      "cell_type": "code",
      "source": [
        "from sklearn.linear_model import Lasso\n",
        "lasso = Lasso(alpha=1.0)\n",
        "lasso.fit(dt,dt.values)"
      ],
      "metadata": {
        "colab": {
          "base_uri": "https://localhost:8080/",
          "height": 345
        },
        "id": "f3Gap-kaKhtL",
        "outputId": "027e229c-5b8b-41be-9f68-04cf4ceab9aa"
      },
      "execution_count": 166,
      "outputs": [
        {
          "output_type": "error",
          "ename": "ValueError",
          "evalue": "ignored",
          "traceback": [
            "\u001b[0;31m---------------------------------------------------------------------------\u001b[0m",
            "\u001b[0;31mValueError\u001b[0m                                Traceback (most recent call last)",
            "\u001b[0;32m<ipython-input-166-3ed71b907341>\u001b[0m in \u001b[0;36m<module>\u001b[0;34m()\u001b[0m\n\u001b[1;32m      1\u001b[0m \u001b[0;32mfrom\u001b[0m \u001b[0msklearn\u001b[0m\u001b[0;34m.\u001b[0m\u001b[0mlinear_model\u001b[0m \u001b[0;32mimport\u001b[0m \u001b[0mLasso\u001b[0m\u001b[0;34m\u001b[0m\u001b[0;34m\u001b[0m\u001b[0m\n\u001b[1;32m      2\u001b[0m \u001b[0mlasso\u001b[0m \u001b[0;34m=\u001b[0m \u001b[0mLasso\u001b[0m\u001b[0;34m(\u001b[0m\u001b[0malpha\u001b[0m\u001b[0;34m=\u001b[0m\u001b[0;36m1.0\u001b[0m\u001b[0;34m)\u001b[0m\u001b[0;34m\u001b[0m\u001b[0;34m\u001b[0m\u001b[0m\n\u001b[0;32m----> 3\u001b[0;31m \u001b[0mlasso\u001b[0m\u001b[0;34m.\u001b[0m\u001b[0mfit\u001b[0m\u001b[0;34m(\u001b[0m\u001b[0mdt\u001b[0m\u001b[0;34m,\u001b[0m\u001b[0mdt\u001b[0m\u001b[0;34m.\u001b[0m\u001b[0mvalues\u001b[0m\u001b[0;34m)\u001b[0m\u001b[0;34m\u001b[0m\u001b[0;34m\u001b[0m\u001b[0m\n\u001b[0m",
            "\u001b[0;32m/usr/local/lib/python3.7/dist-packages/sklearn/linear_model/_coordinate_descent.py\u001b[0m in \u001b[0;36mfit\u001b[0;34m(self, X, y, sample_weight, check_input)\u001b[0m\n\u001b[1;32m    941\u001b[0m                 \u001b[0mcopy\u001b[0m\u001b[0;34m=\u001b[0m\u001b[0mX_copied\u001b[0m\u001b[0;34m,\u001b[0m\u001b[0;34m\u001b[0m\u001b[0;34m\u001b[0m\u001b[0m\n\u001b[1;32m    942\u001b[0m                 \u001b[0mmulti_output\u001b[0m\u001b[0;34m=\u001b[0m\u001b[0;32mTrue\u001b[0m\u001b[0;34m,\u001b[0m\u001b[0;34m\u001b[0m\u001b[0;34m\u001b[0m\u001b[0m\n\u001b[0;32m--> 943\u001b[0;31m                 \u001b[0my_numeric\u001b[0m\u001b[0;34m=\u001b[0m\u001b[0;32mTrue\u001b[0m\u001b[0;34m,\u001b[0m\u001b[0;34m\u001b[0m\u001b[0;34m\u001b[0m\u001b[0m\n\u001b[0m\u001b[1;32m    944\u001b[0m             )\n\u001b[1;32m    945\u001b[0m             y = check_array(\n",
            "\u001b[0;32m/usr/local/lib/python3.7/dist-packages/sklearn/base.py\u001b[0m in \u001b[0;36m_validate_data\u001b[0;34m(self, X, y, reset, validate_separately, **check_params)\u001b[0m\n\u001b[1;32m    579\u001b[0m                 \u001b[0my\u001b[0m \u001b[0;34m=\u001b[0m \u001b[0mcheck_array\u001b[0m\u001b[0;34m(\u001b[0m\u001b[0my\u001b[0m\u001b[0;34m,\u001b[0m \u001b[0;34m**\u001b[0m\u001b[0mcheck_y_params\u001b[0m\u001b[0;34m)\u001b[0m\u001b[0;34m\u001b[0m\u001b[0;34m\u001b[0m\u001b[0m\n\u001b[1;32m    580\u001b[0m             \u001b[0;32melse\u001b[0m\u001b[0;34m:\u001b[0m\u001b[0;34m\u001b[0m\u001b[0;34m\u001b[0m\u001b[0m\n\u001b[0;32m--> 581\u001b[0;31m                 \u001b[0mX\u001b[0m\u001b[0;34m,\u001b[0m \u001b[0my\u001b[0m \u001b[0;34m=\u001b[0m \u001b[0mcheck_X_y\u001b[0m\u001b[0;34m(\u001b[0m\u001b[0mX\u001b[0m\u001b[0;34m,\u001b[0m \u001b[0my\u001b[0m\u001b[0;34m,\u001b[0m \u001b[0;34m**\u001b[0m\u001b[0mcheck_params\u001b[0m\u001b[0;34m)\u001b[0m\u001b[0;34m\u001b[0m\u001b[0;34m\u001b[0m\u001b[0m\n\u001b[0m\u001b[1;32m    582\u001b[0m             \u001b[0mout\u001b[0m \u001b[0;34m=\u001b[0m \u001b[0mX\u001b[0m\u001b[0;34m,\u001b[0m \u001b[0my\u001b[0m\u001b[0;34m\u001b[0m\u001b[0;34m\u001b[0m\u001b[0m\n\u001b[1;32m    583\u001b[0m \u001b[0;34m\u001b[0m\u001b[0m\n",
            "\u001b[0;32m/usr/local/lib/python3.7/dist-packages/sklearn/utils/validation.py\u001b[0m in \u001b[0;36mcheck_X_y\u001b[0;34m(X, y, accept_sparse, accept_large_sparse, dtype, order, copy, force_all_finite, ensure_2d, allow_nd, multi_output, ensure_min_samples, ensure_min_features, y_numeric, estimator)\u001b[0m\n\u001b[1;32m    974\u001b[0m         \u001b[0mensure_min_samples\u001b[0m\u001b[0;34m=\u001b[0m\u001b[0mensure_min_samples\u001b[0m\u001b[0;34m,\u001b[0m\u001b[0;34m\u001b[0m\u001b[0;34m\u001b[0m\u001b[0m\n\u001b[1;32m    975\u001b[0m         \u001b[0mensure_min_features\u001b[0m\u001b[0;34m=\u001b[0m\u001b[0mensure_min_features\u001b[0m\u001b[0;34m,\u001b[0m\u001b[0;34m\u001b[0m\u001b[0;34m\u001b[0m\u001b[0m\n\u001b[0;32m--> 976\u001b[0;31m         \u001b[0mestimator\u001b[0m\u001b[0;34m=\u001b[0m\u001b[0mestimator\u001b[0m\u001b[0;34m,\u001b[0m\u001b[0;34m\u001b[0m\u001b[0;34m\u001b[0m\u001b[0m\n\u001b[0m\u001b[1;32m    977\u001b[0m     )\n\u001b[1;32m    978\u001b[0m \u001b[0;34m\u001b[0m\u001b[0m\n",
            "\u001b[0;32m/usr/local/lib/python3.7/dist-packages/sklearn/utils/validation.py\u001b[0m in \u001b[0;36mcheck_array\u001b[0;34m(array, accept_sparse, accept_large_sparse, dtype, order, copy, force_all_finite, ensure_2d, allow_nd, ensure_min_samples, ensure_min_features, estimator)\u001b[0m\n\u001b[1;32m    744\u001b[0m                     \u001b[0marray\u001b[0m \u001b[0;34m=\u001b[0m \u001b[0marray\u001b[0m\u001b[0;34m.\u001b[0m\u001b[0mastype\u001b[0m\u001b[0;34m(\u001b[0m\u001b[0mdtype\u001b[0m\u001b[0;34m,\u001b[0m \u001b[0mcasting\u001b[0m\u001b[0;34m=\u001b[0m\u001b[0;34m\"unsafe\"\u001b[0m\u001b[0;34m,\u001b[0m \u001b[0mcopy\u001b[0m\u001b[0;34m=\u001b[0m\u001b[0;32mFalse\u001b[0m\u001b[0;34m)\u001b[0m\u001b[0;34m\u001b[0m\u001b[0;34m\u001b[0m\u001b[0m\n\u001b[1;32m    745\u001b[0m                 \u001b[0;32melse\u001b[0m\u001b[0;34m:\u001b[0m\u001b[0;34m\u001b[0m\u001b[0;34m\u001b[0m\u001b[0m\n\u001b[0;32m--> 746\u001b[0;31m                     \u001b[0marray\u001b[0m \u001b[0;34m=\u001b[0m \u001b[0mnp\u001b[0m\u001b[0;34m.\u001b[0m\u001b[0masarray\u001b[0m\u001b[0;34m(\u001b[0m\u001b[0marray\u001b[0m\u001b[0;34m,\u001b[0m \u001b[0morder\u001b[0m\u001b[0;34m=\u001b[0m\u001b[0morder\u001b[0m\u001b[0;34m,\u001b[0m \u001b[0mdtype\u001b[0m\u001b[0;34m=\u001b[0m\u001b[0mdtype\u001b[0m\u001b[0;34m)\u001b[0m\u001b[0;34m\u001b[0m\u001b[0;34m\u001b[0m\u001b[0m\n\u001b[0m\u001b[1;32m    747\u001b[0m             \u001b[0;32mexcept\u001b[0m \u001b[0mComplexWarning\u001b[0m \u001b[0;32mas\u001b[0m \u001b[0mcomplex_warning\u001b[0m\u001b[0;34m:\u001b[0m\u001b[0;34m\u001b[0m\u001b[0;34m\u001b[0m\u001b[0m\n\u001b[1;32m    748\u001b[0m                 raise ValueError(\n",
            "\u001b[0;32m/usr/local/lib/python3.7/dist-packages/pandas/core/generic.py\u001b[0m in \u001b[0;36m__array__\u001b[0;34m(self, dtype)\u001b[0m\n\u001b[1;32m   1991\u001b[0m \u001b[0;34m\u001b[0m\u001b[0m\n\u001b[1;32m   1992\u001b[0m     \u001b[0;32mdef\u001b[0m \u001b[0m__array__\u001b[0m\u001b[0;34m(\u001b[0m\u001b[0mself\u001b[0m\u001b[0;34m,\u001b[0m \u001b[0mdtype\u001b[0m\u001b[0;34m:\u001b[0m \u001b[0mNpDtype\u001b[0m \u001b[0;34m|\u001b[0m \u001b[0;32mNone\u001b[0m \u001b[0;34m=\u001b[0m \u001b[0;32mNone\u001b[0m\u001b[0;34m)\u001b[0m \u001b[0;34m->\u001b[0m \u001b[0mnp\u001b[0m\u001b[0;34m.\u001b[0m\u001b[0mndarray\u001b[0m\u001b[0;34m:\u001b[0m\u001b[0;34m\u001b[0m\u001b[0;34m\u001b[0m\u001b[0m\n\u001b[0;32m-> 1993\u001b[0;31m         \u001b[0;32mreturn\u001b[0m \u001b[0mnp\u001b[0m\u001b[0;34m.\u001b[0m\u001b[0masarray\u001b[0m\u001b[0;34m(\u001b[0m\u001b[0mself\u001b[0m\u001b[0;34m.\u001b[0m\u001b[0m_values\u001b[0m\u001b[0;34m,\u001b[0m \u001b[0mdtype\u001b[0m\u001b[0;34m=\u001b[0m\u001b[0mdtype\u001b[0m\u001b[0;34m)\u001b[0m\u001b[0;34m\u001b[0m\u001b[0;34m\u001b[0m\u001b[0m\n\u001b[0m\u001b[1;32m   1994\u001b[0m \u001b[0;34m\u001b[0m\u001b[0m\n\u001b[1;32m   1995\u001b[0m     def __array_wrap__(\n",
            "\u001b[0;31mValueError\u001b[0m: could not convert string to float: 'Hamburg'"
          ]
        }
      ]
    },
    {
      "cell_type": "code",
      "source": [
        "sklearn.linear_model.Ridge(alpha=1.0)"
      ],
      "metadata": {
        "colab": {
          "base_uri": "https://localhost:8080/"
        },
        "id": "nyn6S8_lK1dy",
        "outputId": "cf6f275a-2bfc-44b1-b7ba-a3d7ee19b7aa"
      },
      "execution_count": 167,
      "outputs": [
        {
          "output_type": "execute_result",
          "data": {
            "text/plain": [
              "Ridge()"
            ]
          },
          "metadata": {},
          "execution_count": 167
        }
      ]
    }
  ]
}